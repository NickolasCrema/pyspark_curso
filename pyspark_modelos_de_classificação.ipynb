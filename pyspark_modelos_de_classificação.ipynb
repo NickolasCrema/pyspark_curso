{
  "nbformat": 4,
  "nbformat_minor": 0,
  "metadata": {
    "colab": {
      "provenance": [],
      "authorship_tag": "ABX9TyPK4wAcFadRHVsSPvbNWfFj",
      "include_colab_link": true
    },
    "kernelspec": {
      "name": "python3",
      "display_name": "Python 3"
    },
    "language_info": {
      "name": "python"
    }
  },
  "cells": [
    {
      "cell_type": "markdown",
      "metadata": {
        "id": "view-in-github",
        "colab_type": "text"
      },
      "source": [
        "<a href=\"https://colab.research.google.com/github/NickolasCrema/pyspark_curso/blob/main/pyspark_modelos_de_classifica%C3%A7%C3%A3o.ipynb\" target=\"_parent\"><img src=\"https://colab.research.google.com/assets/colab-badge.svg\" alt=\"Open In Colab\"/></a>"
      ]
    },
    {
      "cell_type": "markdown",
      "source": [
        "# Curso \"Spark: criando modelos de classificação\""
      ],
      "metadata": {
        "id": "xDEcxZ-WIYEK"
      }
    },
    {
      "cell_type": "markdown",
      "source": [
        "## Preparando ambiente"
      ],
      "metadata": {
        "id": "KTrS4B4dIhPS"
      }
    },
    {
      "cell_type": "code",
      "execution_count": null,
      "metadata": {
        "colab": {
          "base_uri": "https://localhost:8080/"
        },
        "id": "31qJDGcXISHk",
        "outputId": "86a1228f-100c-4c60-f8b4-72bf6f543501"
      },
      "outputs": [
        {
          "output_type": "stream",
          "name": "stdout",
          "text": [
            "Looking in indexes: https://pypi.org/simple, https://us-python.pkg.dev/colab-wheels/public/simple/\n",
            "Collecting pyspark\n",
            "  Downloading pyspark-3.4.0.tar.gz (310.8 MB)\n",
            "\u001b[2K     \u001b[90m━━━━━━━━━━━━━━━━━━━━━━━━━━━━━━━━━━━━━━━\u001b[0m \u001b[32m310.8/310.8 MB\u001b[0m \u001b[31m4.4 MB/s\u001b[0m eta \u001b[36m0:00:00\u001b[0m\n",
            "\u001b[?25h  Preparing metadata (setup.py) ... \u001b[?25l\u001b[?25hdone\n",
            "Requirement already satisfied: py4j==0.10.9.7 in /usr/local/lib/python3.10/dist-packages (from pyspark) (0.10.9.7)\n",
            "Building wheels for collected packages: pyspark\n",
            "  Building wheel for pyspark (setup.py) ... \u001b[?25l\u001b[?25hdone\n",
            "  Created wheel for pyspark: filename=pyspark-3.4.0-py2.py3-none-any.whl size=311317130 sha256=2fc789e1d0eb1c3e7eb6524b40b7e928115eac6445029cdfeea9a079eb4904cf\n",
            "  Stored in directory: /root/.cache/pip/wheels/7b/1b/4b/3363a1d04368e7ff0d408e57ff57966fcdf00583774e761327\n",
            "Successfully built pyspark\n",
            "Installing collected packages: pyspark\n",
            "Successfully installed pyspark-3.4.0\n"
          ]
        }
      ],
      "source": [
        "!pip install pyspark"
      ]
    },
    {
      "cell_type": "code",
      "source": [
        "from pyspark.sql import SparkSession\n",
        "from pyspark.sql import functions as f\n",
        "from pyspark.ml.tuning import CrossValidator, ParamGridBuilder\n",
        "from pyspark.ml.classification import LogisticRegression, DecisionTreeClassifier, RandomForestClassifier\n",
        "from pyspark.ml.feature import VectorAssembler"
      ],
      "metadata": {
        "id": "DCRhvoLQIlQb"
      },
      "execution_count": null,
      "outputs": []
    },
    {
      "cell_type": "code",
      "source": [
        "spark = SparkSession.builder\\\n",
        "    .master('local[*]')\\\n",
        "    .appName('Criando modelos de classificação')\\\n",
        "    .getOrCreate()\n",
        "\n",
        "spark"
      ],
      "metadata": {
        "colab": {
          "base_uri": "https://localhost:8080/",
          "height": 219
        },
        "id": "6qh2-YCtInxC",
        "outputId": "9607c38d-4152-4eb9-a488-25c01cced64c"
      },
      "execution_count": null,
      "outputs": [
        {
          "output_type": "execute_result",
          "data": {
            "text/plain": [
              "<pyspark.sql.session.SparkSession at 0x7f8424793f10>"
            ],
            "text/html": [
              "\n",
              "            <div>\n",
              "                <p><b>SparkSession - in-memory</b></p>\n",
              "                \n",
              "        <div>\n",
              "            <p><b>SparkContext</b></p>\n",
              "\n",
              "            <p><a href=\"http://e4a0ab88048c:4040\">Spark UI</a></p>\n",
              "\n",
              "            <dl>\n",
              "              <dt>Version</dt>\n",
              "                <dd><code>v3.4.0</code></dd>\n",
              "              <dt>Master</dt>\n",
              "                <dd><code>local[*]</code></dd>\n",
              "              <dt>AppName</dt>\n",
              "                <dd><code>Criando modelos de classificação</code></dd>\n",
              "            </dl>\n",
              "        </div>\n",
              "        \n",
              "            </div>\n",
              "        "
            ]
          },
          "metadata": {},
          "execution_count": 3
        }
      ]
    },
    {
      "cell_type": "code",
      "source": [
        "from google.colab import drive\n",
        "drive.mount('/content/drive')"
      ],
      "metadata": {
        "colab": {
          "base_uri": "https://localhost:8080/"
        },
        "id": "w99--mcTJA8c",
        "outputId": "ac1ff95a-422c-4591-fcbb-516436649f19"
      },
      "execution_count": null,
      "outputs": [
        {
          "output_type": "stream",
          "name": "stdout",
          "text": [
            "Mounted at /content/drive\n"
          ]
        }
      ]
    },
    {
      "cell_type": "markdown",
      "source": [
        "## Carregando dados"
      ],
      "metadata": {
        "id": "ealGNpUKJ-1a"
      }
    },
    {
      "cell_type": "code",
      "source": [
        "dados = spark.read.csv('/content/drive/MyDrive/data_spark_modelos_classificacao/dados_clientes.csv', sep=',', header=True, inferSchema=True)"
      ],
      "metadata": {
        "id": "TIYVwqjCJm09"
      },
      "execution_count": null,
      "outputs": []
    },
    {
      "cell_type": "code",
      "source": [
        "dados.limit(10).show(truncate=False)"
      ],
      "metadata": {
        "colab": {
          "base_uri": "https://localhost:8080/"
        },
        "id": "HY3mixfjKJMU",
        "outputId": "d381ed2c-869c-49b1-f215-becaf5b5f144"
      },
      "execution_count": null,
      "outputs": [
        {
          "output_type": "stream",
          "name": "stdout",
          "text": [
            "+---+-----+----------+-------+-----------+---------------+------------+------------------------+-----------+---------------+------------+-----------------+--------------+-------+---------------+------------+------------+----------------+-------------+\n",
            "|id |Churn|Mais65anos|Conjuge|Dependentes|MesesDeContrato|TelefoneFixo|MaisDeUmaLinhaTelefonica|Internet   |SegurancaOnline|BackupOnline|SeguroDispositivo|SuporteTecnico|TVaCabo|StreamingFilmes|TipoContrato|ContaCorreio|MetodoPagamento |MesesCobrados|\n",
            "+---+-----+----------+-------+-----------+---------------+------------+------------------------+-----------+---------------+------------+-----------------+--------------+-------+---------------+------------+------------+----------------+-------------+\n",
            "|0  |Nao  |0         |Sim    |Nao        |1              |Nao         |SemServicoTelefonico    |DSL        |Nao            |Sim         |Nao              |Nao           |Nao    |Nao            |Mensalmente |Sim         |BoletoEletronico|29.85        |\n",
            "|1  |Nao  |0         |Nao    |Nao        |34             |Sim         |Nao                     |DSL        |Sim            |Nao         |Sim              |Nao           |Nao    |Nao            |UmAno       |Nao         |Boleto          |56.95        |\n",
            "|2  |Sim  |0         |Nao    |Nao        |2              |Sim         |Nao                     |DSL        |Sim            |Sim         |Nao              |Nao           |Nao    |Nao            |Mensalmente |Sim         |Boleto          |53.85        |\n",
            "|3  |Nao  |0         |Nao    |Nao        |45             |Nao         |SemServicoTelefonico    |DSL        |Sim            |Nao         |Sim              |Sim           |Nao    |Nao            |UmAno       |Nao         |DebitoEmConta   |42.3         |\n",
            "|4  |Sim  |0         |Nao    |Nao        |2              |Sim         |Nao                     |FibraOptica|Nao            |Nao         |Nao              |Nao           |Nao    |Nao            |Mensalmente |Sim         |BoletoEletronico|70.7         |\n",
            "|5  |Sim  |0         |Nao    |Nao        |8              |Sim         |Sim                     |FibraOptica|Nao            |Nao         |Sim              |Nao           |Sim    |Sim            |Mensalmente |Sim         |BoletoEletronico|99.65        |\n",
            "|6  |Nao  |0         |Nao    |Sim        |22             |Sim         |Sim                     |FibraOptica|Nao            |Sim         |Nao              |Nao           |Sim    |Nao            |Mensalmente |Sim         |CartaoCredito   |89.1         |\n",
            "|7  |Nao  |0         |Nao    |Nao        |10             |Nao         |SemServicoTelefonico    |DSL        |Sim            |Nao         |Nao              |Nao           |Nao    |Nao            |Mensalmente |Nao         |Boleto          |29.75        |\n",
            "|8  |Sim  |0         |Sim    |Nao        |28             |Sim         |Sim                     |FibraOptica|Nao            |Nao         |Sim              |Sim           |Sim    |Sim            |Mensalmente |Sim         |BoletoEletronico|104.8        |\n",
            "|9  |Nao  |0         |Nao    |Sim        |62             |Sim         |Nao                     |DSL        |Sim            |Sim         |Nao              |Nao           |Nao    |Nao            |UmAno       |Nao         |DebitoEmConta   |56.15        |\n",
            "+---+-----+----------+-------+-----------+---------------+------------+------------------------+-----------+---------------+------------+-----------------+--------------+-------+---------------+------------+------------+----------------+-------------+\n",
            "\n"
          ]
        }
      ]
    },
    {
      "cell_type": "code",
      "source": [
        "dados.printSchema()"
      ],
      "metadata": {
        "colab": {
          "base_uri": "https://localhost:8080/"
        },
        "id": "sybChfTSKNBz",
        "outputId": "b64df0cf-afca-4a3d-c1d8-a30a073f6ab8"
      },
      "execution_count": null,
      "outputs": [
        {
          "output_type": "stream",
          "name": "stdout",
          "text": [
            "root\n",
            " |-- id: integer (nullable = true)\n",
            " |-- Churn: string (nullable = true)\n",
            " |-- Mais65anos: integer (nullable = true)\n",
            " |-- Conjuge: string (nullable = true)\n",
            " |-- Dependentes: string (nullable = true)\n",
            " |-- MesesDeContrato: integer (nullable = true)\n",
            " |-- TelefoneFixo: string (nullable = true)\n",
            " |-- MaisDeUmaLinhaTelefonica: string (nullable = true)\n",
            " |-- Internet: string (nullable = true)\n",
            " |-- SegurancaOnline: string (nullable = true)\n",
            " |-- BackupOnline: string (nullable = true)\n",
            " |-- SeguroDispositivo: string (nullable = true)\n",
            " |-- SuporteTecnico: string (nullable = true)\n",
            " |-- TVaCabo: string (nullable = true)\n",
            " |-- StreamingFilmes: string (nullable = true)\n",
            " |-- TipoContrato: string (nullable = true)\n",
            " |-- ContaCorreio: string (nullable = true)\n",
            " |-- MetodoPagamento: string (nullable = true)\n",
            " |-- MesesCobrados: double (nullable = true)\n",
            "\n"
          ]
        }
      ]
    },
    {
      "cell_type": "code",
      "source": [
        "dados.count()"
      ],
      "metadata": {
        "colab": {
          "base_uri": "https://localhost:8080/"
        },
        "id": "uF-4uiFKKPYr",
        "outputId": "0669c177-c0b9-4127-f77b-57b0221d5e29"
      },
      "execution_count": null,
      "outputs": [
        {
          "output_type": "execute_result",
          "data": {
            "text/plain": [
              "10348"
            ]
          },
          "metadata": {},
          "execution_count": 8
        }
      ]
    },
    {
      "cell_type": "code",
      "source": [
        "dados.groupBy('Churn')\\\n",
        "    .count()\\\n",
        "    .show()"
      ],
      "metadata": {
        "colab": {
          "base_uri": "https://localhost:8080/"
        },
        "id": "uECJ1ckNKV2U",
        "outputId": "488222bf-4b4f-4a6c-88d2-2c6cb4c47fe8"
      },
      "execution_count": null,
      "outputs": [
        {
          "output_type": "stream",
          "name": "stdout",
          "text": [
            "+-----+-----+\n",
            "|Churn|count|\n",
            "+-----+-----+\n",
            "|  Sim| 5174|\n",
            "|  Nao| 5174|\n",
            "+-----+-----+\n",
            "\n"
          ]
        }
      ]
    },
    {
      "cell_type": "markdown",
      "source": [
        "## Tratamento dos dados"
      ],
      "metadata": {
        "id": "PKSwCNq5K-uo"
      }
    },
    {
      "cell_type": "code",
      "source": [
        "colunas_binarias = [\n",
        "    'Churn',\n",
        "    'Conjuge',\n",
        "    'Dependentes',\n",
        "    'TelefoneFixo',\n",
        "    'MaisDeUmaLinhaTelefonica',\n",
        "    'SegurancaOnline',\n",
        "    'BackupOnline',\n",
        "    'SeguroDispositivo',\n",
        "    'SuporteTecnico',\n",
        "    'TVaCabo',\n",
        "    'StreamingFilmes',\n",
        "    'ContaCorreio'\n",
        "]"
      ],
      "metadata": {
        "id": "lUFpS2BeKvlf"
      },
      "execution_count": null,
      "outputs": []
    },
    {
      "cell_type": "code",
      "source": [
        "todas_colunas = [f.when(f.col(i)=='Sim', 1).otherwise(0).alias(i) for i in colunas_binarias]\n",
        "todas_colunas"
      ],
      "metadata": {
        "colab": {
          "base_uri": "https://localhost:8080/"
        },
        "id": "GPws4VzELdyi",
        "outputId": "fd3dc035-159b-47d7-85e1-1730bd128554"
      },
      "execution_count": null,
      "outputs": [
        {
          "output_type": "execute_result",
          "data": {
            "text/plain": [
              "[Column<'CASE WHEN (Churn = Sim) THEN 1 ELSE 0 END AS Churn'>,\n",
              " Column<'CASE WHEN (Conjuge = Sim) THEN 1 ELSE 0 END AS Conjuge'>,\n",
              " Column<'CASE WHEN (Dependentes = Sim) THEN 1 ELSE 0 END AS Dependentes'>,\n",
              " Column<'CASE WHEN (TelefoneFixo = Sim) THEN 1 ELSE 0 END AS TelefoneFixo'>,\n",
              " Column<'CASE WHEN (MaisDeUmaLinhaTelefonica = Sim) THEN 1 ELSE 0 END AS MaisDeUmaLinhaTelefonica'>,\n",
              " Column<'CASE WHEN (SegurancaOnline = Sim) THEN 1 ELSE 0 END AS SegurancaOnline'>,\n",
              " Column<'CASE WHEN (BackupOnline = Sim) THEN 1 ELSE 0 END AS BackupOnline'>,\n",
              " Column<'CASE WHEN (SeguroDispositivo = Sim) THEN 1 ELSE 0 END AS SeguroDispositivo'>,\n",
              " Column<'CASE WHEN (SuporteTecnico = Sim) THEN 1 ELSE 0 END AS SuporteTecnico'>,\n",
              " Column<'CASE WHEN (TVaCabo = Sim) THEN 1 ELSE 0 END AS TVaCabo'>,\n",
              " Column<'CASE WHEN (StreamingFilmes = Sim) THEN 1 ELSE 0 END AS StreamingFilmes'>,\n",
              " Column<'CASE WHEN (ContaCorreio = Sim) THEN 1 ELSE 0 END AS ContaCorreio'>]"
            ]
          },
          "metadata": {},
          "execution_count": 11
        }
      ]
    },
    {
      "cell_type": "code",
      "source": [
        "for coluna in reversed(dados.columns):\n",
        "  if coluna not in colunas_binarias:\n",
        "    todas_colunas.insert(0, coluna)\n",
        "\n",
        "todas_colunas"
      ],
      "metadata": {
        "colab": {
          "base_uri": "https://localhost:8080/"
        },
        "id": "9YgS6B8SMJAS",
        "outputId": "699de0cf-9683-43fe-f8a6-981014b8479f"
      },
      "execution_count": null,
      "outputs": [
        {
          "output_type": "execute_result",
          "data": {
            "text/plain": [
              "['id',\n",
              " 'Mais65anos',\n",
              " 'MesesDeContrato',\n",
              " 'Internet',\n",
              " 'TipoContrato',\n",
              " 'MetodoPagamento',\n",
              " 'MesesCobrados',\n",
              " Column<'CASE WHEN (Churn = Sim) THEN 1 ELSE 0 END AS Churn'>,\n",
              " Column<'CASE WHEN (Conjuge = Sim) THEN 1 ELSE 0 END AS Conjuge'>,\n",
              " Column<'CASE WHEN (Dependentes = Sim) THEN 1 ELSE 0 END AS Dependentes'>,\n",
              " Column<'CASE WHEN (TelefoneFixo = Sim) THEN 1 ELSE 0 END AS TelefoneFixo'>,\n",
              " Column<'CASE WHEN (MaisDeUmaLinhaTelefonica = Sim) THEN 1 ELSE 0 END AS MaisDeUmaLinhaTelefonica'>,\n",
              " Column<'CASE WHEN (SegurancaOnline = Sim) THEN 1 ELSE 0 END AS SegurancaOnline'>,\n",
              " Column<'CASE WHEN (BackupOnline = Sim) THEN 1 ELSE 0 END AS BackupOnline'>,\n",
              " Column<'CASE WHEN (SeguroDispositivo = Sim) THEN 1 ELSE 0 END AS SeguroDispositivo'>,\n",
              " Column<'CASE WHEN (SuporteTecnico = Sim) THEN 1 ELSE 0 END AS SuporteTecnico'>,\n",
              " Column<'CASE WHEN (TVaCabo = Sim) THEN 1 ELSE 0 END AS TVaCabo'>,\n",
              " Column<'CASE WHEN (StreamingFilmes = Sim) THEN 1 ELSE 0 END AS StreamingFilmes'>,\n",
              " Column<'CASE WHEN (ContaCorreio = Sim) THEN 1 ELSE 0 END AS ContaCorreio'>]"
            ]
          },
          "metadata": {},
          "execution_count": 12
        }
      ]
    },
    {
      "cell_type": "code",
      "source": [
        "dados.select(todas_colunas).show(10, truncate=False)"
      ],
      "metadata": {
        "colab": {
          "base_uri": "https://localhost:8080/"
        },
        "id": "oXA6eovMMJ_q",
        "outputId": "839d299a-fe4c-4078-ee9c-fb766ac2643e"
      },
      "execution_count": null,
      "outputs": [
        {
          "output_type": "stream",
          "name": "stdout",
          "text": [
            "+---+----------+---------------+-----------+------------+----------------+-------------+-----+-------+-----------+------------+------------------------+---------------+------------+-----------------+--------------+-------+---------------+------------+\n",
            "|id |Mais65anos|MesesDeContrato|Internet   |TipoContrato|MetodoPagamento |MesesCobrados|Churn|Conjuge|Dependentes|TelefoneFixo|MaisDeUmaLinhaTelefonica|SegurancaOnline|BackupOnline|SeguroDispositivo|SuporteTecnico|TVaCabo|StreamingFilmes|ContaCorreio|\n",
            "+---+----------+---------------+-----------+------------+----------------+-------------+-----+-------+-----------+------------+------------------------+---------------+------------+-----------------+--------------+-------+---------------+------------+\n",
            "|0  |0         |1              |DSL        |Mensalmente |BoletoEletronico|29.85        |0    |1      |0          |0           |0                       |0              |1           |0                |0             |0      |0              |1           |\n",
            "|1  |0         |34             |DSL        |UmAno       |Boleto          |56.95        |0    |0      |0          |1           |0                       |1              |0           |1                |0             |0      |0              |0           |\n",
            "|2  |0         |2              |DSL        |Mensalmente |Boleto          |53.85        |1    |0      |0          |1           |0                       |1              |1           |0                |0             |0      |0              |1           |\n",
            "|3  |0         |45             |DSL        |UmAno       |DebitoEmConta   |42.3         |0    |0      |0          |0           |0                       |1              |0           |1                |1             |0      |0              |0           |\n",
            "|4  |0         |2              |FibraOptica|Mensalmente |BoletoEletronico|70.7         |1    |0      |0          |1           |0                       |0              |0           |0                |0             |0      |0              |1           |\n",
            "|5  |0         |8              |FibraOptica|Mensalmente |BoletoEletronico|99.65        |1    |0      |0          |1           |1                       |0              |0           |1                |0             |1      |1              |1           |\n",
            "|6  |0         |22             |FibraOptica|Mensalmente |CartaoCredito   |89.1         |0    |0      |1          |1           |1                       |0              |1           |0                |0             |1      |0              |1           |\n",
            "|7  |0         |10             |DSL        |Mensalmente |Boleto          |29.75        |0    |0      |0          |0           |0                       |1              |0           |0                |0             |0      |0              |0           |\n",
            "|8  |0         |28             |FibraOptica|Mensalmente |BoletoEletronico|104.8        |1    |1      |0          |1           |1                       |0              |0           |1                |1             |1      |1              |1           |\n",
            "|9  |0         |62             |DSL        |UmAno       |DebitoEmConta   |56.15        |0    |0      |1          |1           |0                       |1              |1           |0                |0             |0      |0              |0           |\n",
            "+---+----------+---------------+-----------+------------+----------------+-------------+-----+-------+-----------+------------+------------------------+---------------+------------+-----------------+--------------+-------+---------------+------------+\n",
            "only showing top 10 rows\n",
            "\n"
          ]
        }
      ]
    },
    {
      "cell_type": "code",
      "source": [
        "dataset = dados.select(todas_colunas)\n",
        "dataset.show(10, truncate=False)"
      ],
      "metadata": {
        "colab": {
          "base_uri": "https://localhost:8080/"
        },
        "id": "gQj0ITItMp8b",
        "outputId": "bffd9ff8-ccc5-42fe-9498-9bbc15824965"
      },
      "execution_count": null,
      "outputs": [
        {
          "output_type": "stream",
          "name": "stdout",
          "text": [
            "+---+----------+---------------+-----------+------------+----------------+-------------+-----+-------+-----------+------------+------------------------+---------------+------------+-----------------+--------------+-------+---------------+------------+\n",
            "|id |Mais65anos|MesesDeContrato|Internet   |TipoContrato|MetodoPagamento |MesesCobrados|Churn|Conjuge|Dependentes|TelefoneFixo|MaisDeUmaLinhaTelefonica|SegurancaOnline|BackupOnline|SeguroDispositivo|SuporteTecnico|TVaCabo|StreamingFilmes|ContaCorreio|\n",
            "+---+----------+---------------+-----------+------------+----------------+-------------+-----+-------+-----------+------------+------------------------+---------------+------------+-----------------+--------------+-------+---------------+------------+\n",
            "|0  |0         |1              |DSL        |Mensalmente |BoletoEletronico|29.85        |0    |1      |0          |0           |0                       |0              |1           |0                |0             |0      |0              |1           |\n",
            "|1  |0         |34             |DSL        |UmAno       |Boleto          |56.95        |0    |0      |0          |1           |0                       |1              |0           |1                |0             |0      |0              |0           |\n",
            "|2  |0         |2              |DSL        |Mensalmente |Boleto          |53.85        |1    |0      |0          |1           |0                       |1              |1           |0                |0             |0      |0              |1           |\n",
            "|3  |0         |45             |DSL        |UmAno       |DebitoEmConta   |42.3         |0    |0      |0          |0           |0                       |1              |0           |1                |1             |0      |0              |0           |\n",
            "|4  |0         |2              |FibraOptica|Mensalmente |BoletoEletronico|70.7         |1    |0      |0          |1           |0                       |0              |0           |0                |0             |0      |0              |1           |\n",
            "|5  |0         |8              |FibraOptica|Mensalmente |BoletoEletronico|99.65        |1    |0      |0          |1           |1                       |0              |0           |1                |0             |1      |1              |1           |\n",
            "|6  |0         |22             |FibraOptica|Mensalmente |CartaoCredito   |89.1         |0    |0      |1          |1           |1                       |0              |1           |0                |0             |1      |0              |1           |\n",
            "|7  |0         |10             |DSL        |Mensalmente |Boleto          |29.75        |0    |0      |0          |0           |0                       |1              |0           |0                |0             |0      |0              |0           |\n",
            "|8  |0         |28             |FibraOptica|Mensalmente |BoletoEletronico|104.8        |1    |1      |0          |1           |1                       |0              |0           |1                |1             |1      |1              |1           |\n",
            "|9  |0         |62             |DSL        |UmAno       |DebitoEmConta   |56.15        |0    |0      |1          |1           |0                       |1              |1           |0                |0             |0      |0              |0           |\n",
            "+---+----------+---------------+-----------+------------+----------------+-------------+-----+-------+-----------+------------+------------------------+---------------+------------+-----------------+--------------+-------+---------------+------------+\n",
            "only showing top 10 rows\n",
            "\n"
          ]
        }
      ]
    },
    {
      "cell_type": "code",
      "source": [
        "dataset.printSchema()"
      ],
      "metadata": {
        "colab": {
          "base_uri": "https://localhost:8080/"
        },
        "id": "4e8X9Jw8MwlD",
        "outputId": "9d073f51-2d46-4fdb-d9cb-46279cbc5a74"
      },
      "execution_count": null,
      "outputs": [
        {
          "output_type": "stream",
          "name": "stdout",
          "text": [
            "root\n",
            " |-- id: integer (nullable = true)\n",
            " |-- Mais65anos: integer (nullable = true)\n",
            " |-- MesesDeContrato: integer (nullable = true)\n",
            " |-- Internet: string (nullable = true)\n",
            " |-- TipoContrato: string (nullable = true)\n",
            " |-- MetodoPagamento: string (nullable = true)\n",
            " |-- MesesCobrados: double (nullable = true)\n",
            " |-- Churn: integer (nullable = false)\n",
            " |-- Conjuge: integer (nullable = false)\n",
            " |-- Dependentes: integer (nullable = false)\n",
            " |-- TelefoneFixo: integer (nullable = false)\n",
            " |-- MaisDeUmaLinhaTelefonica: integer (nullable = false)\n",
            " |-- SegurancaOnline: integer (nullable = false)\n",
            " |-- BackupOnline: integer (nullable = false)\n",
            " |-- SeguroDispositivo: integer (nullable = false)\n",
            " |-- SuporteTecnico: integer (nullable = false)\n",
            " |-- TVaCabo: integer (nullable = false)\n",
            " |-- StreamingFilmes: integer (nullable = false)\n",
            " |-- ContaCorreio: integer (nullable = false)\n",
            "\n"
          ]
        }
      ]
    },
    {
      "cell_type": "markdown",
      "source": [
        "## Criando Dummies"
      ],
      "metadata": {
        "id": "RajUvQ9YtWMc"
      }
    },
    {
      "cell_type": "code",
      "source": [
        "dados.select(['Internet', 'TipoContrato', 'MetodoPagamento']).show()"
      ],
      "metadata": {
        "id": "vXmBvTKpMz9y",
        "colab": {
          "base_uri": "https://localhost:8080/"
        },
        "outputId": "66bfd0da-ed54-4289-8328-982889999622"
      },
      "execution_count": null,
      "outputs": [
        {
          "output_type": "stream",
          "name": "stdout",
          "text": [
            "+-----------+------------+----------------+\n",
            "|   Internet|TipoContrato| MetodoPagamento|\n",
            "+-----------+------------+----------------+\n",
            "|        DSL| Mensalmente|BoletoEletronico|\n",
            "|        DSL|       UmAno|          Boleto|\n",
            "|        DSL| Mensalmente|          Boleto|\n",
            "|        DSL|       UmAno|   DebitoEmConta|\n",
            "|FibraOptica| Mensalmente|BoletoEletronico|\n",
            "|FibraOptica| Mensalmente|BoletoEletronico|\n",
            "|FibraOptica| Mensalmente|   CartaoCredito|\n",
            "|        DSL| Mensalmente|          Boleto|\n",
            "|FibraOptica| Mensalmente|BoletoEletronico|\n",
            "|        DSL|       UmAno|   DebitoEmConta|\n",
            "|        DSL| Mensalmente|          Boleto|\n",
            "|        Nao|    DoisAnos|   CartaoCredito|\n",
            "|FibraOptica|       UmAno|   CartaoCredito|\n",
            "|FibraOptica| Mensalmente|   DebitoEmConta|\n",
            "|FibraOptica| Mensalmente|BoletoEletronico|\n",
            "|FibraOptica|    DoisAnos|   CartaoCredito|\n",
            "|        Nao|       UmAno|          Boleto|\n",
            "|FibraOptica|    DoisAnos|   DebitoEmConta|\n",
            "|        DSL| Mensalmente|   CartaoCredito|\n",
            "|FibraOptica| Mensalmente|BoletoEletronico|\n",
            "+-----------+------------+----------------+\n",
            "only showing top 20 rows\n",
            "\n"
          ]
        }
      ]
    },
    {
      "cell_type": "code",
      "source": [
        "internet = dataset.groupBy('id')\\\n",
        "    .pivot('Internet')\\\n",
        "    .agg(f.lit(1))\\\n",
        "    .na\\\n",
        "    .fill(0)\n",
        "\n",
        "internet.show()"
      ],
      "metadata": {
        "colab": {
          "base_uri": "https://localhost:8080/"
        },
        "id": "6xh-KZHFtfYN",
        "outputId": "cad811e4-cb27-4138-95c9-5b6d43d9814e"
      },
      "execution_count": null,
      "outputs": [
        {
          "output_type": "stream",
          "name": "stdout",
          "text": [
            "+----+---+-----------+---+\n",
            "|  id|DSL|FibraOptica|Nao|\n",
            "+----+---+-----------+---+\n",
            "|7982|  1|          0|  0|\n",
            "|9465|  0|          1|  0|\n",
            "|2122|  1|          0|  0|\n",
            "|3997|  1|          0|  0|\n",
            "|6654|  0|          1|  0|\n",
            "|7880|  0|          1|  0|\n",
            "|4519|  0|          1|  0|\n",
            "|6466|  0|          1|  0|\n",
            "| 496|  1|          0|  0|\n",
            "|7833|  0|          1|  0|\n",
            "|1591|  0|          0|  1|\n",
            "|2866|  0|          1|  0|\n",
            "|8592|  0|          1|  0|\n",
            "|1829|  0|          1|  0|\n",
            "| 463|  0|          1|  0|\n",
            "|4900|  0|          1|  0|\n",
            "|4818|  0|          1|  0|\n",
            "|7554|  1|          0|  0|\n",
            "|1342|  0|          0|  1|\n",
            "|5300|  0|          1|  0|\n",
            "+----+---+-----------+---+\n",
            "only showing top 20 rows\n",
            "\n"
          ]
        }
      ]
    },
    {
      "cell_type": "code",
      "source": [
        "tipo_contrato = dataset.groupBy('id')\\\n",
        "    .pivot('TipoContrato')\\\n",
        "    .agg(f.lit(1))\\\n",
        "    .na\\\n",
        "    .fill(0)\n",
        "\n",
        "tipo_contrato.show()"
      ],
      "metadata": {
        "colab": {
          "base_uri": "https://localhost:8080/"
        },
        "id": "zmj4kyfdt_bd",
        "outputId": "1b53b7c3-3aa3-4e8f-e640-5f9c81c679ce"
      },
      "execution_count": null,
      "outputs": [
        {
          "output_type": "stream",
          "name": "stdout",
          "text": [
            "+----+--------+-----------+-----+\n",
            "|  id|DoisAnos|Mensalmente|UmAno|\n",
            "+----+--------+-----------+-----+\n",
            "|7993|       0|          1|    0|\n",
            "|8592|       0|          1|    0|\n",
            "|4519|       0|          0|    1|\n",
            "|1088|       0|          1|    0|\n",
            "|1238|       0|          1|    0|\n",
            "|1342|       1|          0|    0|\n",
            "|4935|       0|          0|    1|\n",
            "| 471|       0|          1|    0|\n",
            "|5518|       0|          1|    0|\n",
            "| 463|       0|          1|    0|\n",
            "|3794|       0|          1|    0|\n",
            "|9465|       0|          1|    0|\n",
            "|7240|       0|          1|    0|\n",
            "|9852|       0|          1|    0|\n",
            "|1959|       0|          1|    0|\n",
            "|7754|       0|          1|    0|\n",
            "|5156|       0|          0|    1|\n",
            "|6658|       0|          1|    0|\n",
            "|6397|       0|          0|    1|\n",
            "|1829|       0|          1|    0|\n",
            "+----+--------+-----------+-----+\n",
            "only showing top 20 rows\n",
            "\n"
          ]
        }
      ]
    },
    {
      "cell_type": "code",
      "source": [
        "metodo_pagamento = dataset.groupBy('id')\\\n",
        "    .pivot('MetodoPagamento')\\\n",
        "    .agg(f.lit(1))\\\n",
        "    .na\\\n",
        "    .fill(0)\n",
        "\n",
        "metodo_pagamento.show()"
      ],
      "metadata": {
        "colab": {
          "base_uri": "https://localhost:8080/"
        },
        "id": "XLa_hLeJuX9E",
        "outputId": "634d82a8-d9bd-415c-fd2b-1c8936354422"
      },
      "execution_count": null,
      "outputs": [
        {
          "output_type": "stream",
          "name": "stdout",
          "text": [
            "+-----+------+----------------+-------------+-------------+\n",
            "|   id|Boleto|BoletoEletronico|CartaoCredito|DebitoEmConta|\n",
            "+-----+------+----------------+-------------+-------------+\n",
            "| 3997|     0|               0|            1|            0|\n",
            "| 7554|     0|               1|            0|            0|\n",
            "| 6336|     0|               1|            0|            0|\n",
            "| 6357|     0|               1|            0|            0|\n",
            "| 9427|     0|               0|            1|            0|\n",
            "| 2659|     0|               0|            1|            0|\n",
            "|  471|     0|               1|            0|            0|\n",
            "| 4935|     0|               0|            1|            0|\n",
            "| 4818|     0|               0|            1|            0|\n",
            "| 1342|     1|               0|            0|            0|\n",
            "| 1959|     0|               1|            0|            0|\n",
            "| 9376|     0|               0|            1|            0|\n",
            "| 2366|     0|               1|            0|            0|\n",
            "| 1580|     0|               0|            0|            1|\n",
            "| 9900|     0|               1|            0|            0|\n",
            "| 9852|     1|               0|            0|            0|\n",
            "| 3918|     0|               1|            0|            0|\n",
            "| 7880|     0|               1|            0|            0|\n",
            "| 1238|     0|               1|            0|            0|\n",
            "|10206|     0|               1|            0|            0|\n",
            "+-----+------+----------------+-------------+-------------+\n",
            "only showing top 20 rows\n",
            "\n"
          ]
        }
      ]
    },
    {
      "cell_type": "code",
      "source": [
        "dataset"
      ],
      "metadata": {
        "colab": {
          "base_uri": "https://localhost:8080/"
        },
        "id": "gc3di5npwhim",
        "outputId": "6a13b861-9d7f-49ab-bfbd-3d8401547719"
      },
      "execution_count": null,
      "outputs": [
        {
          "output_type": "execute_result",
          "data": {
            "text/plain": [
              "DataFrame[id: int, Mais65anos: int, MesesDeContrato: int, Internet: string, TipoContrato: string, MetodoPagamento: string, MesesCobrados: double, Churn: int, Conjuge: int, Dependentes: int, TelefoneFixo: int, MaisDeUmaLinhaTelefonica: int, SegurancaOnline: int, BackupOnline: int, SeguroDispositivo: int, SuporteTecnico: int, TVaCabo: int, StreamingFilmes: int, ContaCorreio: int]"
            ]
          },
          "metadata": {},
          "execution_count": 29
        }
      ]
    },
    {
      "cell_type": "code",
      "source": [
        "dataset\\\n",
        "    .join(internet, 'id', how='inner')\\\n",
        "    .join(tipo_contrato, 'id', how='inner')\\\n",
        "    .join(metodo_pagamento, 'id', how='inner')\\\n",
        "    .select(\n",
        "        '*',\n",
        "        f.col('DSL').alias('Internet_DSL'),\n",
        "        f.col('FibraOptica').alias('Internet_FibraOptica'),\n",
        "        f.col('Nao').alias('Internet_Nao'),\n",
        "        f.col('Mensalmente').alias('TipoContrato_Mensalmente'),\n",
        "        f.col('UmAno').alias('TipoContrato_UmAno'),\n",
        "        f.col('DoisAnos').alias('TipoContrato_DoisAnos'),\n",
        "        f.col('DebitoEmConta').alias('MetodoPagamento_DebitoEmConta'),\n",
        "        f.col('CartaoCredito').alias('MetodoPagamento_CartaoCredito'),\n",
        "        f.col('BoletoEletronico').alias('MetodoPagamento_BoletoEletronico'),\n",
        "        f.col('Boleto').alias('MetodoPagamento_Boleto')\n",
        "    )\\\n",
        "    .drop(\n",
        "        'Internet', 'TipoContrato', 'MetodoPagamento', 'DSL', 'FibraOptica',\n",
        "        'Nao', 'Mensalmente', 'UmAno', 'DoisAnos', 'DebitoEmConta',\n",
        "        'CartaoCredito', 'BoletoEletronico', 'Boleto'\n",
        "    )\n",
        "\n",
        "dataset.limit(10).show(truncate=False)"
      ],
      "metadata": {
        "colab": {
          "base_uri": "https://localhost:8080/"
        },
        "id": "IZavV1NfxnYf",
        "outputId": "1f8b1cfb-224b-463c-9499-19be3125c9af"
      },
      "execution_count": null,
      "outputs": [
        {
          "output_type": "stream",
          "name": "stdout",
          "text": [
            "+----+----------+---------------+-----------------+-----+-------+-----------+------------+------------------------+---------------+------------+-----------------+--------------+-------+---------------+------------+------------+--------------------+------------+------------------------+------------------+---------------------+-----------------------------+-----------------------------+--------------------------------+----------------------+\n",
            "|id  |Mais65anos|MesesDeContrato|MesesCobrados    |Churn|Conjuge|Dependentes|TelefoneFixo|MaisDeUmaLinhaTelefonica|SegurancaOnline|BackupOnline|SeguroDispositivo|SuporteTecnico|TVaCabo|StreamingFilmes|ContaCorreio|Internet_DSL|Internet_FibraOptica|Internet_Nao|TipoContrato_Mensalmente|TipoContrato_UmAno|TipoContrato_DoisAnos|MetodoPagamento_DebitoEmConta|MetodoPagamento_CartaoCredito|MetodoPagamento_BoletoEletronico|MetodoPagamento_Boleto|\n",
            "+----+----------+---------------+-----------------+-----+-------+-----------+------------+------------------------+---------------+------------+-----------------+--------------+-------+---------------+------------+------------+--------------------+------------+------------------------+------------------+---------------------+-----------------------------+-----------------------------+--------------------------------+----------------------+\n",
            "|7982|0         |1              |45.30540797610398|1    |0      |0          |0           |0                       |0              |0           |0                |0             |1      |1              |1           |1           |0                   |0           |1                       |0                 |0                    |0                            |0                            |1                               |0                     |\n",
            "|9465|0         |60             |103.6142230120257|1    |1      |0          |1           |1                       |0              |1           |1                |0             |1      |1              |1           |0           |1                   |0           |1                       |0                 |0                    |0                            |0                            |1                               |0                     |\n",
            "|2122|0         |12             |75.85            |0    |0      |0          |1           |1                       |0              |0           |0                |1             |1      |1              |1           |1           |0                   |0           |0                       |1                 |0                    |0                            |0                            |0                               |1                     |\n",
            "|3997|0         |69             |61.45            |0    |1      |0          |1           |0                       |0              |1           |0                |0             |0      |1              |1           |1           |0                   |0           |0                       |0                 |1                    |0                            |1                            |0                               |0                     |\n",
            "|6654|0         |7              |86.5             |1    |1      |0          |1           |1                       |0              |0           |0                |0             |1      |0              |1           |0           |1                   |0           |1                       |0                 |0                    |0                            |0                            |1                               |0                     |\n",
            "|7880|0         |14             |85.03742670311915|1    |0      |0          |1           |1                       |0              |0           |0                |0             |0      |1              |1           |0           |1                   |0           |1                       |0                 |0                    |0                            |0                            |1                               |0                     |\n",
            "|4519|0         |57             |109.4            |0    |1      |0          |1           |1                       |0              |1           |1                |1             |1      |1              |1           |0           |1                   |0           |0                       |1                 |0                    |1                            |0                            |0                               |0                     |\n",
            "|6466|0         |18             |74.15            |0    |0      |0          |1           |1                       |0              |0           |0                |0             |0      |0              |0           |0           |1                   |0           |1                       |0                 |0                    |0                            |0                            |0                               |1                     |\n",
            "|496 |0         |28             |60.9             |0    |1      |0          |1           |0                       |1              |1           |0                |1             |0      |0              |0           |1           |0                   |0           |1                       |0                 |0                    |0                            |0                            |0                               |1                     |\n",
            "|7833|0         |46             |80.8824189403559 |1    |1      |0          |1           |0                       |0              |0           |0                |0             |0      |1              |1           |0           |1                   |0           |1                       |0                 |0                    |0                            |0                            |1                               |0                     |\n",
            "+----+----------+---------------+-----------------+-----+-------+-----------+------------+------------------------+---------------+------------+-----------------+--------------+-------+---------------+------------+------------+--------------------+------------+------------------------+------------------+---------------------+-----------------------------+-----------------------------+--------------------------------+----------------------+\n",
            "\n"
          ]
        }
      ]
    },
    {
      "cell_type": "code",
      "source": [
        "dataset = dataset\\\n",
        "    .join(internet, 'id', how='inner')\\\n",
        "    .join(tipo_contrato, 'id', how='inner')\\\n",
        "    .join(metodo_pagamento, 'id', how='inner')\\\n",
        "    .select(\n",
        "        '*',\n",
        "        f.col('DSL').alias('Internet_DSL'),\n",
        "        f.col('FibraOptica').alias('Internet_FibraOptica'),\n",
        "        f.col('Nao').alias('Internet_Nao'),\n",
        "        f.col('Mensalmente').alias('TipoContrato_Mensalmente'),\n",
        "        f.col('UmAno').alias('TipoContrato_UmAno'),\n",
        "        f.col('DoisAnos').alias('TipoContrato_DoisAnos'),\n",
        "        f.col('DebitoEmConta').alias('MetodoPagamento_DebitoEmConta'),\n",
        "        f.col('CartaoCredito').alias('MetodoPagamento_CartaoCredito'),\n",
        "        f.col('BoletoEletronico').alias('MetodoPagamento_BoletoEletronico'),\n",
        "        f.col('Boleto').alias('MetodoPagamento_Boleto')\n",
        "    )\\\n",
        "    .drop(\n",
        "        'Internet', 'TipoContrato', 'MetodoPagamento', 'DSL', 'FibraOptica',\n",
        "        'Nao', 'Mensalmente', 'UmAno', 'DoisAnos', 'DebitoEmConta',\n",
        "        'CartaoCredito', 'BoletoEletronico', 'Boleto'\n",
        "    )\n",
        "\n",
        "dataset.limit(10).show(truncate=False)"
      ],
      "metadata": {
        "colab": {
          "base_uri": "https://localhost:8080/"
        },
        "id": "2xWW4R-UumR9",
        "outputId": "0f111c79-7930-43f7-d469-c6da46615021"
      },
      "execution_count": null,
      "outputs": [
        {
          "output_type": "stream",
          "name": "stdout",
          "text": [
            "+----+----------+---------------+-----------------+-----+-------+-----------+------------+------------------------+---------------+------------+-----------------+--------------+-------+---------------+------------+------------+--------------------+------------+------------------------+------------------+---------------------+-----------------------------+-----------------------------+--------------------------------+----------------------+\n",
            "|id  |Mais65anos|MesesDeContrato|MesesCobrados    |Churn|Conjuge|Dependentes|TelefoneFixo|MaisDeUmaLinhaTelefonica|SegurancaOnline|BackupOnline|SeguroDispositivo|SuporteTecnico|TVaCabo|StreamingFilmes|ContaCorreio|Internet_DSL|Internet_FibraOptica|Internet_Nao|TipoContrato_Mensalmente|TipoContrato_UmAno|TipoContrato_DoisAnos|MetodoPagamento_DebitoEmConta|MetodoPagamento_CartaoCredito|MetodoPagamento_BoletoEletronico|MetodoPagamento_Boleto|\n",
            "+----+----------+---------------+-----------------+-----+-------+-----------+------------+------------------------+---------------+------------+-----------------+--------------+-------+---------------+------------+------------+--------------------+------------+------------------------+------------------+---------------------+-----------------------------+-----------------------------+--------------------------------+----------------------+\n",
            "|7982|0         |1              |45.30540797610398|1    |0      |0          |0           |0                       |0              |0           |0                |0             |1      |1              |1           |1           |0                   |0           |1                       |0                 |0                    |0                            |0                            |1                               |0                     |\n",
            "|9465|0         |60             |103.6142230120257|1    |1      |0          |1           |1                       |0              |1           |1                |0             |1      |1              |1           |0           |1                   |0           |1                       |0                 |0                    |0                            |0                            |1                               |0                     |\n",
            "|2122|0         |12             |75.85            |0    |0      |0          |1           |1                       |0              |0           |0                |1             |1      |1              |1           |1           |0                   |0           |0                       |1                 |0                    |0                            |0                            |0                               |1                     |\n",
            "|3997|0         |69             |61.45            |0    |1      |0          |1           |0                       |0              |1           |0                |0             |0      |1              |1           |1           |0                   |0           |0                       |0                 |1                    |0                            |1                            |0                               |0                     |\n",
            "|6654|0         |7              |86.5             |1    |1      |0          |1           |1                       |0              |0           |0                |0             |1      |0              |1           |0           |1                   |0           |1                       |0                 |0                    |0                            |0                            |1                               |0                     |\n",
            "|7880|0         |14             |85.03742670311915|1    |0      |0          |1           |1                       |0              |0           |0                |0             |0      |1              |1           |0           |1                   |0           |1                       |0                 |0                    |0                            |0                            |1                               |0                     |\n",
            "|4519|0         |57             |109.4            |0    |1      |0          |1           |1                       |0              |1           |1                |1             |1      |1              |1           |0           |1                   |0           |0                       |1                 |0                    |1                            |0                            |0                               |0                     |\n",
            "|6466|0         |18             |74.15            |0    |0      |0          |1           |1                       |0              |0           |0                |0             |0      |0              |0           |0           |1                   |0           |1                       |0                 |0                    |0                            |0                            |0                               |1                     |\n",
            "|496 |0         |28             |60.9             |0    |1      |0          |1           |0                       |1              |1           |0                |1             |0      |0              |0           |1           |0                   |0           |1                       |0                 |0                    |0                            |0                            |0                               |1                     |\n",
            "|7833|0         |46             |80.8824189403559 |1    |1      |0          |1           |0                       |0              |0           |0                |0             |0      |1              |1           |0           |1                   |0           |1                       |0                 |0                    |0                            |0                            |1                               |0                     |\n",
            "+----+----------+---------------+-----------------+-----+-------+-----------+------------+------------------------+---------------+------------+-----------------+--------------+-------+---------------+------------+------------+--------------------+------------+------------------------+------------------+---------------------+-----------------------------+-----------------------------+--------------------------------+----------------------+\n",
            "\n"
          ]
        }
      ]
    },
    {
      "cell_type": "code",
      "source": [
        "dataset.printSchema()"
      ],
      "metadata": {
        "colab": {
          "base_uri": "https://localhost:8080/"
        },
        "id": "bJ5SzkUCvhVi",
        "outputId": "548d7fb7-0705-4af5-9071-db1abcf970a6"
      },
      "execution_count": null,
      "outputs": [
        {
          "output_type": "stream",
          "name": "stdout",
          "text": [
            "root\n",
            " |-- id: integer (nullable = true)\n",
            " |-- Mais65anos: integer (nullable = true)\n",
            " |-- MesesDeContrato: integer (nullable = true)\n",
            " |-- MesesCobrados: double (nullable = true)\n",
            " |-- Churn: integer (nullable = false)\n",
            " |-- Conjuge: integer (nullable = false)\n",
            " |-- Dependentes: integer (nullable = false)\n",
            " |-- TelefoneFixo: integer (nullable = false)\n",
            " |-- MaisDeUmaLinhaTelefonica: integer (nullable = false)\n",
            " |-- SegurancaOnline: integer (nullable = false)\n",
            " |-- BackupOnline: integer (nullable = false)\n",
            " |-- SeguroDispositivo: integer (nullable = false)\n",
            " |-- SuporteTecnico: integer (nullable = false)\n",
            " |-- TVaCabo: integer (nullable = false)\n",
            " |-- StreamingFilmes: integer (nullable = false)\n",
            " |-- ContaCorreio: integer (nullable = false)\n",
            " |-- Internet_DSL: integer (nullable = true)\n",
            " |-- Internet_FibraOptica: integer (nullable = true)\n",
            " |-- Internet_Nao: integer (nullable = true)\n",
            " |-- TipoContrato_Mensalmente: integer (nullable = true)\n",
            " |-- TipoContrato_UmAno: integer (nullable = true)\n",
            " |-- TipoContrato_DoisAnos: integer (nullable = true)\n",
            " |-- MetodoPagamento_DebitoEmConta: integer (nullable = true)\n",
            " |-- MetodoPagamento_CartaoCredito: integer (nullable = true)\n",
            " |-- MetodoPagamento_BoletoEletronico: integer (nullable = true)\n",
            " |-- MetodoPagamento_Boleto: integer (nullable = true)\n",
            "\n"
          ]
        }
      ]
    },
    {
      "cell_type": "markdown",
      "source": [
        "## Preparação dos dados"
      ],
      "metadata": {
        "id": "ahyCEMGVzp8W"
      }
    },
    {
      "cell_type": "code",
      "source": [
        "dataset.limit(10).show(truncate=False)"
      ],
      "metadata": {
        "colab": {
          "base_uri": "https://localhost:8080/"
        },
        "id": "a8rjlXcSxtI-",
        "outputId": "1aed815a-57cc-48f0-99ef-0f397832e6e3"
      },
      "execution_count": null,
      "outputs": [
        {
          "output_type": "stream",
          "name": "stdout",
          "text": [
            "+----+----------+---------------+-----------------+-----+-------+-----------+------------+------------------------+---------------+------------+-----------------+--------------+-------+---------------+------------+------------+--------------------+------------+------------------------+------------------+---------------------+-----------------------------+-----------------------------+--------------------------------+----------------------+\n",
            "|id  |Mais65anos|MesesDeContrato|MesesCobrados    |Churn|Conjuge|Dependentes|TelefoneFixo|MaisDeUmaLinhaTelefonica|SegurancaOnline|BackupOnline|SeguroDispositivo|SuporteTecnico|TVaCabo|StreamingFilmes|ContaCorreio|Internet_DSL|Internet_FibraOptica|Internet_Nao|TipoContrato_Mensalmente|TipoContrato_UmAno|TipoContrato_DoisAnos|MetodoPagamento_DebitoEmConta|MetodoPagamento_CartaoCredito|MetodoPagamento_BoletoEletronico|MetodoPagamento_Boleto|\n",
            "+----+----------+---------------+-----------------+-----+-------+-----------+------------+------------------------+---------------+------------+-----------------+--------------+-------+---------------+------------+------------+--------------------+------------+------------------------+------------------+---------------------+-----------------------------+-----------------------------+--------------------------------+----------------------+\n",
            "|7982|0         |1              |45.30540797610398|1    |0      |0          |0           |0                       |0              |0           |0                |0             |1      |1              |1           |1           |0                   |0           |1                       |0                 |0                    |0                            |0                            |1                               |0                     |\n",
            "|9465|0         |60             |103.6142230120257|1    |1      |0          |1           |1                       |0              |1           |1                |0             |1      |1              |1           |0           |1                   |0           |1                       |0                 |0                    |0                            |0                            |1                               |0                     |\n",
            "|2122|0         |12             |75.85            |0    |0      |0          |1           |1                       |0              |0           |0                |1             |1      |1              |1           |1           |0                   |0           |0                       |1                 |0                    |0                            |0                            |0                               |1                     |\n",
            "|3997|0         |69             |61.45            |0    |1      |0          |1           |0                       |0              |1           |0                |0             |0      |1              |1           |1           |0                   |0           |0                       |0                 |1                    |0                            |1                            |0                               |0                     |\n",
            "|6654|0         |7              |86.5             |1    |1      |0          |1           |1                       |0              |0           |0                |0             |1      |0              |1           |0           |1                   |0           |1                       |0                 |0                    |0                            |0                            |1                               |0                     |\n",
            "|7880|0         |14             |85.03742670311915|1    |0      |0          |1           |1                       |0              |0           |0                |0             |0      |1              |1           |0           |1                   |0           |1                       |0                 |0                    |0                            |0                            |1                               |0                     |\n",
            "|4519|0         |57             |109.4            |0    |1      |0          |1           |1                       |0              |1           |1                |1             |1      |1              |1           |0           |1                   |0           |0                       |1                 |0                    |1                            |0                            |0                               |0                     |\n",
            "|6466|0         |18             |74.15            |0    |0      |0          |1           |1                       |0              |0           |0                |0             |0      |0              |0           |0           |1                   |0           |1                       |0                 |0                    |0                            |0                            |0                               |1                     |\n",
            "|496 |0         |28             |60.9             |0    |1      |0          |1           |0                       |1              |1           |0                |1             |0      |0              |0           |1           |0                   |0           |1                       |0                 |0                    |0                            |0                            |0                               |1                     |\n",
            "|7833|0         |46             |80.8824189403559 |1    |1      |0          |1           |0                       |0              |0           |0                |0             |0      |1              |1           |0           |1                   |0           |1                       |0                 |0                    |0                            |0                            |1                               |0                     |\n",
            "+----+----------+---------------+-----------------+-----+-------+-----------+------------+------------------------+---------------+------------+-----------------+--------------+-------+---------------+------------+------------+--------------------+------------+------------------------+------------------+---------------------+-----------------------------+-----------------------------+--------------------------------+----------------------+\n",
            "\n"
          ]
        }
      ]
    },
    {
      "cell_type": "code",
      "source": [
        "dataset = dataset.withColumnRenamed('Churn', 'label')"
      ],
      "metadata": {
        "id": "YoQwCp6Nz3Nx"
      },
      "execution_count": null,
      "outputs": []
    },
    {
      "cell_type": "code",
      "source": [
        "X = dataset.columns\n",
        "X.remove('label')\n",
        "X.remove('id')\n",
        "X"
      ],
      "metadata": {
        "colab": {
          "base_uri": "https://localhost:8080/"
        },
        "id": "o1Bdp_Lv0AIB",
        "outputId": "d1171ba0-66f1-4ca4-cf2b-211e9047c54b"
      },
      "execution_count": null,
      "outputs": [
        {
          "output_type": "execute_result",
          "data": {
            "text/plain": [
              "['Mais65anos',\n",
              " 'MesesDeContrato',\n",
              " 'MesesCobrados',\n",
              " 'Conjuge',\n",
              " 'Dependentes',\n",
              " 'TelefoneFixo',\n",
              " 'MaisDeUmaLinhaTelefonica',\n",
              " 'SegurancaOnline',\n",
              " 'BackupOnline',\n",
              " 'SeguroDispositivo',\n",
              " 'SuporteTecnico',\n",
              " 'TVaCabo',\n",
              " 'StreamingFilmes',\n",
              " 'ContaCorreio',\n",
              " 'Internet_DSL',\n",
              " 'Internet_FibraOptica',\n",
              " 'Internet_Nao',\n",
              " 'TipoContrato_Mensalmente',\n",
              " 'TipoContrato_UmAno',\n",
              " 'TipoContrato_DoisAnos',\n",
              " 'MetodoPagamento_DebitoEmConta',\n",
              " 'MetodoPagamento_CartaoCredito',\n",
              " 'MetodoPagamento_BoletoEletronico',\n",
              " 'MetodoPagamento_Boleto']"
            ]
          },
          "metadata": {},
          "execution_count": 48
        }
      ]
    },
    {
      "cell_type": "code",
      "source": [
        "assembler = VectorAssembler(inputCols = X, outputCol = 'features')"
      ],
      "metadata": {
        "id": "Nu0kGqgG0Mih"
      },
      "execution_count": null,
      "outputs": []
    },
    {
      "cell_type": "code",
      "source": [
        "dataset_prep = assembler.transform(dataset).select('features', 'label')"
      ],
      "metadata": {
        "id": "jCfV-C8w0cix"
      },
      "execution_count": null,
      "outputs": []
    },
    {
      "cell_type": "code",
      "source": [
        "dataset_prep.show(10, truncate=False)"
      ],
      "metadata": {
        "colab": {
          "base_uri": "https://localhost:8080/"
        },
        "id": "QXY8YD9p0vWy",
        "outputId": "507e219e-caaa-4fb3-d354-2c9c16c6ddc5"
      },
      "execution_count": null,
      "outputs": [
        {
          "output_type": "stream",
          "name": "stdout",
          "text": [
            "+-----------------------------------------------------------------------------------------------------------+-----+\n",
            "|features                                                                                                   |label|\n",
            "+-----------------------------------------------------------------------------------------------------------+-----+\n",
            "|(24,[1,2,11,12,13,14,17,22],[1.0,45.30540797610398,1.0,1.0,1.0,1.0,1.0,1.0])                               |1    |\n",
            "|(24,[1,2,3,5,6,8,9,11,12,13,15,17,22],[60.0,103.6142230120257,1.0,1.0,1.0,1.0,1.0,1.0,1.0,1.0,1.0,1.0,1.0])|1    |\n",
            "|(24,[1,2,5,6,10,11,12,13,14,18,23],[12.0,75.85,1.0,1.0,1.0,1.0,1.0,1.0,1.0,1.0,1.0])                       |0    |\n",
            "|(24,[1,2,3,5,8,12,13,14,19,21],[69.0,61.45,1.0,1.0,1.0,1.0,1.0,1.0,1.0,1.0])                               |0    |\n",
            "|(24,[1,2,3,5,6,11,13,15,17,22],[7.0,86.5,1.0,1.0,1.0,1.0,1.0,1.0,1.0,1.0])                                 |1    |\n",
            "|(24,[1,2,5,6,12,13,15,17,22],[14.0,85.03742670311915,1.0,1.0,1.0,1.0,1.0,1.0,1.0])                         |1    |\n",
            "|(24,[1,2,3,5,6,8,9,10,11,12,13,15,18,20],[57.0,109.4,1.0,1.0,1.0,1.0,1.0,1.0,1.0,1.0,1.0,1.0,1.0,1.0])     |0    |\n",
            "|(24,[1,2,5,6,15,17,23],[18.0,74.15,1.0,1.0,1.0,1.0,1.0])                                                   |0    |\n",
            "|(24,[1,2,3,5,7,8,10,14,17,23],[28.0,60.9,1.0,1.0,1.0,1.0,1.0,1.0,1.0,1.0])                                 |0    |\n",
            "|(24,[1,2,3,5,12,13,15,17,22],[46.0,80.8824189403559,1.0,1.0,1.0,1.0,1.0,1.0,1.0])                          |1    |\n",
            "+-----------------------------------------------------------------------------------------------------------+-----+\n",
            "only showing top 10 rows\n",
            "\n"
          ]
        }
      ]
    },
    {
      "cell_type": "code",
      "source": [
        "treino, teste = dataset_prep.randomSplit([0.7, 0.3], seed=101)"
      ],
      "metadata": {
        "id": "iv-jNBP50wJy"
      },
      "execution_count": null,
      "outputs": []
    },
    {
      "cell_type": "code",
      "source": [
        "treino.count()"
      ],
      "metadata": {
        "colab": {
          "base_uri": "https://localhost:8080/"
        },
        "id": "QXGOUeYE1z5a",
        "outputId": "be1fa50c-c539-4e85-a33e-cad81e35a6fd"
      },
      "execution_count": null,
      "outputs": [
        {
          "output_type": "execute_result",
          "data": {
            "text/plain": [
              "7206"
            ]
          },
          "metadata": {},
          "execution_count": 56
        }
      ]
    },
    {
      "cell_type": "code",
      "source": [
        "teste.count()"
      ],
      "metadata": {
        "colab": {
          "base_uri": "https://localhost:8080/"
        },
        "id": "JiVBieab17Xq",
        "outputId": "1ddeef69-e9fb-4bbd-d879-90e6679e0457"
      },
      "execution_count": null,
      "outputs": [
        {
          "output_type": "execute_result",
          "data": {
            "text/plain": [
              "3142"
            ]
          },
          "metadata": {},
          "execution_count": 57
        }
      ]
    },
    {
      "cell_type": "code",
      "source": [
        "treino.groupBy('label').count().show()"
      ],
      "metadata": {
        "colab": {
          "base_uri": "https://localhost:8080/"
        },
        "id": "YbIThG0z18DC",
        "outputId": "6402793a-fe84-474e-bf83-736bd39fa623"
      },
      "execution_count": null,
      "outputs": [
        {
          "output_type": "stream",
          "name": "stdout",
          "text": [
            "+-----+-----+\n",
            "|label|count|\n",
            "+-----+-----+\n",
            "|    1| 3611|\n",
            "|    0| 3595|\n",
            "+-----+-----+\n",
            "\n"
          ]
        }
      ]
    },
    {
      "cell_type": "markdown",
      "source": [
        "## Ajuste e Previsão - Regressão Logistica\n"
      ],
      "metadata": {
        "id": "OubzQZeEVr9d"
      }
    },
    {
      "cell_type": "code",
      "source": [
        "lr = LogisticRegression()"
      ],
      "metadata": {
        "id": "A0aTBhEa2Bcy"
      },
      "execution_count": null,
      "outputs": []
    },
    {
      "cell_type": "code",
      "source": [
        "modelo_lr = lr.fit(treino)"
      ],
      "metadata": {
        "id": "7yNlZPga2JYh"
      },
      "execution_count": null,
      "outputs": []
    },
    {
      "cell_type": "code",
      "source": [
        "previsoes_lr_teste = modelo_lr.transform(teste)"
      ],
      "metadata": {
        "id": "txMh0Thg2MQx"
      },
      "execution_count": null,
      "outputs": []
    },
    {
      "cell_type": "code",
      "source": [
        "previsoes_lr_teste.show()"
      ],
      "metadata": {
        "colab": {
          "base_uri": "https://localhost:8080/"
        },
        "id": "fRLV1G_m2VJ6",
        "outputId": "6179c90e-ae9f-45de-d693-42a871ac020e"
      },
      "execution_count": null,
      "outputs": [
        {
          "output_type": "stream",
          "name": "stdout",
          "text": [
            "+--------------------+-----+--------------------+--------------------+----------+\n",
            "|            features|label|       rawPrediction|         probability|prediction|\n",
            "+--------------------+-----+--------------------+--------------------+----------+\n",
            "|(24,[0,1,2,3,4,5,...|    0|[3.02174179751551...|[0.95354674000282...|       0.0|\n",
            "|(24,[0,1,2,3,4,5,...|    0|[-0.0922192966076...|[0.47696150091605...|       1.0|\n",
            "|(24,[0,1,2,3,4,5,...|    1|[0.18744121711361...|[0.54672358463156...|       0.0|\n",
            "|(24,[0,1,2,3,4,5,...|    1|[0.91716501260103...|[0.71446410549163...|       0.0|\n",
            "|(24,[0,1,2,3,4,5,...|    0|[-0.1495904711610...|[0.46267196467801...|       1.0|\n",
            "|(24,[0,1,2,3,4,5,...|    0|[-0.1680594619286...|[0.45808374494006...|       1.0|\n",
            "|(24,[0,1,2,3,4,5,...|    0|[-1.4170949608173...|[0.19511740608882...|       1.0|\n",
            "|(24,[0,1,2,3,4,5,...|    0|[0.14194260698794...|[0.53542619200881...|       0.0|\n",
            "|(24,[0,1,2,3,4,5,...|    0|[0.67046644011599...|[0.66160759507905...|       0.0|\n",
            "|(24,[0,1,2,3,4,5,...|    0|[1.46841036244999...|[0.81281564870727...|       0.0|\n",
            "|(24,[0,1,2,3,4,5,...|    1|[-0.2187083605333...|[0.44553982138394...|       1.0|\n",
            "|(24,[0,1,2,3,4,5,...|    1|[-1.0342537570067...|[0.26226025614667...|       1.0|\n",
            "|(24,[0,1,2,3,4,5,...|    0|[5.50017227754075...|[0.99593056056380...|       0.0|\n",
            "|(24,[0,1,2,3,4,8,...|    0|[0.78512618330368...|[0.68678387079939...|       0.0|\n",
            "|(24,[0,1,2,3,4,8,...|    0|[0.84647423373263...|[0.69982700991647...|       0.0|\n",
            "|(24,[0,1,2,3,4,8,...|    0|[2.71891428132878...|[0.93813354968549...|       0.0|\n",
            "|(24,[0,1,2,3,5,6,...|    0|[4.47635640497720...|[0.98875314765919...|       0.0|\n",
            "|(24,[0,1,2,3,5,6,...|    0|[1.61650336401316...|[0.83431233628064...|       0.0|\n",
            "|(24,[0,1,2,3,5,6,...|    0|[3.44539231448552...|[0.96909343212403...|       0.0|\n",
            "|(24,[0,1,2,3,5,6,...|    0|[3.42849251731228...|[0.96858322780664...|       0.0|\n",
            "+--------------------+-----+--------------------+--------------------+----------+\n",
            "only showing top 20 rows\n",
            "\n"
          ]
        }
      ]
    },
    {
      "cell_type": "markdown",
      "source": [
        "### Métricas"
      ],
      "metadata": {
        "id": "3I6w0bT13LUB"
      }
    },
    {
      "cell_type": "code",
      "source": [
        "resumo_lr = modelo_lr.summary"
      ],
      "metadata": {
        "id": "PTLxRaLj2Wwp"
      },
      "execution_count": null,
      "outputs": []
    },
    {
      "cell_type": "code",
      "source": [
        "print(\"Acurácia: %f\" % resumo_lr.accuracy)\n",
        "print(\"Precisão: %f\" % resumo_lr.precisionByLabel[1])\n",
        "print(\"Recall: %f\" % resumo_lr.recallByLabel[1])\n",
        "print(\"F1: %f\" % resumo_lr.fMeasureByLabel()[1])"
      ],
      "metadata": {
        "colab": {
          "base_uri": "https://localhost:8080/"
        },
        "id": "PFGI9vy73Nj6",
        "outputId": "dccedee6-6911-456a-e577-aa93c150c8d3"
      },
      "execution_count": null,
      "outputs": [
        {
          "output_type": "stream",
          "name": "stdout",
          "text": [
            "Acurácia: 0.784901\n",
            "Precisão: 0.770686\n",
            "Recall: 0.812517\n",
            "F1: 0.791049\n"
          ]
        }
      ]
    },
    {
      "cell_type": "code",
      "source": [
        "tp = previsoes_lr_teste\\\n",
        "    .select('label', 'prediction')\\\n",
        "    .where((f.col('label') == 1) & (f.col('prediction') == 1)).count()\n",
        "tn = previsoes_lr_teste\\\n",
        "    .select('label', 'prediction')\\\n",
        "    .where((f.col('label') == 0) & (f.col('prediction') == 0)).count()\n",
        "fp = previsoes_lr_teste\\\n",
        "    .select('label', 'prediction')\\\n",
        "    .where((f.col('label') == 0) & (f.col('prediction') == 1)).count()\n",
        "fn = previsoes_lr_teste\\\n",
        "    .select('label', 'prediction')\\\n",
        "    .where((f.col('label') == 1) & (f.col('prediction') == 0)).count()\n",
        "\n",
        "print(f'tp = {tp}\\ntn = {tn}\\nfp = {fp}\\nfn = {fn}')"
      ],
      "metadata": {
        "colab": {
          "base_uri": "https://localhost:8080/"
        },
        "id": "FZ84Nkay3T85",
        "outputId": "19ce6699-b92e-401e-b632-6138fdc38d93"
      },
      "execution_count": null,
      "outputs": [
        {
          "output_type": "stream",
          "name": "stdout",
          "text": [
            "tp = 1256\n",
            "tn = 1179\n",
            "fp = 400\n",
            "fn = 307\n"
          ]
        }
      ]
    },
    {
      "cell_type": "code",
      "source": [
        "def calcula_mostra_matriz_confusao(df_transform_modelo, normalize=False, percentage=True):\n",
        "  tp = df_transform_modelo\\\n",
        "    .select('label', 'prediction')\\\n",
        "    .where((f.col('label') == 1) & (f.col('prediction') == 1)).count()\n",
        "  tn = df_transform_modelo\\\n",
        "      .select('label', 'prediction')\\\n",
        "      .where((f.col('label') == 0) & (f.col('prediction') == 0)).count()\n",
        "  fp = df_transform_modelo\\\n",
        "      .select('label', 'prediction')\\\n",
        "      .where((f.col('label') == 0) & (f.col('prediction') == 1)).count()\n",
        "  fn = df_transform_modelo\\\n",
        "      .select('label', 'prediction')\\\n",
        "      .where((f.col('label') == 1) & (f.col('prediction') == 0)).count()\n",
        "  valorP = 1\n",
        "  valorN = 1\n",
        "\n",
        "  if normalize:\n",
        "    valorP = tp + fn\n",
        "    valorN = fp + tn\n",
        "\n",
        "  if percentage and normalize:\n",
        "    valorP = valorP / 100\n",
        "    valorN = valorN / 100\n",
        "\n",
        "  print(' '*20, 'Previsto')\n",
        "  print(' '*15, 'Churn', ' '*5 ,'Não-Churn')\n",
        "  print(' '*4, 'Churn', ' '*6, int(tp/valorP), ' '*7, int(fn/valorP))\n",
        "  print('Real')\n",
        "  print(' '*4, 'Não-Churn', ' '*2, int(fp/valorN), ' '*7, int(tn/valorN))"
      ],
      "metadata": {
        "id": "u-H6PRPK32XH"
      },
      "execution_count": null,
      "outputs": []
    },
    {
      "cell_type": "code",
      "source": [
        "calcula_mostra_matriz_confusao(previsoes_lr_teste)"
      ],
      "metadata": {
        "colab": {
          "base_uri": "https://localhost:8080/"
        },
        "id": "f0kUb5r25Abw",
        "outputId": "299d9b5e-320b-4e74-9d60-2fab62105b89"
      },
      "execution_count": null,
      "outputs": [
        {
          "output_type": "stream",
          "name": "stdout",
          "text": [
            "                     Previsto\n",
            "                Churn       Não-Churn\n",
            "     Churn        1256         307\n",
            "Real\n",
            "     Não-Churn    400         1179\n"
          ]
        }
      ]
    },
    {
      "cell_type": "markdown",
      "source": [
        "## Ajuste e Previsão - Árvore de Decisão"
      ],
      "metadata": {
        "id": "ZKNQ1FZx5i0v"
      }
    },
    {
      "cell_type": "code",
      "source": [
        "dtc = DecisionTreeClassifier(seed=101)"
      ],
      "metadata": {
        "id": "X-C5jnZI7iWD"
      },
      "execution_count": null,
      "outputs": []
    },
    {
      "cell_type": "code",
      "source": [
        "modelo_dtc = dtc.fit(treino)"
      ],
      "metadata": {
        "id": "L_NPxcWp7lCS"
      },
      "execution_count": null,
      "outputs": []
    },
    {
      "cell_type": "code",
      "source": [
        "previsoes_dtc_teste = modelo_dtc.transform(teste)"
      ],
      "metadata": {
        "id": "7IimCsap7xUV"
      },
      "execution_count": null,
      "outputs": []
    },
    {
      "cell_type": "code",
      "source": [
        "previsoes_dtc_teste.show()"
      ],
      "metadata": {
        "colab": {
          "base_uri": "https://localhost:8080/"
        },
        "id": "oHso0sFh73Tq",
        "outputId": "479e9170-e813-4a90-858c-8d65311415fe"
      },
      "execution_count": null,
      "outputs": [
        {
          "output_type": "stream",
          "name": "stdout",
          "text": [
            "+--------------------+-----+--------------+--------------------+----------+\n",
            "|            features|label| rawPrediction|         probability|prediction|\n",
            "+--------------------+-----+--------------+--------------------+----------+\n",
            "|(24,[0,1,2,3,4,5,...|    0|[2056.0,334.0]|[0.86025104602510...|       0.0|\n",
            "|(24,[0,1,2,3,4,5,...|    0|  [62.0,128.0]|[0.32631578947368...|       1.0|\n",
            "|(24,[0,1,2,3,4,5,...|    1| [239.0,205.0]|[0.53828828828828...|       0.0|\n",
            "|(24,[0,1,2,3,4,5,...|    1| [239.0,205.0]|[0.53828828828828...|       0.0|\n",
            "|(24,[0,1,2,3,4,5,...|    0| [239.0,205.0]|[0.53828828828828...|       0.0|\n",
            "|(24,[0,1,2,3,4,5,...|    0|  [51.0,141.0]| [0.265625,0.734375]|       1.0|\n",
            "|(24,[0,1,2,3,4,5,...|    0|[331.0,1951.0]|[0.14504820333041...|       1.0|\n",
            "|(24,[0,1,2,3,4,5,...|    0| [239.0,205.0]|[0.53828828828828...|       0.0|\n",
            "|(24,[0,1,2,3,4,5,...|    0|  [63.0,118.0]|[0.34806629834254...|       1.0|\n",
            "|(24,[0,1,2,3,4,5,...|    0|[2056.0,334.0]|[0.86025104602510...|       0.0|\n",
            "|(24,[0,1,2,3,4,5,...|    1|  [63.0,118.0]|[0.34806629834254...|       1.0|\n",
            "|(24,[0,1,2,3,4,5,...|    1|[331.0,1951.0]|[0.14504820333041...|       1.0|\n",
            "|(24,[0,1,2,3,4,5,...|    0|[2056.0,334.0]|[0.86025104602510...|       0.0|\n",
            "|(24,[0,1,2,3,4,8,...|    0| [445.0,181.0]|[0.71086261980830...|       0.0|\n",
            "|(24,[0,1,2,3,4,8,...|    0|[2056.0,334.0]|[0.86025104602510...|       0.0|\n",
            "|(24,[0,1,2,3,4,8,...|    0|[2056.0,334.0]|[0.86025104602510...|       0.0|\n",
            "|(24,[0,1,2,3,5,6,...|    0|[2056.0,334.0]|[0.86025104602510...|       0.0|\n",
            "|(24,[0,1,2,3,5,6,...|    0| [239.0,205.0]|[0.53828828828828...|       0.0|\n",
            "|(24,[0,1,2,3,5,6,...|    0|[2056.0,334.0]|[0.86025104602510...|       0.0|\n",
            "|(24,[0,1,2,3,5,6,...|    0|[2056.0,334.0]|[0.86025104602510...|       0.0|\n",
            "+--------------------+-----+--------------+--------------------+----------+\n",
            "only showing top 20 rows\n",
            "\n"
          ]
        }
      ]
    },
    {
      "cell_type": "markdown",
      "source": [
        "### Métricas"
      ],
      "metadata": {
        "id": "m6G0DY9e9V1U"
      }
    },
    {
      "cell_type": "code",
      "source": [
        "from pyspark.ml.evaluation import MulticlassClassificationEvaluator"
      ],
      "metadata": {
        "id": "M8VjZuux8DvX"
      },
      "execution_count": null,
      "outputs": []
    },
    {
      "cell_type": "code",
      "source": [
        "evaluator = MulticlassClassificationEvaluator()"
      ],
      "metadata": {
        "id": "MuOmp3_X9k0c"
      },
      "execution_count": null,
      "outputs": []
    },
    {
      "cell_type": "code",
      "source": [
        "print(\"Acurácia: %f\" % evaluator.evaluate(previsoes_dtc_teste, {evaluator.metricName: \"accuracy\"}))\n",
        "print(\"Precisão: %f\" % evaluator.evaluate(previsoes_dtc_teste, {evaluator.metricName: \"precisionByLabel\", evaluator.metricLabel: 1}))\n",
        "print(\"Recall: %f\" % evaluator.evaluate(previsoes_dtc_teste, {evaluator.metricName: \"recallByLabel\", evaluator.metricLabel: 1}))\n",
        "print(\"F1: %f\" % evaluator.evaluate(previsoes_dtc_teste, {evaluator.metricName: \"fMeasureByLabel\", evaluator.metricLabel: 1}))"
      ],
      "metadata": {
        "colab": {
          "base_uri": "https://localhost:8080/"
        },
        "id": "3HVk0PEr-Wce",
        "outputId": "0546913d-5efb-45a0-f3e5-2cd8d5e7a738"
      },
      "execution_count": null,
      "outputs": [
        {
          "output_type": "stream",
          "name": "stdout",
          "text": [
            "Acurácia: 0.771483\n",
            "Precisão: 0.778510\n",
            "Recall: 0.755598\n",
            "F1: 0.766883\n"
          ]
        }
      ]
    },
    {
      "cell_type": "code",
      "source": [
        "calcula_mostra_matriz_confusao(previsoes_dtc_teste)"
      ],
      "metadata": {
        "colab": {
          "base_uri": "https://localhost:8080/"
        },
        "id": "otzdfHO6-i4u",
        "outputId": "b0608931-7c34-4979-db49-c60edcc3aef3"
      },
      "execution_count": null,
      "outputs": [
        {
          "output_type": "stream",
          "name": "stdout",
          "text": [
            "                     Previsto\n",
            "                Churn       Não-Churn\n",
            "     Churn        1181         382\n",
            "Real\n",
            "     Não-Churn    336         1243\n"
          ]
        }
      ]
    },
    {
      "cell_type": "markdown",
      "source": [
        "## Ajuste e Previsão - RandomForest"
      ],
      "metadata": {
        "id": "BPJla8Zi_4OB"
      }
    },
    {
      "cell_type": "code",
      "source": [
        "rfc = RandomForestClassifier(seed=101)"
      ],
      "metadata": {
        "id": "zIIMF0W2A_as"
      },
      "execution_count": null,
      "outputs": []
    },
    {
      "cell_type": "code",
      "source": [
        "modelo_rfc = rfc.fit(treino)"
      ],
      "metadata": {
        "id": "WB2BKWKsBBG8"
      },
      "execution_count": null,
      "outputs": []
    },
    {
      "cell_type": "code",
      "source": [
        "previsoes_rfc_teste = modelo_rfc.transform(teste)"
      ],
      "metadata": {
        "id": "QDCDsiNqBL4u"
      },
      "execution_count": null,
      "outputs": []
    },
    {
      "cell_type": "code",
      "source": [
        "previsoes_rfc_teste.show()"
      ],
      "metadata": {
        "colab": {
          "base_uri": "https://localhost:8080/"
        },
        "id": "cYVlXg_tBPPN",
        "outputId": "25b78702-296b-4cd4-bbe1-4726ce3fb7dc"
      },
      "execution_count": null,
      "outputs": [
        {
          "output_type": "stream",
          "name": "stdout",
          "text": [
            "+--------------------+-----+--------------------+--------------------+----------+\n",
            "|            features|label|       rawPrediction|         probability|prediction|\n",
            "+--------------------+-----+--------------------+--------------------+----------+\n",
            "|(24,[0,1,2,3,4,5,...|    0|[16.7433871675615...|[0.83716935837807...|       0.0|\n",
            "|(24,[0,1,2,3,4,5,...|    0|[7.27313214599648...|[0.36365660729982...|       1.0|\n",
            "|(24,[0,1,2,3,4,5,...|    1|[7.46885072161585...|[0.37344253608079...|       1.0|\n",
            "|(24,[0,1,2,3,4,5,...|    1|[9.33276328267787...|[0.46663816413389...|       1.0|\n",
            "|(24,[0,1,2,3,4,5,...|    0|[7.79829004739264...|[0.38991450236963...|       1.0|\n",
            "|(24,[0,1,2,3,4,5,...|    0|[7.13263407834549...|[0.35663170391727...|       1.0|\n",
            "|(24,[0,1,2,3,4,5,...|    0|[4.45872635511159...|[0.22293631775557...|       1.0|\n",
            "|(24,[0,1,2,3,4,5,...|    0|[7.84691519125130...|[0.39234575956256...|       1.0|\n",
            "|(24,[0,1,2,3,4,5,...|    0|[9.94796150783366...|[0.49739807539168...|       1.0|\n",
            "|(24,[0,1,2,3,4,5,...|    0|[13.9419392354793...|[0.69709696177396...|       0.0|\n",
            "|(24,[0,1,2,3,4,5,...|    1|[5.91309232317621...|[0.29565461615881...|       1.0|\n",
            "|(24,[0,1,2,3,4,5,...|    1|[4.00056870239560...|[0.20002843511978...|       1.0|\n",
            "|(24,[0,1,2,3,4,5,...|    0|[18.3120509476018...|[0.91560254738009...|       0.0|\n",
            "|(24,[0,1,2,3,4,8,...|    0|[11.9244461164393...|[0.59622230582196...|       0.0|\n",
            "|(24,[0,1,2,3,4,8,...|    0|[15.3485289130138...|[0.76742644565069...|       0.0|\n",
            "|(24,[0,1,2,3,4,8,...|    0|[16.5284444417352...|[0.82642222208676...|       0.0|\n",
            "|(24,[0,1,2,3,5,6,...|    0|[18.0005759997679...|[0.90002879998839...|       0.0|\n",
            "|(24,[0,1,2,3,5,6,...|    0|[12.7577462101532...|[0.63788731050766...|       0.0|\n",
            "|(24,[0,1,2,3,5,6,...|    0|[17.3802234084668...|[0.86901117042334...|       0.0|\n",
            "|(24,[0,1,2,3,5,6,...|    0|[17.2590921858649...|[0.86295460929324...|       0.0|\n",
            "+--------------------+-----+--------------------+--------------------+----------+\n",
            "only showing top 20 rows\n",
            "\n"
          ]
        }
      ]
    },
    {
      "cell_type": "markdown",
      "source": [
        "### Métricas"
      ],
      "metadata": {
        "id": "6cko6CiCBWjk"
      }
    },
    {
      "cell_type": "code",
      "source": [
        "print(\"Acurácia: %f\" % evaluator.evaluate(previsoes_rfc_teste, {evaluator.metricName: \"accuracy\"}))\n",
        "print(\"Precisão: %f\" % evaluator.evaluate(previsoes_rfc_teste, {evaluator.metricName: \"precisionByLabel\", evaluator.metricLabel: 1}))\n",
        "print(\"Recall: %f\" % evaluator.evaluate(previsoes_rfc_teste, {evaluator.metricName: \"recallByLabel\", evaluator.metricLabel: 1}))\n",
        "print(\"F1: %f\" % evaluator.evaluate(previsoes_rfc_teste, {evaluator.metricName: \"fMeasureByLabel\", evaluator.metricLabel: 1}))"
      ],
      "metadata": {
        "colab": {
          "base_uri": "https://localhost:8080/"
        },
        "id": "79G1hT73BRQ-",
        "outputId": "7ba335bf-444b-4c8e-b27c-06e8d6e02cab"
      },
      "execution_count": null,
      "outputs": [
        {
          "output_type": "stream",
          "name": "stdout",
          "text": [
            "Acurácia: 0.770210\n",
            "Precisão: 0.751345\n",
            "Recall: 0.804223\n",
            "F1: 0.776885\n"
          ]
        }
      ]
    },
    {
      "cell_type": "code",
      "source": [
        "calcula_mostra_matriz_confusao(previsoes_rfc_teste)"
      ],
      "metadata": {
        "colab": {
          "base_uri": "https://localhost:8080/"
        },
        "id": "RDVEEhLwBbLF",
        "outputId": "505ca80a-3cd3-424a-f4e9-5006dc9c45cd"
      },
      "execution_count": null,
      "outputs": [
        {
          "output_type": "stream",
          "name": "stdout",
          "text": [
            "                     Previsto\n",
            "                Churn       Não-Churn\n",
            "     Churn        1257         306\n",
            "Real\n",
            "     Não-Churn    416         1163\n"
          ]
        }
      ]
    },
    {
      "cell_type": "markdown",
      "source": [
        "## Comparando os resultados dos modelos"
      ],
      "metadata": {
        "id": "2Hgm6SD9GJxv"
      }
    },
    {
      "cell_type": "code",
      "source": [
        "print(f\"\"\"Acurácia:\n",
        "      Logistic Regression = {evaluator.evaluate(previsoes_lr_teste, {evaluator.metricName: 'accuracy'})}\n",
        "      Decision Tree Classifier = {evaluator.evaluate(previsoes_dtc_teste, {evaluator.metricName: 'accuracy'})}\n",
        "      Random Forest Classifier = {evaluator.evaluate(previsoes_rfc_teste, {evaluator.metricName: 'accuracy'})}\n",
        "=====================================================================================\n",
        "\n",
        "      \"\"\"\n",
        ")\n",
        "print(f\"\"\"Precisão:\n",
        "      Logistic Regression = {evaluator.evaluate(previsoes_lr_teste, {evaluator.metricName: \"precisionByLabel\", evaluator.metricLabel: 1})}\n",
        "      Decision Tree Classifier = {evaluator.evaluate(previsoes_dtc_teste, {evaluator.metricName: \"precisionByLabel\", evaluator.metricLabel: 1})}\n",
        "      Random Forest Classifier = {evaluator.evaluate(previsoes_rfc_teste, {evaluator.metricName: \"precisionByLabel\", evaluator.metricLabel: 1})}\n",
        "=====================================================================================\n",
        "\n",
        "      \"\"\"\n",
        ")\n",
        "print(f\"\"\"Recall:\n",
        "      Logistic Regression = {evaluator.evaluate(previsoes_lr_teste, {evaluator.metricName: \"recallByLabel\", evaluator.metricLabel: 1})}\n",
        "      Decision Tree Classifier = {evaluator.evaluate(previsoes_dtc_teste, {evaluator.metricName: \"recallByLabel\", evaluator.metricLabel: 1})}\n",
        "      Random Forest Classifier = {evaluator.evaluate(previsoes_rfc_teste, {evaluator.metricName: \"recallByLabel\", evaluator.metricLabel: 1})}\n",
        "=====================================================================================\n",
        "\n",
        "      \"\"\"\n",
        ")\n",
        "print(f\"\"\"F1:\n",
        "      Logistic Regression = {evaluator.evaluate(previsoes_lr_teste, {evaluator.metricName: \"fMeasureByLabel\", evaluator.metricLabel: 1})}\n",
        "      Decision Tree Classifier = {evaluator.evaluate(previsoes_dtc_teste, {evaluator.metricName: \"fMeasureByLabel\", evaluator.metricLabel: 1})}\n",
        "      Random Forest Classifier = {evaluator.evaluate(previsoes_rfc_teste, {evaluator.metricName: \"fMeasureByLabel\", evaluator.metricLabel: 1})}\n",
        "=====================================================================================\n",
        "\n",
        "      \"\"\"\n",
        ")\n"
      ],
      "metadata": {
        "colab": {
          "base_uri": "https://localhost:8080/"
        },
        "id": "_UOVI3LSBe01",
        "outputId": "72725ec5-0036-4b9e-da04-3386b48c45d5"
      },
      "execution_count": null,
      "outputs": [
        {
          "output_type": "stream",
          "name": "stdout",
          "text": [
            "Acurácia:\n",
            "      Logistic Regression = 0.7749840865690643\n",
            "      Decision Tree Classifier = 0.7714831317632082\n",
            "      Random Forest Classifier = 0.7702100572883513\n",
            "=====================================================================================\n",
            "\n",
            "      \n",
            "Precisão:\n",
            "      Logistic Regression = 0.7584541062801933\n",
            "      Decision Tree Classifier = 0.7785102175346078\n",
            "      Random Forest Classifier = 0.7513448894202033\n",
            "=====================================================================================\n",
            "\n",
            "      \n",
            "Recall:\n",
            "      Logistic Regression = 0.8035828534868842\n",
            "      Decision Tree Classifier = 0.7555982085732565\n",
            "      Random Forest Classifier = 0.8042226487523992\n",
            "=====================================================================================\n",
            "\n",
            "      \n",
            "F1:\n",
            "      Logistic Regression = 0.7803665734700218\n",
            "      Decision Tree Classifier = 0.7668831168831168\n",
            "      Random Forest Classifier = 0.7768850432632881\n",
            "=====================================================================================\n",
            "\n",
            "      \n"
          ]
        }
      ]
    },
    {
      "cell_type": "code",
      "source": [
        "print('Logistic Regression:')\n",
        "calcula_mostra_matriz_confusao(previsoes_lr_teste)\n",
        "print('\\n', '='*50)\n",
        "print('\\nDecision Tree:')\n",
        "calcula_mostra_matriz_confusao(previsoes_dtc_teste)\n",
        "print('\\n', '='*50)\n",
        "print('\\nRandom Forest:')\n",
        "calcula_mostra_matriz_confusao(previsoes_rfc_teste)"
      ],
      "metadata": {
        "colab": {
          "base_uri": "https://localhost:8080/"
        },
        "id": "qZ4_lWZeD29u",
        "outputId": "35c5152b-d68c-4faa-b147-233c0ba855af"
      },
      "execution_count": null,
      "outputs": [
        {
          "output_type": "stream",
          "name": "stdout",
          "text": [
            "Logistic Regression:\n",
            "                     Previsto\n",
            "                Churn       Não-Churn\n",
            "     Churn        1256         307\n",
            "Real\n",
            "     Não-Churn    400         1179\n",
            "\n",
            " ==================================================\n",
            "\n",
            "Decision Tree:\n",
            "                     Previsto\n",
            "                Churn       Não-Churn\n",
            "     Churn        1181         382\n",
            "Real\n",
            "     Não-Churn    336         1243\n",
            "\n",
            " ==================================================\n",
            "\n",
            "Random Forest:\n",
            "                     Previsto\n",
            "                Churn       Não-Churn\n",
            "     Churn        1257         306\n",
            "Real\n",
            "     Não-Churn    416         1163\n"
          ]
        }
      ]
    },
    {
      "cell_type": "markdown",
      "source": [
        "## Regressão Logistica com Cross Validation"
      ],
      "metadata": {
        "id": "AmQZyiCmV4a2"
      }
    },
    {
      "cell_type": "code",
      "source": [
        "lr = LogisticRegression()"
      ],
      "metadata": {
        "id": "2ImoPn5SV7rO"
      },
      "execution_count": null,
      "outputs": []
    },
    {
      "cell_type": "code",
      "source": [
        "grid = ParamGridBuilder()\\\n",
        "    .addGrid(lr.regParam, [0.01, 0.1, 0.5, 1.0, 2.0])\\\n",
        "    .addGrid(lr.elasticNetParam, [0.0, 0.25, 0.5, 0.75, 1.0])\\\n",
        "    .addGrid(lr.maxIter, [1, 5, 10, 20, 50])\\\n",
        "    .build()"
      ],
      "metadata": {
        "id": "scL4jwrZV_bZ"
      },
      "execution_count": null,
      "outputs": []
    },
    {
      "cell_type": "code",
      "source": [
        "evaluator = MulticlassClassificationEvaluator()"
      ],
      "metadata": {
        "id": "aLiQgCNMWSGu"
      },
      "execution_count": null,
      "outputs": []
    },
    {
      "cell_type": "code",
      "source": [
        "lr_cv = CrossValidator(\n",
        "    estimator = lr,\n",
        "    estimatorParamMaps = grid,\n",
        "    evaluator = evaluator,\n",
        "    numFolds = 3,\n",
        "    seed = 101\n",
        ")"
      ],
      "metadata": {
        "id": "X82xO5RtWR93"
      },
      "execution_count": null,
      "outputs": []
    },
    {
      "cell_type": "code",
      "source": [
        "modelo_lr_cv = lr_cv.fit(treino)"
      ],
      "metadata": {
        "id": "Zw1XnsrfWjmu"
      },
      "execution_count": null,
      "outputs": []
    },
    {
      "cell_type": "code",
      "source": [
        "previsoes_lr_cv_teste = modelo_lr_cv.transform(teste)"
      ],
      "metadata": {
        "id": "jp1qP0zwWpff"
      },
      "execution_count": null,
      "outputs": []
    },
    {
      "cell_type": "markdown",
      "source": [
        "### Métricas"
      ],
      "metadata": {
        "id": "5db2BGkAWs4m"
      }
    },
    {
      "cell_type": "code",
      "source": [
        "print(\"Acurácia: %f\" % evaluator.evaluate(previsoes_lr_cv_teste, {evaluator.metricName: \"accuracy\"}))\n",
        "print(\"Precisão: %f\" % evaluator.evaluate(previsoes_lr_cv_teste, {evaluator.metricName: \"precisionByLabel\", evaluator.metricLabel: 1}))\n",
        "print(\"Recall: %f\" % evaluator.evaluate(previsoes_lr_cv_teste, {evaluator.metricName: \"recallByLabel\", evaluator.metricLabel: 1}))\n",
        "print(\"F1: %f\" % evaluator.evaluate(previsoes_lr_cv_teste, {evaluator.metricName: \"fMeasureByLabel\", evaluator.metricLabel: 1}))"
      ],
      "metadata": {
        "colab": {
          "base_uri": "https://localhost:8080/"
        },
        "id": "3_-C36PcWuQl",
        "outputId": "b038af27-8084-428a-c920-6cc5d4b0eead"
      },
      "execution_count": null,
      "outputs": [
        {
          "output_type": "stream",
          "name": "stdout",
          "text": [
            "Acurácia: 0.776894\n",
            "Precisão: 0.756548\n",
            "Recall: 0.813180\n",
            "F1: 0.783842\n"
          ]
        }
      ]
    },
    {
      "cell_type": "code",
      "source": [
        "calcula_mostra_matriz_confusao(previsoes_lr_cv_teste)"
      ],
      "metadata": {
        "colab": {
          "base_uri": "https://localhost:8080/"
        },
        "id": "3RoVRtxeWxew",
        "outputId": "cc459a54-c47a-4360-9949-3c65a97cd99f"
      },
      "execution_count": null,
      "outputs": [
        {
          "output_type": "stream",
          "name": "stdout",
          "text": [
            "                     Previsto\n",
            "                Churn       Não-Churn\n",
            "     Churn        1271         292\n",
            "Real\n",
            "     Não-Churn    409         1170\n"
          ]
        }
      ]
    },
    {
      "cell_type": "markdown",
      "source": [
        "## Árvore de Decisão com Cross Validation"
      ],
      "metadata": {
        "id": "VWLsJY_pHiTq"
      }
    },
    {
      "cell_type": "code",
      "source": [
        "dtc = DecisionTreeClassifier(seed=101)"
      ],
      "metadata": {
        "id": "eA5BaAQ4HpxS"
      },
      "execution_count": null,
      "outputs": []
    },
    {
      "cell_type": "code",
      "source": [
        "grid = ParamGridBuilder()\\\n",
        "    .addGrid(dtc.maxDepth, [2, 5, 10])\\\n",
        "    .addGrid(dtc.maxBins, [10, 32, 45])\\\n",
        "    .build()"
      ],
      "metadata": {
        "id": "F7yPHQq4Hvk6"
      },
      "execution_count": null,
      "outputs": []
    },
    {
      "cell_type": "code",
      "source": [
        "evaluator = MulticlassClassificationEvaluator()"
      ],
      "metadata": {
        "id": "8p41YxbcIHdC"
      },
      "execution_count": null,
      "outputs": []
    },
    {
      "cell_type": "code",
      "source": [
        "dtc_cv = CrossValidator(\n",
        "    estimator = dtc,\n",
        "    estimatorParamMaps = grid,\n",
        "    evaluator = evaluator,\n",
        "    seed = 101,\n",
        "    numFolds = 3\n",
        ")"
      ],
      "metadata": {
        "id": "A-qkCVvdIOX6"
      },
      "execution_count": null,
      "outputs": []
    },
    {
      "cell_type": "code",
      "source": [
        "modelo_dtc_cv = dtc_cv.fit(treino)"
      ],
      "metadata": {
        "id": "IM6fWUO4IlQy"
      },
      "execution_count": null,
      "outputs": []
    },
    {
      "cell_type": "code",
      "source": [
        "previsoes_dtc_cv_teste = modelo_dtc_cv.transform(teste)"
      ],
      "metadata": {
        "id": "mwxwp282Im1q"
      },
      "execution_count": null,
      "outputs": []
    },
    {
      "cell_type": "markdown",
      "source": [
        "###Métricas"
      ],
      "metadata": {
        "id": "d4Z56ZeuJd6R"
      }
    },
    {
      "cell_type": "code",
      "source": [
        "print(\"Acurácia: %f\" % evaluator.evaluate(previsoes_dtc_cv_teste, {evaluator.metricName: \"accuracy\"}))\n",
        "print(\"Precisão: %f\" % evaluator.evaluate(previsoes_dtc_cv_teste, {evaluator.metricName: \"precisionByLabel\", evaluator.metricLabel: 1}))\n",
        "print(\"Recall: %f\" % evaluator.evaluate(previsoes_dtc_cv_teste, {evaluator.metricName: \"recallByLabel\", evaluator.metricLabel: 1}))\n",
        "print(\"F1: %f\" % evaluator.evaluate(previsoes_dtc_cv_teste, {evaluator.metricName: \"fMeasureByLabel\", evaluator.metricLabel: 1}))"
      ],
      "metadata": {
        "colab": {
          "base_uri": "https://localhost:8080/"
        },
        "id": "0m_NLTBpJcjD",
        "outputId": "f5e42426-4de3-4bb0-d0ea-c19ddaecfbc8"
      },
      "execution_count": null,
      "outputs": [
        {
          "output_type": "stream",
          "name": "stdout",
          "text": [
            "Acurácia: 0.790261\n",
            "Precisão: 0.758286\n",
            "Recall: 0.849008\n",
            "F1: 0.801087\n"
          ]
        }
      ]
    },
    {
      "cell_type": "code",
      "source": [
        "calcula_mostra_matriz_confusao(previsoes_dtc_cv_teste)"
      ],
      "metadata": {
        "colab": {
          "base_uri": "https://localhost:8080/"
        },
        "id": "qKyA-HCuJjbT",
        "outputId": "efef7433-4c7d-4dca-91b2-2ff14e7ea203"
      },
      "execution_count": null,
      "outputs": [
        {
          "output_type": "stream",
          "name": "stdout",
          "text": [
            "                     Previsto\n",
            "                Churn       Não-Churn\n",
            "     Churn        1327         236\n",
            "Real\n",
            "     Não-Churn    423         1156\n"
          ]
        }
      ]
    },
    {
      "cell_type": "markdown",
      "source": [
        "## RandomForest com Cross Validation"
      ],
      "metadata": {
        "id": "2Tr77QgGJ27S"
      }
    },
    {
      "cell_type": "code",
      "source": [
        "rfc = RandomForestClassifier()"
      ],
      "metadata": {
        "id": "TbshaZzCJlH7"
      },
      "execution_count": null,
      "outputs": []
    },
    {
      "cell_type": "code",
      "source": [
        "grid = ParamGridBuilder()\\\n",
        "    .addGrid(rfc.maxDepth, [2, 5, 10])\\\n",
        "    .addGrid(rfc.maxBins, [10, 32, 45])\\\n",
        "    .addGrid(rfc.numTrees, [10, 20, 50])\\\n",
        "    .build()"
      ],
      "metadata": {
        "id": "YeYJNYwyJ-1s"
      },
      "execution_count": null,
      "outputs": []
    },
    {
      "cell_type": "code",
      "source": [
        "evaluator = MulticlassClassificationEvaluator()"
      ],
      "metadata": {
        "id": "eF4RbbuUK21n"
      },
      "execution_count": null,
      "outputs": []
    },
    {
      "cell_type": "code",
      "source": [
        "rfc_cv = CrossValidator(\n",
        "    estimator = rfc,\n",
        "    estimatorParamMaps = grid,\n",
        "    evaluator = evaluator,\n",
        "    numFolds = 3,\n",
        "    seed = 101\n",
        ")"
      ],
      "metadata": {
        "id": "Fy_UjMPcKLUb"
      },
      "execution_count": null,
      "outputs": []
    },
    {
      "cell_type": "code",
      "source": [
        "modelo_rfc_cv = rfc_cv.fit(treino)"
      ],
      "metadata": {
        "id": "T6hCHLLoKUI9"
      },
      "execution_count": null,
      "outputs": []
    },
    {
      "cell_type": "code",
      "source": [
        "previsoes_rfc_cv_teste = modelo_rfc_cv.transform(teste)"
      ],
      "metadata": {
        "id": "KWHfrg9YKawk"
      },
      "execution_count": null,
      "outputs": []
    },
    {
      "cell_type": "markdown",
      "source": [
        "### Métricas"
      ],
      "metadata": {
        "id": "1ogtg_ADKl4X"
      }
    },
    {
      "cell_type": "code",
      "source": [
        "print(\"Acurácia: %f\" % evaluator.evaluate(previsoes_rfc_cv_teste, {evaluator.metricName: \"accuracy\"}))\n",
        "print(\"Precisão: %f\" % evaluator.evaluate(previsoes_rfc_cv_teste, {evaluator.metricName: \"precisionByLabel\", evaluator.metricLabel: 1}))\n",
        "print(\"Recall: %f\" % evaluator.evaluate(previsoes_rfc_cv_teste, {evaluator.metricName: \"recallByLabel\", evaluator.metricLabel: 1}))\n",
        "print(\"F1: %f\" % evaluator.evaluate(previsoes_rfc_cv_teste, {evaluator.metricName: \"fMeasureByLabel\", evaluator.metricLabel: 1}))"
      ],
      "metadata": {
        "colab": {
          "base_uri": "https://localhost:8080/"
        },
        "id": "Vcgk90lmKiEn",
        "outputId": "9fef4eff-73f4-40ac-93ed-ef911f4bb601"
      },
      "execution_count": null,
      "outputs": [
        {
          "output_type": "stream",
          "name": "stdout",
          "text": [
            "Acurácia: 0.818905\n",
            "Precisão: 0.795131\n",
            "Recall: 0.856686\n",
            "F1: 0.824761\n"
          ]
        }
      ]
    },
    {
      "cell_type": "code",
      "source": [
        "calcula_mostra_matriz_confusao(previsoes_rfc_cv_teste)"
      ],
      "metadata": {
        "colab": {
          "base_uri": "https://localhost:8080/"
        },
        "id": "NeUvgiFnKqF2",
        "outputId": "2e289325-b8e5-456e-ec1f-eed2513ed137"
      },
      "execution_count": null,
      "outputs": [
        {
          "output_type": "stream",
          "name": "stdout",
          "text": [
            "                     Previsto\n",
            "                Churn       Não-Churn\n",
            "     Churn        1339         224\n",
            "Real\n",
            "     Não-Churn    345         1234\n"
          ]
        }
      ]
    },
    {
      "cell_type": "markdown",
      "source": [
        "## Comparando modelos com Cross Validation"
      ],
      "metadata": {
        "id": "hdrLO8A1Y2O_"
      }
    },
    {
      "cell_type": "code",
      "source": [
        "print(f\"\"\"Acurácia:\n",
        "      Logistic Regression = {evaluator.evaluate(previsoes_lr_cv_teste, {evaluator.metricName: 'accuracy'})}\n",
        "      Decision Tree Classifier = {evaluator.evaluate(previsoes_cv_dtc_teste, {evaluator.metricName: 'accuracy'})}\n",
        "      Random Forest Classifier = {evaluator.evaluate(previsoes_rfc_cv_teste, {evaluator.metricName: 'accuracy'})}\n",
        "=====================================================================================\n",
        "\n",
        "      \"\"\"\n",
        ")\n",
        "print(f\"\"\"Precisão:\n",
        "      Logistic Regression = {evaluator.evaluate(previsoes_lr_cv_teste, {evaluator.metricName: \"precisionByLabel\", evaluator.metricLabel: 1})}\n",
        "      Decision Tree Classifier = {evaluator.evaluate(previsoes_dtc_cv_teste, {evaluator.metricName: \"precisionByLabel\", evaluator.metricLabel: 1})}\n",
        "      Random Forest Classifier = {evaluator.evaluate(previsoes_rfc_cv_teste, {evaluator.metricName: \"precisionByLabel\", evaluator.metricLabel: 1})}\n",
        "=====================================================================================\n",
        "\n",
        "      \"\"\"\n",
        ")\n",
        "print(f\"\"\"Recall:\n",
        "      Logistic Regression = {evaluator.evaluate(previsoes_lr_cv_teste, {evaluator.metricName: \"recallByLabel\", evaluator.metricLabel: 1})}\n",
        "      Decision Tree Classifier = {evaluator.evaluate(previsoes_dtc_cv_teste, {evaluator.metricName: \"recallByLabel\", evaluator.metricLabel: 1})}\n",
        "      Random Forest Classifier = {evaluator.evaluate(previsoes_rfc_cv_teste, {evaluator.metricName: \"recallByLabel\", evaluator.metricLabel: 1})}\n",
        "=====================================================================================\n",
        "\n",
        "      \"\"\"\n",
        ")\n",
        "print(f\"\"\"F1:\n",
        "      Logistic Regression = {evaluator.evaluate(previsoes_lr_cv_teste, {evaluator.metricName: \"fMeasureByLabel\", evaluator.metricLabel: 1})}\n",
        "      Decision Tree Classifier = {evaluator.evaluate(previsoes_dtc_cv_teste, {evaluator.metricName: \"fMeasureByLabel\", evaluator.metricLabel: 1})}\n",
        "      Random Forest Classifier = {evaluator.evaluate(previsoes_rfc_cv_teste, {evaluator.metricName: \"fMeasureByLabel\", evaluator.metricLabel: 1})}\n",
        "=====================================================================================\n",
        "\n",
        "      \"\"\"\n",
        ")\n"
      ],
      "metadata": {
        "colab": {
          "base_uri": "https://localhost:8080/"
        },
        "id": "kBeitaBDY8mX",
        "outputId": "df4bc7dc-83c2-4166-f01b-f7f777ae28a3"
      },
      "execution_count": null,
      "outputs": [
        {
          "output_type": "stream",
          "name": "stdout",
          "text": [
            "Acurácia:\n",
            "      Logistic Regression = 0.7768936982813495\n",
            "      Decision Tree Classifier = 0.7902609802673456\n",
            "      Random Forest Classifier = 0.8189051559516232\n",
            "=====================================================================================\n",
            "\n",
            "      \n",
            "Precisão:\n",
            "      Logistic Regression = 0.756547619047619\n",
            "      Decision Tree Classifier = 0.7582857142857143\n",
            "      Random Forest Classifier = 0.7951306413301663\n",
            "=====================================================================================\n",
            "\n",
            "      \n",
            "Recall:\n",
            "      Logistic Regression = 0.8131797824696098\n",
            "      Decision Tree Classifier = 0.8490083173384517\n",
            "      Random Forest Classifier = 0.8566858605246321\n",
            "=====================================================================================\n",
            "\n",
            "      \n",
            "F1:\n",
            "      Logistic Regression = 0.7838421214924453\n",
            "      Decision Tree Classifier = 0.801086628433444\n",
            "      Random Forest Classifier = 0.8247613181398215\n",
            "=====================================================================================\n",
            "\n",
            "      \n"
          ]
        }
      ]
    },
    {
      "cell_type": "code",
      "source": [
        "print('Logistic Regression:')\n",
        "calcula_mostra_matriz_confusao(previsoes_lr_cv_teste)\n",
        "print('\\n', '='*50)\n",
        "print('\\nDecision Tree:')\n",
        "calcula_mostra_matriz_confusao(previsoes_dtc_cv_teste)\n",
        "print('\\n', '='*50)\n",
        "print('\\nRandom Forest:')\n",
        "calcula_mostra_matriz_confusao(previsoes_rfc_cv_teste)"
      ],
      "metadata": {
        "colab": {
          "base_uri": "https://localhost:8080/"
        },
        "id": "GycVMNMLZT2e",
        "outputId": "6278a9d1-6fba-426d-ff3e-c37bc3d7f2c9"
      },
      "execution_count": null,
      "outputs": [
        {
          "output_type": "stream",
          "name": "stdout",
          "text": [
            "Logistic Regression:\n",
            "                     Previsto\n",
            "                Churn       Não-Churn\n",
            "     Churn        1271         292\n",
            "Real\n",
            "     Não-Churn    409         1170\n",
            "\n",
            " ==================================================\n",
            "\n",
            "Decision Tree:\n",
            "                     Previsto\n",
            "                Churn       Não-Churn\n",
            "     Churn        1327         236\n",
            "Real\n",
            "     Não-Churn    423         1156\n",
            "\n",
            " ==================================================\n",
            "\n",
            "Random Forest:\n",
            "                     Previsto\n",
            "                Churn       Não-Churn\n",
            "     Churn        1339         224\n",
            "Real\n",
            "     Não-Churn    345         1234\n"
          ]
        }
      ]
    },
    {
      "cell_type": "markdown",
      "source": [
        "## Modelo final"
      ],
      "metadata": {
        "id": "GGPO2fqLLYbd"
      }
    },
    {
      "cell_type": "code",
      "source": [
        "melhor_modelo_rfc_cv = modelo_rfc_cv.bestModel"
      ],
      "metadata": {
        "id": "YzoF5FSxKr3-"
      },
      "execution_count": null,
      "outputs": []
    },
    {
      "cell_type": "code",
      "source": [
        "print(f'Best Max Depth: {melhor_modelo_rfc_cv.getMaxDepth()}')\n",
        "print(f'Best Max Bins: {melhor_modelo_rfc_cv.getMaxBins()}')\n",
        "print(f'Best Num Trees: {melhor_modelo_rfc_cv.getNumTrees}')"
      ],
      "metadata": {
        "colab": {
          "base_uri": "https://localhost:8080/"
        },
        "id": "fvtqAPg_LeHg",
        "outputId": "37e2d5cb-e2a9-4193-9ca0-60637f67ed2f"
      },
      "execution_count": null,
      "outputs": [
        {
          "output_type": "stream",
          "name": "stdout",
          "text": [
            "Best Max Depth: 10\n",
            "Best Max Bins: 45\n",
            "Best Num Trees: 50\n"
          ]
        }
      ]
    },
    {
      "cell_type": "code",
      "source": [
        "rfc_tuning = RandomForestClassifier(maxDepth=10, maxBins=45, numTrees=10, seed=101)"
      ],
      "metadata": {
        "id": "dAzaWE2nLl8_"
      },
      "execution_count": null,
      "outputs": []
    },
    {
      "cell_type": "code",
      "source": [
        "modelo_rfc_tuning = rfc_tuning.fit(dataset_prep)"
      ],
      "metadata": {
        "id": "ZJbKQu8WLt4I"
      },
      "execution_count": null,
      "outputs": []
    },
    {
      "cell_type": "code",
      "source": [
        "X"
      ],
      "metadata": {
        "colab": {
          "base_uri": "https://localhost:8080/"
        },
        "id": "lpiPyVqxL0Zw",
        "outputId": "6dab571b-5516-4396-ee76-cbd78bdc4160"
      },
      "execution_count": null,
      "outputs": [
        {
          "output_type": "execute_result",
          "data": {
            "text/plain": [
              "['Mais65anos',\n",
              " 'MesesDeContrato',\n",
              " 'MesesCobrados',\n",
              " 'Conjuge',\n",
              " 'Dependentes',\n",
              " 'TelefoneFixo',\n",
              " 'MaisDeUmaLinhaTelefonica',\n",
              " 'SegurancaOnline',\n",
              " 'BackupOnline',\n",
              " 'SeguroDispositivo',\n",
              " 'SuporteTecnico',\n",
              " 'TVaCabo',\n",
              " 'StreamingFilmes',\n",
              " 'ContaCorreio',\n",
              " 'Internet_DSL',\n",
              " 'Internet_FibraOptica',\n",
              " 'Internet_Nao',\n",
              " 'TipoContrato_Mensalmente',\n",
              " 'TipoContrato_UmAno',\n",
              " 'TipoContrato_DoisAnos',\n",
              " 'MetodoPagamento_DebitoEmConta',\n",
              " 'MetodoPagamento_CartaoCredito',\n",
              " 'MetodoPagamento_BoletoEletronico',\n",
              " 'MetodoPagamento_Boleto']"
            ]
          },
          "metadata": {},
          "execution_count": 159
        }
      ]
    },
    {
      "cell_type": "code",
      "source": [
        "novo_cliente = [{\n",
        "    'Mais65anos': 0,\n",
        "    'MesesDeContrato': 1,\n",
        "    'MesesCobrados': 45.30540797610398,\n",
        "    'Conjuge': 0,\n",
        "    'Dependentes': 0,\n",
        "    'TelefoneFixo': 0,\n",
        "    'MaisDeUmaLinhaTelefonica': 0,\n",
        "    'SegurancaOnline': 0,\n",
        "    'BackupOnline': 0,\n",
        "    'SeguroDispositivo': 0,\n",
        "    'SuporteTecnico': 0,\n",
        "    'TVaCabo': 1,\n",
        "    'StreamingFilmes': 1,\n",
        "    'ContaCorreio': 1,\n",
        "    'Internet_DSL': 1,\n",
        "    'Internet_FibraOptica': 0,\n",
        "    'Internet_Nao': 0,\n",
        "    'TipoContrato_Mensalmente': 1,\n",
        "    'TipoContrato_UmAno': 0,\n",
        "    'TipoContrato_DoisAnos': 0,\n",
        "    'MetodoPagamento_DebitoEmConta': 0,\n",
        "    'MetodoPagamento_CartaoCredito': 0,\n",
        "    'MetodoPagamento_BoletoEletronico': 1,\n",
        "    'MetodoPagamento_Boleto': 0\n",
        "}]"
      ],
      "metadata": {
        "id": "pvUPPG7GL33P"
      },
      "execution_count": null,
      "outputs": []
    },
    {
      "cell_type": "code",
      "source": [
        "novo_cliente = spark.createDataFrame(novo_cliente)\n",
        "novo_cliente.show()"
      ],
      "metadata": {
        "colab": {
          "base_uri": "https://localhost:8080/"
        },
        "id": "8y6_WtUXL-Ew",
        "outputId": "d940b1dc-534c-48c4-ac14-497fcc187467"
      },
      "execution_count": null,
      "outputs": [
        {
          "output_type": "stream",
          "name": "stdout",
          "text": [
            "+------------+-------+------------+-----------+------------+--------------------+------------+----------+------------------------+-----------------+---------------+----------------------+--------------------------------+-----------------------------+-----------------------------+---------------+-----------------+---------------+--------------+-------+------------+---------------------+------------------------+------------------+\n",
            "|BackupOnline|Conjuge|ContaCorreio|Dependentes|Internet_DSL|Internet_FibraOptica|Internet_Nao|Mais65anos|MaisDeUmaLinhaTelefonica|    MesesCobrados|MesesDeContrato|MetodoPagamento_Boleto|MetodoPagamento_BoletoEletronico|MetodoPagamento_CartaoCredito|MetodoPagamento_DebitoEmConta|SegurancaOnline|SeguroDispositivo|StreamingFilmes|SuporteTecnico|TVaCabo|TelefoneFixo|TipoContrato_DoisAnos|TipoContrato_Mensalmente|TipoContrato_UmAno|\n",
            "+------------+-------+------------+-----------+------------+--------------------+------------+----------+------------------------+-----------------+---------------+----------------------+--------------------------------+-----------------------------+-----------------------------+---------------+-----------------+---------------+--------------+-------+------------+---------------------+------------------------+------------------+\n",
            "|           0|      0|           1|          0|           1|                   0|           0|         0|                       0|45.30540797610398|              1|                     0|                               1|                            0|                            0|              0|                0|              1|             0|      1|           0|                    0|                       1|                 0|\n",
            "+------------+-------+------------+-----------+------------+--------------------+------------+----------+------------------------+-----------------+---------------+----------------------+--------------------------------+-----------------------------+-----------------------------+---------------+-----------------+---------------+--------------+-------+------------+---------------------+------------------------+------------------+\n",
            "\n"
          ]
        }
      ]
    },
    {
      "cell_type": "code",
      "source": [
        "assembler = VectorAssembler(inputCols = X, outputCol = 'features')"
      ],
      "metadata": {
        "id": "DSKai2O7MDNB"
      },
      "execution_count": null,
      "outputs": []
    },
    {
      "cell_type": "code",
      "source": [
        "novo_cliente_prep = assembler.transform(novo_cliente).select('features')"
      ],
      "metadata": {
        "id": "NawkykFKMJ_Z"
      },
      "execution_count": null,
      "outputs": []
    },
    {
      "cell_type": "code",
      "source": [
        "novo_cliente_prep.show(truncate=False)"
      ],
      "metadata": {
        "colab": {
          "base_uri": "https://localhost:8080/"
        },
        "id": "4NetkpLUMSoB",
        "outputId": "7fa84c35-88ea-4386-bb50-724811a27be9"
      },
      "execution_count": null,
      "outputs": [
        {
          "output_type": "stream",
          "name": "stdout",
          "text": [
            "+----------------------------------------------------------------------------+\n",
            "|features                                                                    |\n",
            "+----------------------------------------------------------------------------+\n",
            "|(24,[1,2,11,12,13,14,17,22],[1.0,45.30540797610398,1.0,1.0,1.0,1.0,1.0,1.0])|\n",
            "+----------------------------------------------------------------------------+\n",
            "\n"
          ]
        }
      ]
    },
    {
      "cell_type": "code",
      "source": [
        "previsao = modelo_rfc_tuning.transform(novo_cliente_prep)"
      ],
      "metadata": {
        "id": "fmWPSoLnMUki"
      },
      "execution_count": null,
      "outputs": []
    },
    {
      "cell_type": "code",
      "source": [
        "previsao.select('prediction').show()"
      ],
      "metadata": {
        "colab": {
          "base_uri": "https://localhost:8080/"
        },
        "id": "eDgelWKRMYSb",
        "outputId": "5f620fc2-e188-4af0-982a-ebeaa9f16b4a"
      },
      "execution_count": null,
      "outputs": [
        {
          "output_type": "stream",
          "name": "stdout",
          "text": [
            "+----------+\n",
            "|prediction|\n",
            "+----------+\n",
            "|       1.0|\n",
            "+----------+\n",
            "\n"
          ]
        }
      ]
    }
  ]
}