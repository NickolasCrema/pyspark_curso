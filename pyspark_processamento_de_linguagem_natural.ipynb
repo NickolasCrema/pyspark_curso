{
  "nbformat": 4,
  "nbformat_minor": 0,
  "metadata": {
    "colab": {
      "provenance": [],
      "authorship_tag": "ABX9TyPlkms110RT7wiKijqxvXgm",
      "include_colab_link": true
    },
    "kernelspec": {
      "name": "python3",
      "display_name": "Python 3"
    },
    "language_info": {
      "name": "python"
    }
  },
  "cells": [
    {
      "cell_type": "markdown",
      "metadata": {
        "id": "view-in-github",
        "colab_type": "text"
      },
      "source": [
        "<a href=\"https://colab.research.google.com/github/NickolasCrema/pyspark_curso/blob/main/pyspark_processamento_de_linguagem_natural.ipynb\" target=\"_parent\"><img src=\"https://colab.research.google.com/assets/colab-badge.svg\" alt=\"Open In Colab\"/></a>"
      ]
    },
    {
      "cell_type": "markdown",
      "source": [
        "# Curso de processamento de linguagem natural"
      ],
      "metadata": {
        "id": "tDuM0wcQLY73"
      }
    },
    {
      "cell_type": "markdown",
      "source": [
        "## Preparando o ambiente"
      ],
      "metadata": {
        "id": "GA_UgujCLdLU"
      }
    },
    {
      "cell_type": "code",
      "execution_count": null,
      "metadata": {
        "colab": {
          "base_uri": "https://localhost:8080/"
        },
        "id": "c5FDD3EDInGH",
        "outputId": "4f5a846e-7a7b-4845-eeac-c4c354008c0f"
      },
      "outputs": [
        {
          "output_type": "stream",
          "name": "stdout",
          "text": [
            "Looking in indexes: https://pypi.org/simple, https://us-python.pkg.dev/colab-wheels/public/simple/\n",
            "Requirement already satisfied: pyspark in /usr/local/lib/python3.10/dist-packages (3.4.0)\n",
            "Requirement already satisfied: py4j==0.10.9.7 in /usr/local/lib/python3.10/dist-packages (from pyspark) (0.10.9.7)\n"
          ]
        }
      ],
      "source": [
        "!pip install pyspark"
      ]
    },
    {
      "cell_type": "code",
      "source": [
        "from pyspark.sql import SparkSession"
      ],
      "metadata": {
        "id": "UaI0Z7YVIr-j"
      },
      "execution_count": null,
      "outputs": []
    },
    {
      "cell_type": "code",
      "source": [
        "spark = SparkSession.builder\\\n",
        "    .master('local[*]')\\\n",
        "    .appName('Processamento de linguagem natural')\\\n",
        "    .getOrCreate()"
      ],
      "metadata": {
        "id": "0e9Zm0pEIukX"
      },
      "execution_count": null,
      "outputs": []
    },
    {
      "cell_type": "code",
      "source": [
        "from google.colab import drive\n",
        "drive.mount('/content/drive')"
      ],
      "metadata": {
        "colab": {
          "base_uri": "https://localhost:8080/"
        },
        "id": "8RldlKPNI3uj",
        "outputId": "96819278-88be-4dc4-dff0-4760633f5792"
      },
      "execution_count": null,
      "outputs": [
        {
          "output_type": "stream",
          "name": "stdout",
          "text": [
            "Drive already mounted at /content/drive; to attempt to forcibly remount, call drive.mount(\"/content/drive\", force_remount=True).\n"
          ]
        }
      ]
    },
    {
      "cell_type": "markdown",
      "source": [
        "## Analise exploratoria dos dados"
      ],
      "metadata": {
        "id": "pnejDpyiL0t4"
      }
    },
    {
      "cell_type": "markdown",
      "source": [
        "Lendo os dados"
      ],
      "metadata": {
        "id": "7Whi1Y9sOq6h"
      }
    },
    {
      "cell_type": "code",
      "source": [
        "dados = spark.read.csv(\n",
        "    '/content/drive/MyDrive/data_spark_nlp/imdb-reviews-pt-br.csv',\n",
        "    escape='\\\"',\n",
        "    inferSchema=True,\n",
        "    header=True\n",
        ")"
      ],
      "metadata": {
        "id": "2W41_XmJJLj7"
      },
      "execution_count": null,
      "outputs": []
    },
    {
      "cell_type": "markdown",
      "source": [
        "Tamanho dos dados"
      ],
      "metadata": {
        "id": "IP3MrDqBOoUV"
      }
    },
    {
      "cell_type": "code",
      "source": [
        "print(f'N de linhas: {dados.count()} \\t N de colunas: {len(dados.columns)}')"
      ],
      "metadata": {
        "colab": {
          "base_uri": "https://localhost:8080/"
        },
        "id": "xiUABtFVNpgJ",
        "outputId": "b0427649-b6c6-41fc-fd41-c3fcbd6b465d"
      },
      "execution_count": null,
      "outputs": [
        {
          "output_type": "stream",
          "name": "stdout",
          "text": [
            "N de linhas: 49459 \t N de colunas: 4\n"
          ]
        }
      ]
    },
    {
      "cell_type": "markdown",
      "source": [
        "Tipo dos dados"
      ],
      "metadata": {
        "id": "oNOFk7zPOnAY"
      }
    },
    {
      "cell_type": "code",
      "source": [
        "dados.printSchema()"
      ],
      "metadata": {
        "colab": {
          "base_uri": "https://localhost:8080/"
        },
        "id": "fc2hK_L1N3s_",
        "outputId": "576480a8-16aa-4210-be12-7959e45d2b85"
      },
      "execution_count": null,
      "outputs": [
        {
          "output_type": "stream",
          "name": "stdout",
          "text": [
            "root\n",
            " |-- id: integer (nullable = true)\n",
            " |-- text_en: string (nullable = true)\n",
            " |-- text_pt: string (nullable = true)\n",
            " |-- sentiment: string (nullable = true)\n",
            "\n"
          ]
        }
      ]
    },
    {
      "cell_type": "markdown",
      "source": [
        "Visualizando dados"
      ],
      "metadata": {
        "id": "DukBqIeXOkwq"
      }
    },
    {
      "cell_type": "code",
      "source": [
        "dados.limit(10).show()"
      ],
      "metadata": {
        "colab": {
          "base_uri": "https://localhost:8080/"
        },
        "id": "p7YlVLS8N8t0",
        "outputId": "bbc92177-8279-442f-ea89-f27e746312da"
      },
      "execution_count": null,
      "outputs": [
        {
          "output_type": "stream",
          "name": "stdout",
          "text": [
            "+---+--------------------+--------------------+---------+\n",
            "| id|             text_en|             text_pt|sentiment|\n",
            "+---+--------------------+--------------------+---------+\n",
            "|  1|Once again Mr. Co...|Mais uma vez, o S...|      neg|\n",
            "|  2|This is an exampl...|Este é um exemplo...|      neg|\n",
            "|  3|First of all I ha...|Primeiro de tudo ...|      neg|\n",
            "|  4|Not even the Beat...|Nem mesmo os Beat...|      neg|\n",
            "|  5|Brass pictures mo...|Filmes de fotos d...|      neg|\n",
            "|  6|A funny thing hap...|Uma coisa engraça...|      neg|\n",
            "|  7|This German horro...|Este filme de ter...|      neg|\n",
            "|  8|Being a long-time...|Sendo um fã de lo...|      neg|\n",
            "|  9|\"Tokyo Eyes\" tell...|\"Tokyo Eyes\" fala...|      neg|\n",
            "| 10|Wealthy horse ran...|Fazendeiros ricos...|      neg|\n",
            "+---+--------------------+--------------------+---------+\n",
            "\n"
          ]
        }
      ]
    },
    {
      "cell_type": "markdown",
      "source": [
        "Exemplo de dado negativo e positivo\n",
        "Tem-se conhecimento que o dado id=190 eh negativo e dado id=12427 eh positivo"
      ],
      "metadata": {
        "id": "NbU27qDSOhG0"
      }
    },
    {
      "cell_type": "code",
      "source": [
        "print('Negativo')\n",
        "dados.filter(dados.id == 190).select('text_pt').show(truncate=False)\n",
        "print('\\nPositivo')\n",
        "dados.filter(dados.id == 12427).select('text_pt').show(truncate=False)"
      ],
      "metadata": {
        "colab": {
          "base_uri": "https://localhost:8080/"
        },
        "id": "YGg1bm-TOCu-",
        "outputId": "ef789e14-37bd-43f8-9ced-32d45c855578"
      },
      "execution_count": null,
      "outputs": [
        {
          "output_type": "stream",
          "name": "stdout",
          "text": [
            "Negativo\n",
            "+---------------------------------------------------------------------------------------------------------------------------------------------------------------------------------------------------------------------------------------------------------------------------------------------------------------------------------------------------------------------------------------------------------------------------------------------------------------------------------------------------------------------------------------------------------------------------------------------------------------------------------------------------------------------------------------------------------------------------------------------------------------------------------------------------------------------------------------------------------------------------------------------------+\n",
            "|text_pt                                                                                                                                                                                                                                                                                                                                                                                                                                                                                                                                                                                                                                                                                                                                                                                                                                                                                            |\n",
            "+---------------------------------------------------------------------------------------------------------------------------------------------------------------------------------------------------------------------------------------------------------------------------------------------------------------------------------------------------------------------------------------------------------------------------------------------------------------------------------------------------------------------------------------------------------------------------------------------------------------------------------------------------------------------------------------------------------------------------------------------------------------------------------------------------------------------------------------------------------------------------------------------------+\n",
            "|Este é sem dúvida o pior filme que eu já vi. E acredite em mim, eu vi muitos filmes. A reviravolta inacreditável que o filme faz - passando de um extremamente mau filme \"Formas de vida alienígenas habitam a terra\", com um filme que tenta espalhar um arquicristiano \"O dia do julgamento está próximo, buscar Jesus ou queimar por toda a eternidade em as dívidas ardentes do inferno \"mensagem - deixou-me atordoado depois de ter sido atormentado por 85 minutos. Até mesmo os cristãos religiosos devem se envergonhar ou ficar furiosos ao ver suas crenças postadas dessa maneira. Eu não sabia o que fazer comigo quando assisti a atuação horrível que poderia ter sido realizada por crianças de 7 anos de idade. Simplesmente repugnante. Eu não sou cristão nem muito religioso. Mas se eu estivesse, não teria mais medo do Inferno. Rich Christiano mostrou ser algo muito pior.|\n",
            "+---------------------------------------------------------------------------------------------------------------------------------------------------------------------------------------------------------------------------------------------------------------------------------------------------------------------------------------------------------------------------------------------------------------------------------------------------------------------------------------------------------------------------------------------------------------------------------------------------------------------------------------------------------------------------------------------------------------------------------------------------------------------------------------------------------------------------------------------------------------------------------------------------+\n",
            "\n",
            "\n",
            "Positivo\n",
            "+-----------------------------------------------------------------------------------------------------------------------------------------------------------------------------------------------------------------------------------------------------------------------------------------------------------------------------------------------------------------------------------------------------------------------------------------------------------------------------------------------------------------------------------------------------------------------------------------------------------------------------------------------------------------------------------------------------------------------------------------------------+\n",
            "|text_pt                                                                                                                                                                                                                                                                                                                                                                                                                                                                                                                                                                                                                                                                                                                                              |\n",
            "+-----------------------------------------------------------------------------------------------------------------------------------------------------------------------------------------------------------------------------------------------------------------------------------------------------------------------------------------------------------------------------------------------------------------------------------------------------------------------------------------------------------------------------------------------------------------------------------------------------------------------------------------------------------------------------------------------------------------------------------------------------+\n",
            "|O filme é excelente. Uma das coisas mais notáveis ​​sobre isso é que o desempenho Flynns é excelente. Isso vale a pena enfatizar, já que ele costumava ser ridicularizado como ator por Bette Davis et al. Lembro-me da cena em que Flynn fica bêbado de Arthur Kennedy para levá-lo ao seu destino na Batalha de Little Big Horn. O olhar frio e calculista no rosto de Flynns é extraordinário - muito melhor do que o muito elogiado Spencer Tracy ou muitas outras estrelas poderiam ter feito. A outra coisa a notar é o excelente desempenho de George P. Huntley Jr como o \"Queens\". Próprio \"Butler. É desconcertante por que ele parou de fazer filmes pouco depois - alguém teria pensado que ele teria sido contratado por anos como ator.|\n",
            "+-----------------------------------------------------------------------------------------------------------------------------------------------------------------------------------------------------------------------------------------------------------------------------------------------------------------------------------------------------------------------------------------------------------------------------------------------------------------------------------------------------------------------------------------------------------------------------------------------------------------------------------------------------------------------------------------------------------------------------------------------------+\n",
            "\n"
          ]
        }
      ]
    },
    {
      "cell_type": "markdown",
      "source": [
        "Contabilizando os tipos de comentario"
      ],
      "metadata": {
        "id": "VQptLLWhOz4F"
      }
    },
    {
      "cell_type": "code",
      "source": [
        "dados.groupBy('sentiment').count().show()"
      ],
      "metadata": {
        "colab": {
          "base_uri": "https://localhost:8080/"
        },
        "id": "tDAK-gtcOZmH",
        "outputId": "fd5206e0-8794-4c59-fbe1-410a28300749"
      },
      "execution_count": null,
      "outputs": [
        {
          "output_type": "stream",
          "name": "stdout",
          "text": [
            "+---------+-----+\n",
            "|sentiment|count|\n",
            "+---------+-----+\n",
            "|      pos|24694|\n",
            "|      neg|24765|\n",
            "+---------+-----+\n",
            "\n"
          ]
        }
      ]
    },
    {
      "cell_type": "markdown",
      "source": [
        "## Limpando e processando os dados"
      ],
      "metadata": {
        "id": "9K-Kv2qYPojc"
      }
    },
    {
      "cell_type": "code",
      "source": [
        "dados.limit(10).show()"
      ],
      "metadata": {
        "colab": {
          "base_uri": "https://localhost:8080/"
        },
        "id": "QtHgj7OwO3-l",
        "outputId": "f33a2f5d-1234-44ef-951d-7456cd91606f"
      },
      "execution_count": null,
      "outputs": [
        {
          "output_type": "stream",
          "name": "stdout",
          "text": [
            "+---+--------------------+--------------------+---------+\n",
            "| id|             text_en|             text_pt|sentiment|\n",
            "+---+--------------------+--------------------+---------+\n",
            "|  1|Once again Mr. Co...|Mais uma vez, o S...|      neg|\n",
            "|  2|This is an exampl...|Este é um exemplo...|      neg|\n",
            "|  3|First of all I ha...|Primeiro de tudo ...|      neg|\n",
            "|  4|Not even the Beat...|Nem mesmo os Beat...|      neg|\n",
            "|  5|Brass pictures mo...|Filmes de fotos d...|      neg|\n",
            "|  6|A funny thing hap...|Uma coisa engraça...|      neg|\n",
            "|  7|This German horro...|Este filme de ter...|      neg|\n",
            "|  8|Being a long-time...|Sendo um fã de lo...|      neg|\n",
            "|  9|\"Tokyo Eyes\" tell...|\"Tokyo Eyes\" fala...|      neg|\n",
            "| 10|Wealthy horse ran...|Fazendeiros ricos...|      neg|\n",
            "+---+--------------------+--------------------+---------+\n",
            "\n"
          ]
        }
      ]
    },
    {
      "cell_type": "markdown",
      "source": [
        "### Gerando WordCloud"
      ],
      "metadata": {
        "id": "cWlJ-xgTPuZT"
      }
    },
    {
      "cell_type": "code",
      "source": [
        "from wordcloud import WordCloud\n",
        "import matplotlib.pyplot as plt"
      ],
      "metadata": {
        "id": "Lz2qH2K2PsR2"
      },
      "execution_count": null,
      "outputs": []
    },
    {
      "cell_type": "code",
      "source": [
        "amostra = dados.select('text_en').sample(fraction=0.1, seed=101)\n",
        "all = [text['text_en'] for text in amostra.collect()]"
      ],
      "metadata": {
        "id": "3lZ83v-BP11j"
      },
      "execution_count": null,
      "outputs": []
    },
    {
      "cell_type": "code",
      "source": [
        "word_cloud = WordCloud(\n",
        "    width=1000,\n",
        "    height=600,\n",
        "    collocations=False,\n",
        "    prefer_horizontal = 1\n",
        ").generate(str(all))"
      ],
      "metadata": {
        "id": "hnM1Zqv8QEFO"
      },
      "execution_count": null,
      "outputs": []
    },
    {
      "cell_type": "code",
      "source": [
        "plt.figure(figsize=(16, 7))\n",
        "plt.imshow(word_cloud)\n",
        "plt.axis('off')\n",
        "plt.show()"
      ],
      "metadata": {
        "colab": {
          "base_uri": "https://localhost:8080/",
          "height": 575
        },
        "id": "Ng9euhQXQeIx",
        "outputId": "66970668-6af7-4a1e-90c4-61ca930e5506"
      },
      "execution_count": null,
      "outputs": [
        {
          "output_type": "display_data",
          "data": {
            "text/plain": [
              "<Figure size 1600x700 with 1 Axes>"
            ],
            "image/png": "[encoded data removed]"
          },
          "metadata": {}
        }
      ]
    },
    {
      "cell_type": "markdown",
      "source": [
        "## Limpeza dos dados"
      ],
      "metadata": {
        "id": "gq-agIw1Rx3m"
      }
    },
    {
      "cell_type": "markdown",
      "source": [
        "### Caracteres especiais"
      ],
      "metadata": {
        "id": "BnCff6UcRzQr"
      }
    },
    {
      "cell_type": "code",
      "source": [
        "import string\n",
        "import pyspark.sql.functions as f"
      ],
      "metadata": {
        "id": "xqDWfdtxQgv3"
      },
      "execution_count": null,
      "outputs": []
    },
    {
      "cell_type": "code",
      "source": [
        "string.punctuation"
      ],
      "metadata": {
        "colab": {
          "base_uri": "https://localhost:8080/",
          "height": 35
        },
        "id": "neDWJL7ZR3HR",
        "outputId": "f8f3c965-c1b9-4a57-a79c-82b29cba499a"
      },
      "execution_count": null,
      "outputs": [
        {
          "output_type": "execute_result",
          "data": {
            "text/plain": [
              "'!\"#$%&\\'()*+,-./:;<=>?@[\\\\]^_`{|}~'"
            ],
            "application/vnd.google.colaboratory.intrinsic+json": {
              "type": "string"
            }
          },
          "metadata": {},
          "execution_count": 161
        }
      ]
    },
    {
      "cell_type": "markdown",
      "source": [
        "Removendo caracteres especiais"
      ],
      "metadata": {
        "id": "TKyDIkOPTVCy"
      }
    },
    {
      "cell_type": "code",
      "source": [
        "dados = dados.withColumn(\"text_en_regex\", f.regexp_replace(\"text_en\", \"[\\$#,\\\"!%&'()*+-./;;<=>?@^_`´{|}~\\\\\\\\]\", \"\"))"
      ],
      "metadata": {
        "id": "AhdHDGtcR4DG"
      },
      "execution_count": null,
      "outputs": []
    },
    {
      "cell_type": "markdown",
      "source": [
        "Removendo residuos de espacos em branco"
      ],
      "metadata": {
        "id": "mISHTHHCTsgC"
      }
    },
    {
      "cell_type": "code",
      "source": [
        "dados = dados.withColumn(\"text_en_limpo\", f.trim(dados.text_en_regex))"
      ],
      "metadata": {
        "id": "LuV8OZxNTXTg"
      },
      "execution_count": null,
      "outputs": []
    },
    {
      "cell_type": "code",
      "source": [
        "dados.limit(10).show()"
      ],
      "metadata": {
        "colab": {
          "base_uri": "https://localhost:8080/"
        },
        "id": "HeIZI-z4TduD",
        "outputId": "a5007637-0737-4d74-a65c-d88d9e116f4a"
      },
      "execution_count": null,
      "outputs": [
        {
          "output_type": "stream",
          "name": "stdout",
          "text": [
            "+---+--------------------+--------------------+---------+--------------------+--------------------+\n",
            "| id|             text_en|             text_pt|sentiment|       text_en_regex|       text_en_limpo|\n",
            "+---+--------------------+--------------------+---------+--------------------+--------------------+\n",
            "|  1|Once again Mr. Co...|Mais uma vez, o S...|      neg|Once again Mr Cos...|Once again Mr Cos...|\n",
            "|  2|This is an exampl...|Este é um exemplo...|      neg|This is an exampl...|This is an exampl...|\n",
            "|  3|First of all I ha...|Primeiro de tudo ...|      neg|First of all I ha...|First of all I ha...|\n",
            "|  4|Not even the Beat...|Nem mesmo os Beat...|      neg|Not even the Beat...|Not even the Beat...|\n",
            "|  5|Brass pictures mo...|Filmes de fotos d...|      neg|Brass pictures mo...|Brass pictures mo...|\n",
            "|  6|A funny thing hap...|Uma coisa engraça...|      neg|A funny thing hap...|A funny thing hap...|\n",
            "|  7|This German horro...|Este filme de ter...|      neg|This German horro...|This German horro...|\n",
            "|  8|Being a long-time...|Sendo um fã de lo...|      neg|Being a longtime ...|Being a longtime ...|\n",
            "|  9|\"Tokyo Eyes\" tell...|\"Tokyo Eyes\" fala...|      neg|Tokyo Eyes tells ...|Tokyo Eyes tells ...|\n",
            "| 10|Wealthy horse ran...|Fazendeiros ricos...|      neg|Wealthy horse ran...|Wealthy horse ran...|\n",
            "+---+--------------------+--------------------+---------+--------------------+--------------------+\n",
            "\n"
          ]
        }
      ]
    },
    {
      "cell_type": "markdown",
      "source": [
        "## Tokenizacao"
      ],
      "metadata": {
        "id": "mPhS5L99UM2W"
      }
    },
    {
      "cell_type": "code",
      "source": [
        "from pyspark.ml.feature import Tokenizer\n",
        "from pyspark.sql.types import IntegerType\n",
        "from pyspark.ml.feature import StopWordsRemover"
      ],
      "metadata": {
        "id": "oJgbbWbUTiUC"
      },
      "execution_count": null,
      "outputs": []
    },
    {
      "cell_type": "code",
      "source": [
        "tokenizer = Tokenizer(inputCol = 'text_en_limpo', outputCol = 'tokens')"
      ],
      "metadata": {
        "id": "r4U3v3FhUhQp"
      },
      "execution_count": null,
      "outputs": []
    },
    {
      "cell_type": "code",
      "source": [
        "tokenizado = tokenizer.transform(dados)"
      ],
      "metadata": {
        "id": "iBmVjSMIUsPH"
      },
      "execution_count": null,
      "outputs": []
    },
    {
      "cell_type": "code",
      "source": [
        "tokenizado.select('text_en_limpo', 'tokens').show()"
      ],
      "metadata": {
        "colab": {
          "base_uri": "https://localhost:8080/"
        },
        "id": "Tu4uMwi-Uu2f",
        "outputId": "cf4e3df1-6c1b-4e62-b926-6300d7c34510"
      },
      "execution_count": null,
      "outputs": [
        {
          "output_type": "stream",
          "name": "stdout",
          "text": [
            "+--------------------+--------------------+\n",
            "|       text_en_limpo|              tokens|\n",
            "+--------------------+--------------------+\n",
            "|Once again Mr Cos...|[once, again, mr,...|\n",
            "|This is an exampl...|[this, is, an, ex...|\n",
            "|First of all I ha...|[first, of, all, ...|\n",
            "|Not even the Beat...|[not, even, the, ...|\n",
            "|Brass pictures mo...|[brass, pictures,...|\n",
            "|A funny thing hap...|[a, funny, thing,...|\n",
            "|This German horro...|[this, german, ho...|\n",
            "|Being a longtime ...|[being, a, longti...|\n",
            "|Tokyo Eyes tells ...|[tokyo, eyes, tel...|\n",
            "|Wealthy horse ran...|[wealthy, horse, ...|\n",
            "|Cage plays a drun...|[cage, plays, a, ...|\n",
            "|First of all I wo...|[first, of, all, ...|\n",
            "|So tell me  what ...|[so, tell, me, , ...|\n",
            "|A big disappointm...|[a, big, disappoi...|\n",
            "|This film is abso...|[this, film, is, ...|\n",
            "|Heres a decidedly...|[heres, a, decide...|\n",
            "|At the bottom end...|[at, the, bottom,...|\n",
            "|Earth has been de...|[earth, has, been...|\n",
            "|Many people are s...|[many, people, ar...|\n",
            "|New York family i...|[new, york, famil...|\n",
            "+--------------------+--------------------+\n",
            "only showing top 20 rows\n",
            "\n"
          ]
        }
      ]
    },
    {
      "cell_type": "code",
      "source": [
        "countTokens = f.udf(lambda tokens: len(tokens), IntegerType())\n",
        "tokenizado.select('text_en_limpo', 'tokens')\\\n",
        "    .withColumn('freq_tokens', countTokens(f.col('tokens')))\\\n",
        "    .show()"
      ],
      "metadata": {
        "colab": {
          "base_uri": "https://localhost:8080/"
        },
        "id": "tmlTRQ0nU0As",
        "outputId": "0c1561be-adee-4ef8-ab7d-c1961e1b1239"
      },
      "execution_count": null,
      "outputs": [
        {
          "output_type": "stream",
          "name": "stdout",
          "text": [
            "+--------------------+--------------------+-----------+\n",
            "|       text_en_limpo|              tokens|freq_tokens|\n",
            "+--------------------+--------------------+-----------+\n",
            "|Once again Mr Cos...|[once, again, mr,...|        168|\n",
            "|This is an exampl...|[this, is, an, ex...|        232|\n",
            "|First of all I ha...|[first, of, all, ...|        215|\n",
            "|Not even the Beat...|[not, even, the, ...|        308|\n",
            "|Brass pictures mo...|[brass, pictures,...|        238|\n",
            "|A funny thing hap...|[a, funny, thing,...|        115|\n",
            "|This German horro...|[this, german, ho...|        156|\n",
            "|Being a longtime ...|[being, a, longti...|        136|\n",
            "|Tokyo Eyes tells ...|[tokyo, eyes, tel...|        129|\n",
            "|Wealthy horse ran...|[wealthy, horse, ...|        160|\n",
            "|Cage plays a drun...|[cage, plays, a, ...|        109|\n",
            "|First of all I wo...|[first, of, all, ...|        333|\n",
            "|So tell me  what ...|[so, tell, me, , ...|        243|\n",
            "|A big disappointm...|[a, big, disappoi...|        110|\n",
            "|This film is abso...|[this, film, is, ...|        185|\n",
            "|Heres a decidedly...|[heres, a, decide...|        205|\n",
            "|At the bottom end...|[at, the, bottom,...|        148|\n",
            "|Earth has been de...|[earth, has, been...|        196|\n",
            "|Many people are s...|[many, people, ar...|        350|\n",
            "|New York family i...|[new, york, famil...|         77|\n",
            "+--------------------+--------------------+-----------+\n",
            "only showing top 20 rows\n",
            "\n"
          ]
        }
      ]
    },
    {
      "cell_type": "code",
      "source": [
        "remover = StopWordsRemover(inputCol = \"tokens\", outputCol= \"tokens_final\")"
      ],
      "metadata": {
        "id": "_xr4hyJDVdJP"
      },
      "execution_count": null,
      "outputs": []
    },
    {
      "cell_type": "code",
      "source": [
        "features = remover.transform(tokenizado)\n",
        "\n",
        "features.show()"
      ],
      "metadata": {
        "colab": {
          "base_uri": "https://localhost:8080/"
        },
        "id": "5zG-OIewX74N",
        "outputId": "38859075-fbf8-4d10-b4db-5d08336c01f4"
      },
      "execution_count": null,
      "outputs": [
        {
          "output_type": "stream",
          "name": "stdout",
          "text": [
            "+---+--------------------+--------------------+---------+--------------------+--------------------+--------------------+--------------------+\n",
            "| id|             text_en|             text_pt|sentiment|       text_en_regex|       text_en_limpo|              tokens|        tokens_final|\n",
            "+---+--------------------+--------------------+---------+--------------------+--------------------+--------------------+--------------------+\n",
            "|  1|Once again Mr. Co...|Mais uma vez, o S...|      neg|Once again Mr Cos...|Once again Mr Cos...|[once, again, mr,...|[mr, costner, dra...|\n",
            "|  2|This is an exampl...|Este é um exemplo...|      neg|This is an exampl...|This is an exampl...|[this, is, an, ex...|[example, majorit...|\n",
            "|  3|First of all I ha...|Primeiro de tudo ...|      neg|First of all I ha...|First of all I ha...|[first, of, all, ...|[first, hate, mor...|\n",
            "|  4|Not even the Beat...|Nem mesmo os Beat...|      neg|Not even the Beat...|Not even the Beat...|[not, even, the, ...|[even, beatles, w...|\n",
            "|  5|Brass pictures mo...|Filmes de fotos d...|      neg|Brass pictures mo...|Brass pictures mo...|[brass, pictures,...|[brass, pictures,...|\n",
            "|  6|A funny thing hap...|Uma coisa engraça...|      neg|A funny thing hap...|A funny thing hap...|[a, funny, thing,...|[funny, thing, ha...|\n",
            "|  7|This German horro...|Este filme de ter...|      neg|This German horro...|This German horro...|[this, german, ho...|[german, horror, ...|\n",
            "|  8|Being a long-time...|Sendo um fã de lo...|      neg|Being a longtime ...|Being a longtime ...|[being, a, longti...|[longtime, fan, j...|\n",
            "|  9|\"Tokyo Eyes\" tell...|\"Tokyo Eyes\" fala...|      neg|Tokyo Eyes tells ...|Tokyo Eyes tells ...|[tokyo, eyes, tel...|[tokyo, eyes, tel...|\n",
            "| 10|Wealthy horse ran...|Fazendeiros ricos...|      neg|Wealthy horse ran...|Wealthy horse ran...|[wealthy, horse, ...|[wealthy, horse, ...|\n",
            "| 11|Cage plays a drun...|Cage interpreta u...|      neg|Cage plays a drun...|Cage plays a drun...|[cage, plays, a, ...|[cage, plays, dru...|\n",
            "| 12|First of all, I w...|Primeiro de tudo,...|      neg|First of all I wo...|First of all I wo...|[first, of, all, ...|[first, like, say...|\n",
            "| 13|So tell me - what...|Então me diga - q...|      neg|So tell me  what ...|So tell me  what ...|[so, tell, me, , ...|[tell, , serious,...|\n",
            "| 14|A big disappointm...|Uma grande decepç...|      neg|A big disappointm...|A big disappointm...|[a, big, disappoi...|[big, disappointm...|\n",
            "| 15|This film is abso...|Este filme é abso...|      neg|This film is abso...|This film is abso...|[this, film, is, ...|[film, absolutely...|\n",
            "| 16|Heres a decidedly...|Heres um decidida...|      neg|Heres a decidedly...|Heres a decidedly...|[heres, a, decide...|[heres, decidedly...|\n",
            "| 17|At the bottom end...|Na parte inferior...|      neg|At the bottom end...|At the bottom end...|[at, the, bottom,...|[bottom, end, apo...|\n",
            "| 18|Earth has been de...|A terra foi destr...|      neg|Earth has been de...|Earth has been de...|[earth, has, been...|[earth, destroyed...|\n",
            "| 19|Many people are s...|Muitas pessoas es...|      neg|Many people are s...|Many people are s...|[many, people, ar...|[many, people, st...|\n",
            "| 20|New York family i...|A família de Nova...|      neg|New York family i...|New York family i...|[new, york, famil...|[new, york, famil...|\n",
            "+---+--------------------+--------------------+---------+--------------------+--------------------+--------------------+--------------------+\n",
            "only showing top 20 rows\n",
            "\n"
          ]
        }
      ]
    },
    {
      "cell_type": "code",
      "source": [
        "features.select('tokens_final', 'tokens')\\\n",
        "    .withColumn('freq_tokens_final', countTokens(f.col('tokens_final')))\\\n",
        "    .withColumn('freq_tokens', countTokens(f.col('tokens')))\\\n",
        "    .show()"
      ],
      "metadata": {
        "colab": {
          "base_uri": "https://localhost:8080/"
        },
        "id": "GQEJNUdmYseS",
        "outputId": "af756bb5-d32e-49f8-c69b-30bf9752b259"
      },
      "execution_count": null,
      "outputs": [
        {
          "output_type": "stream",
          "name": "stdout",
          "text": [
            "+--------------------+--------------------+-----------------+-----------+\n",
            "|        tokens_final|              tokens|freq_tokens_final|freq_tokens|\n",
            "+--------------------+--------------------+-----------------+-----------+\n",
            "|[mr, costner, dra...|[once, again, mr,...|               73|        168|\n",
            "|[example, majorit...|[this, is, an, ex...|              131|        232|\n",
            "|[first, hate, mor...|[first, of, all, ...|              111|        215|\n",
            "|[even, beatles, w...|[not, even, the, ...|              169|        308|\n",
            "|[brass, pictures,...|[brass, pictures,...|              140|        238|\n",
            "|[funny, thing, ha...|[a, funny, thing,...|               52|        115|\n",
            "|[german, horror, ...|[this, german, ho...|               74|        156|\n",
            "|[longtime, fan, j...|[being, a, longti...|               73|        136|\n",
            "|[tokyo, eyes, tel...|[tokyo, eyes, tel...|               75|        129|\n",
            "|[wealthy, horse, ...|[wealthy, horse, ...|               99|        160|\n",
            "|[cage, plays, dru...|[cage, plays, a, ...|               58|        109|\n",
            "|[first, like, say...|[first, of, all, ...|              140|        333|\n",
            "|[tell, , serious,...|[so, tell, me, , ...|              139|        243|\n",
            "|[big, disappointm...|[a, big, disappoi...|               50|        110|\n",
            "|[film, absolutely...|[this, film, is, ...|              105|        185|\n",
            "|[heres, decidedly...|[heres, a, decide...|              112|        205|\n",
            "|[bottom, end, apo...|[at, the, bottom,...|               68|        148|\n",
            "|[earth, destroyed...|[earth, has, been...|              116|        196|\n",
            "|[many, people, st...|[many, people, ar...|              191|        350|\n",
            "|[new, york, famil...|[new, york, famil...|               48|         77|\n",
            "+--------------------+--------------------+-----------------+-----------+\n",
            "only showing top 20 rows\n",
            "\n"
          ]
        }
      ]
    },
    {
      "cell_type": "markdown",
      "source": [
        "## Bag of Words"
      ],
      "metadata": {
        "id": "pxjm5V7vZ_e9"
      }
    },
    {
      "cell_type": "markdown",
      "source": [
        "### CountVectorizer"
      ],
      "metadata": {
        "id": "dKAs_Hp8djoP"
      }
    },
    {
      "cell_type": "code",
      "source": [
        "from pyspark.ml.feature import CountVectorizer"
      ],
      "metadata": {
        "id": "ktyb_w4nY6aH"
      },
      "execution_count": null,
      "outputs": []
    },
    {
      "cell_type": "code",
      "source": [
        "count_vectorizer = CountVectorizer(inputCol = 'tokens_final', outputCol = 'count_vec')"
      ],
      "metadata": {
        "id": "6_ARdW7kaDs_"
      },
      "execution_count": null,
      "outputs": []
    },
    {
      "cell_type": "code",
      "source": [
        "model = count_vectorizer.fit(features)\n",
        "count_vectorizer_features = model.transform(features)"
      ],
      "metadata": {
        "id": "eRjVMrM_aMJw"
      },
      "execution_count": null,
      "outputs": []
    },
    {
      "cell_type": "code",
      "source": [
        "count_vectorizer_features.select('tokens_final', 'count_vec').limit(10).show()"
      ],
      "metadata": {
        "colab": {
          "base_uri": "https://localhost:8080/"
        },
        "id": "KLptpbBMbPR1",
        "outputId": "559e60a1-f198-4de0-ab52-d8ac5879a236"
      },
      "execution_count": null,
      "outputs": [
        {
          "output_type": "stream",
          "name": "stdout",
          "text": [
            "+--------------------+--------------------+\n",
            "|        tokens_final|           count_vec|\n",
            "+--------------------+--------------------+\n",
            "|[mr, costner, dra...|(221187,[0,7,8,11...|\n",
            "|[example, majorit...|(221187,[1,2,3,8,...|\n",
            "|[first, hate, mor...|(221187,[0,2,4,11...|\n",
            "|[even, beatles, w...|(221187,[0,1,2,4,...|\n",
            "|[brass, pictures,...|(221187,[1,3,5,8,...|\n",
            "|[funny, thing, ha...|(221187,[1,2,7,22...|\n",
            "|[german, horror, ...|(221187,[0,1,2,7,...|\n",
            "|[longtime, fan, j...|(221187,[0,1,5,8,...|\n",
            "|[tokyo, eyes, tel...|(221187,[1,4,9,10...|\n",
            "|[wealthy, horse, ...|(221187,[6,7,10,1...|\n",
            "+--------------------+--------------------+\n",
            "\n"
          ]
        }
      ]
    },
    {
      "cell_type": "code",
      "source": [
        "model.vocabulary"
      ],
      "metadata": {
        "id": "uyZmQN_xbX3e",
        "colab": {
          "base_uri": "https://localhost:8080/"
        },
        "outputId": "182c11f7-7c1a-4eea-ebc2-1aa682ee0d84"
      },
      "execution_count": null,
      "outputs": [
        {
          "output_type": "execute_result",
          "data": {
            "text/plain": [
              "['movie',\n",
              " 'film',\n",
              " 'one',\n",
              " '',\n",
              " 'like',\n",
              " 'good',\n",
              " 'even',\n",
              " 'time',\n",
              " 'really',\n",
              " 'see',\n",
              " 'story',\n",
              " 'much',\n",
              " 'well',\n",
              " 'get',\n",
              " 'great',\n",
              " 'bad',\n",
              " 'people',\n",
              " 'also',\n",
              " 'dont',\n",
              " 'first',\n",
              " 'movies',\n",
              " 'made',\n",
              " 'make',\n",
              " 'films',\n",
              " 'way',\n",
              " 'characters',\n",
              " 'think',\n",
              " 'watch',\n",
              " 'seen',\n",
              " 'many',\n",
              " 'two',\n",
              " 'never',\n",
              " 'character',\n",
              " 'acting',\n",
              " 'love',\n",
              " 'plot',\n",
              " 'little',\n",
              " 'best',\n",
              " 'know',\n",
              " 'show',\n",
              " 'ever',\n",
              " 'life',\n",
              " 'better',\n",
              " 'still',\n",
              " 'say',\n",
              " 'end',\n",
              " 'scene',\n",
              " 'man',\n",
              " 'scenes',\n",
              " 'something',\n",
              " 'go',\n",
              " 'im',\n",
              " 'watching',\n",
              " 'back',\n",
              " 'real',\n",
              " 'actors',\n",
              " 'thing',\n",
              " 'didnt',\n",
              " 'doesnt',\n",
              " 'years',\n",
              " 'funny',\n",
              " 'actually',\n",
              " 'though',\n",
              " 'makes',\n",
              " 'find',\n",
              " 'nothing',\n",
              " 'another',\n",
              " 'look',\n",
              " 'lot',\n",
              " 'going',\n",
              " 'work',\n",
              " 'new',\n",
              " 'every',\n",
              " 'old',\n",
              " 'part',\n",
              " 'cant',\n",
              " 'us',\n",
              " 'want',\n",
              " 'pretty',\n",
              " 'quite',\n",
              " 'director',\n",
              " 'thats',\n",
              " 'cast',\n",
              " 'things',\n",
              " 'got',\n",
              " 'seems',\n",
              " 'young',\n",
              " 'around',\n",
              " 'take',\n",
              " 'fact',\n",
              " 'enough',\n",
              " 'give',\n",
              " 'big',\n",
              " 'horror',\n",
              " 'thought',\n",
              " 'world',\n",
              " 'ive',\n",
              " 'may',\n",
              " 'saw',\n",
              " 'however',\n",
              " 'isnt',\n",
              " 'always',\n",
              " 'long',\n",
              " 'without',\n",
              " 'gets',\n",
              " 'original',\n",
              " 'music',\n",
              " 'comedy',\n",
              " 'must',\n",
              " 'almost',\n",
              " 'right',\n",
              " 'times',\n",
              " 'come',\n",
              " 'whole',\n",
              " 'series',\n",
              " 'interesting',\n",
              " 'least',\n",
              " 'role',\n",
              " 'guy',\n",
              " 'action',\n",
              " 'bit',\n",
              " 'done',\n",
              " 'theres',\n",
              " 'might',\n",
              " 'script',\n",
              " 'point',\n",
              " 'minutes',\n",
              " 'far',\n",
              " 'feel',\n",
              " 'anything',\n",
              " 'hes',\n",
              " 'probably',\n",
              " 'since',\n",
              " 'last',\n",
              " 'family',\n",
              " 'kind',\n",
              " 'performance',\n",
              " 'tv',\n",
              " 'worst',\n",
              " 'away',\n",
              " 'fun',\n",
              " 'rather',\n",
              " 'anyone',\n",
              " 'found',\n",
              " 'sure',\n",
              " 'yet',\n",
              " 'played',\n",
              " 'girl',\n",
              " 'making',\n",
              " 'believe',\n",
              " 'especially',\n",
              " 'shows',\n",
              " 'woman',\n",
              " 'trying',\n",
              " 'hard',\n",
              " 'course',\n",
              " 'goes',\n",
              " 'comes',\n",
              " 'worth',\n",
              " 'put',\n",
              " 'day',\n",
              " 'dvd',\n",
              " 'looking',\n",
              " 'although',\n",
              " 'everything',\n",
              " 'watched',\n",
              " 'different',\n",
              " 'main',\n",
              " 'wasnt',\n",
              " 'ending',\n",
              " 'maybe',\n",
              " 'looks',\n",
              " 'book',\n",
              " 'place',\n",
              " 'effects',\n",
              " 'reason',\n",
              " 'money',\n",
              " 'plays',\n",
              " 'three',\n",
              " 'sense',\n",
              " 'someone',\n",
              " 'screen',\n",
              " 'set',\n",
              " 'true',\n",
              " 'job',\n",
              " 'play',\n",
              " 'actor',\n",
              " '10',\n",
              " 'together',\n",
              " 'seem',\n",
              " 'everyone',\n",
              " 'takes',\n",
              " 'special',\n",
              " 'said',\n",
              " 'seeing',\n",
              " 'beautiful',\n",
              " 'american',\n",
              " '2',\n",
              " 'instead',\n",
              " 'excellent',\n",
              " 'left',\n",
              " 'later',\n",
              " 'audience',\n",
              " 'version',\n",
              " 'john',\n",
              " 'night',\n",
              " 'idea',\n",
              " 'war',\n",
              " 'fan',\n",
              " 'youre',\n",
              " 'high',\n",
              " 'shot',\n",
              " 'black',\n",
              " 'completely',\n",
              " 'nice',\n",
              " 'used',\n",
              " 'poor',\n",
              " 'simply',\n",
              " 'kids',\n",
              " 'read',\n",
              " 'else',\n",
              " 'wife',\n",
              " 'friends',\n",
              " 'house',\n",
              " 'death',\n",
              " 'along',\n",
              " 'short',\n",
              " 'help',\n",
              " 'enjoy',\n",
              " 'boring',\n",
              " 'half',\n",
              " 'try',\n",
              " 'second',\n",
              " 'recommend',\n",
              " 'star',\n",
              " 'mind',\n",
              " 'need',\n",
              " 'home',\n",
              " 'year',\n",
              " 'less',\n",
              " 'classic',\n",
              " 'given',\n",
              " 'use',\n",
              " 'truly',\n",
              " 'men',\n",
              " 'stupid',\n",
              " 'rest',\n",
              " 'performances',\n",
              " 'either',\n",
              " 'production',\n",
              " 'couple',\n",
              " 'wrong',\n",
              " 'start',\n",
              " 'came',\n",
              " 'hollywood',\n",
              " 'tell',\n",
              " 'dead',\n",
              " 'getting',\n",
              " 'remember',\n",
              " 'understand',\n",
              " 'next',\n",
              " 'father',\n",
              " 'terrible',\n",
              " 'women',\n",
              " 'awful',\n",
              " 'line',\n",
              " 'school',\n",
              " 'full',\n",
              " 'let',\n",
              " 'keep',\n",
              " 'wonderful',\n",
              " 'mean',\n",
              " 'sex',\n",
              " 'camera',\n",
              " 'moments',\n",
              " 'others',\n",
              " 'video',\n",
              " 'playing',\n",
              " 'definitely',\n",
              " 'budget',\n",
              " 'perhaps',\n",
              " 'couldnt',\n",
              " 'episode',\n",
              " 'perfect',\n",
              " 'small',\n",
              " 'name',\n",
              " 'top',\n",
              " 'absolutely',\n",
              " 'gives',\n",
              " 'went',\n",
              " 'often',\n",
              " 'early',\n",
              " 'piece',\n",
              " 'person',\n",
              " 'liked',\n",
              " 'guys',\n",
              " 'lines',\n",
              " 'human',\n",
              " 'dialogue',\n",
              " 'stars',\n",
              " 'loved',\n",
              " 'certainly',\n",
              " 'face',\n",
              " 'case',\n",
              " 'hope',\n",
              " 'sort',\n",
              " 'felt',\n",
              " 'supposed',\n",
              " 'waste',\n",
              " 'head',\n",
              " 'laugh',\n",
              " 'live',\n",
              " 'become',\n",
              " 'entertaining',\n",
              " 'entire',\n",
              " 'several',\n",
              " 'lost',\n",
              " 'worse',\n",
              " 'written',\n",
              " 'style',\n",
              " 'picture',\n",
              " 'mother',\n",
              " 'title',\n",
              " 'seemed',\n",
              " 'totally',\n",
              " 'boy',\n",
              " 'friend',\n",
              " 'sound',\n",
              " 'based',\n",
              " 'finally',\n",
              " 'shes',\n",
              " 'yes',\n",
              " 'beginning',\n",
              " 'mr',\n",
              " 'dark',\n",
              " 'wanted',\n",
              " 'problem',\n",
              " 'humor',\n",
              " 'care',\n",
              " 'youll',\n",
              " 'â',\n",
              " 'guess',\n",
              " 'wont',\n",
              " 'cinema',\n",
              " 'fans',\n",
              " 'lead',\n",
              " 'direction',\n",
              " 'low',\n",
              " 'id',\n",
              " 'children',\n",
              " 'already',\n",
              " 'called',\n",
              " '3',\n",
              " 'evil',\n",
              " 'lives',\n",
              " 'becomes',\n",
              " 'drama',\n",
              " 'able',\n",
              " 'oh',\n",
              " 'turn',\n",
              " 'final',\n",
              " 'girls',\n",
              " 'game',\n",
              " 'horrible',\n",
              " 'throughout',\n",
              " 'white',\n",
              " 'fine',\n",
              " 'days',\n",
              " 'quality',\n",
              " 'wants',\n",
              " 'amazing',\n",
              " 'enjoyed',\n",
              " 'example',\n",
              " 'despite',\n",
              " 'writing',\n",
              " 'gave',\n",
              " 'killer',\n",
              " 'theyre',\n",
              " 'tries',\n",
              " 'flick',\n",
              " 'history',\n",
              " 'kill',\n",
              " 'favorite',\n",
              " 'works',\n",
              " 'turns',\n",
              " 'parts',\n",
              " 'michael',\n",
              " 'unfortunately',\n",
              " 'act',\n",
              " 'expect',\n",
              " 'son',\n",
              " 'side',\n",
              " 'past',\n",
              " 'matter',\n",
              " 'brilliant',\n",
              " 'run',\n",
              " 'behind',\n",
              " 'town',\n",
              " 'stuff',\n",
              " 'car',\n",
              " 'obviously',\n",
              " 'ones',\n",
              " 'eyes',\n",
              " 'sometimes',\n",
              " '1',\n",
              " 'starts',\n",
              " 'killed',\n",
              " 'decent',\n",
              " 'actress',\n",
              " 'thinking',\n",
              " 'overall',\n",
              " 'heard',\n",
              " 'took',\n",
              " 'viewer',\n",
              " 'directed',\n",
              " 'soon',\n",
              " 'heart',\n",
              " 'late',\n",
              " 'group',\n",
              " 'art',\n",
              " 'highly',\n",
              " 'kid',\n",
              " 'city',\n",
              " 'genre',\n",
              " 'hell',\n",
              " 'feeling',\n",
              " 'child',\n",
              " 'happens',\n",
              " 'except',\n",
              " 'extremely',\n",
              " 'ill',\n",
              " 'fight',\n",
              " 'wouldnt',\n",
              " 'says',\n",
              " 'told',\n",
              " 'looked',\n",
              " 'etc',\n",
              " 'blood',\n",
              " 'hour',\n",
              " 'close',\n",
              " 'lack',\n",
              " 'leave',\n",
              " 'experience',\n",
              " 'coming',\n",
              " 'wonder',\n",
              " 'type',\n",
              " 'involved',\n",
              " 'police',\n",
              " 'save',\n",
              " 'chance',\n",
              " 'stories',\n",
              " 'strong',\n",
              " 'particularly',\n",
              " 'complete',\n",
              " 'cool',\n",
              " 'hilarious',\n",
              " 'daughter',\n",
              " 'living',\n",
              " 'serious',\n",
              " 'moment',\n",
              " 'roles',\n",
              " 'happen',\n",
              " 'attempt',\n",
              " 'happened',\n",
              " 'including',\n",
              " 'stop',\n",
              " 'hand',\n",
              " 'obvious',\n",
              " 'shown',\n",
              " 'violence',\n",
              " 'taken',\n",
              " 'simple',\n",
              " 'god',\n",
              " 'ago',\n",
              " 'ok',\n",
              " 'score',\n",
              " 'usually',\n",
              " 'jokes',\n",
              " 'wish',\n",
              " 'james',\n",
              " 'known',\n",
              " 'voice',\n",
              " 'murder',\n",
              " 'slow',\n",
              " 'song',\n",
              " 'released',\n",
              " 'exactly',\n",
              " 'across',\n",
              " 'crap',\n",
              " 'robert',\n",
              " 'huge',\n",
              " 'sad',\n",
              " 'cinematography',\n",
              " 'hours',\n",
              " 'number',\n",
              " 'david',\n",
              " 'interest',\n",
              " 'opening',\n",
              " 'annoying',\n",
              " 'english',\n",
              " 'please',\n",
              " 'seriously',\n",
              " 'gore',\n",
              " 'talent',\n",
              " 'started',\n",
              " 'none',\n",
              " 'saying',\n",
              " 'lets',\n",
              " 'order',\n",
              " 'relationship',\n",
              " 'reality',\n",
              " 'alone',\n",
              " 'whose',\n",
              " 'ridiculous',\n",
              " 'age',\n",
              " 'usual',\n",
              " 'running',\n",
              " 'call',\n",
              " 'hit',\n",
              " 'shots',\n",
              " 'possible',\n",
              " 'major',\n",
              " 'cut',\n",
              " 'today',\n",
              " 'female',\n",
              " 'documentary',\n",
              " 'brother',\n",
              " 'knew',\n",
              " 'somewhat',\n",
              " 'career',\n",
              " 'mostly',\n",
              " 'ends',\n",
              " 'silly',\n",
              " 'turned',\n",
              " 'beyond',\n",
              " 'view',\n",
              " 'body',\n",
              " 'opinion',\n",
              " 'taking',\n",
              " 'change',\n",
              " 'important',\n",
              " 'scary',\n",
              " 'strange',\n",
              " 'hero',\n",
              " 'due',\n",
              " 'husband',\n",
              " 'finds',\n",
              " '5',\n",
              " 'knows',\n",
              " 'anyway',\n",
              " 'episodes',\n",
              " 'disappointed',\n",
              " 'talking',\n",
              " 'attention',\n",
              " 'local',\n",
              " 'cheap',\n",
              " 'happy',\n",
              " 'country',\n",
              " 'power',\n",
              " 'directors',\n",
              " 'words',\n",
              " 'basically',\n",
              " 'apparently',\n",
              " 'arent',\n",
              " 'word',\n",
              " 'four',\n",
              " 'television',\n",
              " '4',\n",
              " 'single',\n",
              " 'musical',\n",
              " 'novel',\n",
              " 'clearly',\n",
              " 'upon',\n",
              " 'miss',\n",
              " 'level',\n",
              " 'british',\n",
              " 'problems',\n",
              " 'events',\n",
              " 'room',\n",
              " 'predictable',\n",
              " 'tells',\n",
              " 'jack',\n",
              " 'dialog',\n",
              " 'songs',\n",
              " 'havent',\n",
              " 'french',\n",
              " 'whats',\n",
              " 'add',\n",
              " 'modern',\n",
              " 'lots',\n",
              " 'light',\n",
              " 'talk',\n",
              " 'similar',\n",
              " 'bring',\n",
              " 'hate',\n",
              " 'review',\n",
              " 'soundtrack',\n",
              " 'sets',\n",
              " 'enjoyable',\n",
              " 'supporting',\n",
              " 'giving',\n",
              " 'surprised',\n",
              " 'mention',\n",
              " 'falls',\n",
              " 'sequence',\n",
              " 'easily',\n",
              " 'ten',\n",
              " 'bunch',\n",
              " 'whether',\n",
              " 'moving',\n",
              " 'storyline',\n",
              " 'romantic',\n",
              " 'george',\n",
              " 'entertainment',\n",
              " 'viewers',\n",
              " 'filmed',\n",
              " 'future',\n",
              " 'needs',\n",
              " 'parents',\n",
              " 'dull',\n",
              " 'appears',\n",
              " 'comic',\n",
              " 'tried',\n",
              " 'five',\n",
              " 'certain',\n",
              " 'message',\n",
              " 'sequel',\n",
              " 'showing',\n",
              " 'team',\n",
              " 'theater',\n",
              " 'middle',\n",
              " 'earth',\n",
              " 'within',\n",
              " 'thriller',\n",
              " 'kept',\n",
              " 'buy',\n",
              " 'clear',\n",
              " 'stay',\n",
              " 'among',\n",
              " 'king',\n",
              " 'space',\n",
              " 'sorry',\n",
              " 'fall',\n",
              " 'monster',\n",
              " 'comments',\n",
              " 'named',\n",
              " 'typical',\n",
              " 'greatest',\n",
              " 'easy',\n",
              " 'feels',\n",
              " 'release',\n",
              " 'gone',\n",
              " 'theme',\n",
              " 'doubt',\n",
              " 'near',\n",
              " 'writer',\n",
              " 'ways',\n",
              " 'effort',\n",
              " '80s',\n",
              " 'working',\n",
              " 'fantastic',\n",
              " 'using',\n",
              " 'suspense',\n",
              " 'deal',\n",
              " 'actual',\n",
              " 'realistic',\n",
              " 'tale',\n",
              " 'editing',\n",
              " 'youve',\n",
              " 'nearly',\n",
              " 'imagine',\n",
              " 'famous',\n",
              " 'means',\n",
              " 'elements',\n",
              " 'reviews',\n",
              " 'straight',\n",
              " 'class',\n",
              " 'subject',\n",
              " 'boys',\n",
              " 'die',\n",
              " 'leads',\n",
              " 'viewing',\n",
              " 'rent',\n",
              " 'dr',\n",
              " 'brought',\n",
              " 'lady',\n",
              " 'check',\n",
              " 'rock',\n",
              " 'sister',\n",
              " 'move',\n",
              " 'peter',\n",
              " 'richard',\n",
              " 'mystery',\n",
              " 'rating',\n",
              " 'hear',\n",
              " 'somehow',\n",
              " 'feature',\n",
              " 'material',\n",
              " 'dog',\n",
              " 'sit',\n",
              " 'points',\n",
              " 'form',\n",
              " 'forget',\n",
              " 'whos',\n",
              " 'general',\n",
              " 'weak',\n",
              " 'decided',\n",
              " 'learn',\n",
              " 'believable',\n",
              " 'killing',\n",
              " 'avoid',\n",
              " 'expected',\n",
              " 'surprise',\n",
              " 'begins',\n",
              " 'premise',\n",
              " 'wait',\n",
              " 'animation',\n",
              " 'fast',\n",
              " 'lame',\n",
              " 'figure',\n",
              " 'period',\n",
              " 'atmosphere',\n",
              " 'particular',\n",
              " 'okay',\n",
              " 'poorly',\n",
              " 'average',\n",
              " 'difficult',\n",
              " 'crime',\n",
              " 'deep',\n",
              " 'sequences',\n",
              " 'paul',\n",
              " 'shame',\n",
              " 'york',\n",
              " 'eye',\n",
              " 'possibly',\n",
              " 'became',\n",
              " 'tom',\n",
              " 'follow',\n",
              " 'eventually',\n",
              " 'dance',\n",
              " 'truth',\n",
              " 'stand',\n",
              " 'leaves',\n",
              " 'red',\n",
              " 'scifi',\n",
              " 'cheesy',\n",
              " 'oscar',\n",
              " 'emotional',\n",
              " 'indeed',\n",
              " 'reading',\n",
              " 'write',\n",
              " 'interested',\n",
              " 'situation',\n",
              " 'forced',\n",
              " 'minute',\n",
              " 'features',\n",
              " 'needed',\n",
              " 'season',\n",
              " 'meet',\n",
              " 'imdb',\n",
              " 'romance',\n",
              " 'footage',\n",
              " 'crew',\n",
              " 'doctor',\n",
              " 'hot',\n",
              " 'sexual',\n",
              " 'whatever',\n",
              " 'writers',\n",
              " 'previous',\n",
              " 'memorable',\n",
              " 'gay',\n",
              " 'open',\n",
              " 'begin',\n",
              " 'total',\n",
              " 'keeps',\n",
              " 'meets',\n",
              " 'weird',\n",
              " 'superb',\n",
              " 'unless',\n",
              " 'incredibly',\n",
              " 'beauty',\n",
              " 'credits',\n",
              " 'laughs',\n",
              " 'male',\n",
              " 'otherwise',\n",
              " 'filmmakers',\n",
              " '20',\n",
              " 'comment',\n",
              " 'personal',\n",
              " 'sounds',\n",
              " 'badly',\n",
              " 'copy',\n",
              " 'third',\n",
              " 'box',\n",
              " 'street',\n",
              " 'western',\n",
              " 'plus',\n",
              " 'island',\n",
              " 'perfectly',\n",
              " 'de',\n",
              " 'plenty',\n",
              " 'towards',\n",
              " 'worked',\n",
              " 'hands',\n",
              " 'masterpiece',\n",
              " 'inside',\n",
              " 'screenplay',\n",
              " 'realize',\n",
              " 'nature',\n",
              " 'society',\n",
              " 'crazy',\n",
              " 'japanese',\n",
              " 'quickly',\n",
              " 'result',\n",
              " 'older',\n",
              " 'stage',\n",
              " 'effect',\n",
              " 'unique',\n",
              " 'b',\n",
              " 'admit',\n",
              " 'setting',\n",
              " 'air',\n",
              " 'acted',\n",
              " 'fairly',\n",
              " 'brings',\n",
              " 'free',\n",
              " 'creepy',\n",
              " 'background',\n",
              " 'portrayed',\n",
              " 'earlier',\n",
              " 'forward',\n",
              " 'spent',\n",
              " 'directing',\n",
              " 'america',\n",
              " 'remake',\n",
              " 'powerful',\n",
              " 'battle',\n",
              " 'various',\n",
              " 'question',\n",
              " 'leading',\n",
              " 'appear',\n",
              " 'ask',\n",
              " 'baby',\n",
              " 'joke',\n",
              " 'pay',\n",
              " 'deserves',\n",
              " 'rich',\n",
              " 'expecting',\n",
              " 'wasted',\n",
              " 'bill',\n",
              " 'dumb',\n",
              " 'mess',\n",
              " 'front',\n",
              " 'lee',\n",
              " 'dramatic',\n",
              " 'cover',\n",
              " 'development',\n",
              " 'manages',\n",
              " '70s',\n",
              " 'mark',\n",
              " 'fails',\n",
              " 'attempts',\n",
              " 'meant',\n",
              " 'joe',\n",
              " 'agree',\n",
              " 'business',\n",
              " 'caught',\n",
              " 'cop',\n",
              " 'missing',\n",
              " 'following',\n",
              " 'water',\n",
              " 'hardly',\n",
              " 'twist',\n",
              " 'recently',\n",
              " 'fire',\n",
              " 'laughing',\n",
              " 'plain',\n",
              " 'cute',\n",
              " 'girlfriend',\n",
              " 'return',\n",
              " 'apart',\n",
              " 'talented',\n",
              " 'brothers',\n",
              " 'william',\n",
              " 'clever',\n",
              " 'fighting',\n",
              " 'present',\n",
              " 'outside',\n",
              " 'political',\n",
              " 'reasons',\n",
              " 'note',\n",
              " 'la',\n",
              " 'secret',\n",
              " 'success',\n",
              " 'pure',\n",
              " 'ideas',\n",
              " 'ended',\n",
              " 'create',\n",
              " 'party',\n",
              " 'large',\n",
              " 'waiting',\n",
              " 'telling',\n",
              " 'disney',\n",
              " 'members',\n",
              " 'married',\n",
              " 'odd',\n",
              " 'incredible',\n",
              " 'german',\n",
              " 'missed',\n",
              " 'potential',\n",
              " 'pace',\n",
              " 'break',\n",
              " 'cartoon',\n",
              " 'casting',\n",
              " 'unlike',\n",
              " 'italian',\n",
              " 'zombie',\n",
              " 'escape',\n",
              " 'hold',\n",
              " 'slightly',\n",
              " 'dream',\n",
              " 'nudity',\n",
              " 'cause',\n",
              " 'visual',\n",
              " 'created',\n",
              " 'van',\n",
              " 'considering',\n",
              " 'public',\n",
              " 'bored',\n",
              " 'list',\n",
              " 'familiar',\n",
              " 'villain',\n",
              " 'gun',\n",
              " 'appreciate',\n",
              " 'decides',\n",
              " 'wrote',\n",
              " 'died',\n",
              " 'mentioned',\n",
              " 'speak',\n",
              " 'intelligent',\n",
              " 'uses',\n",
              " 'dancing',\n",
              " 'compared',\n",
              " 'amount',\n",
              " 'biggest',\n",
              " 'produced',\n",
              " 'popular',\n",
              " 'era',\n",
              " 'store',\n",
              " 'convincing',\n",
              " 'producers',\n",
              " 'sees',\n",
              " 'train',\n",
              " 'moves',\n",
              " 'credit',\n",
              " 'fantasy',\n",
              " 'state',\n",
              " 'entirely',\n",
              " 'neither',\n",
              " 'portrayal',\n",
              " 'value',\n",
              " 'flat',\n",
              " 'sadly',\n",
              " 'office',\n",
              " 'company',\n",
              " 'college',\n",
              " 'rate',\n",
              " 'fit',\n",
              " 'younger',\n",
              " 'spend',\n",
              " 'common',\n",
              " 'follows',\n",
              " 'former',\n",
              " 'sweet',\n",
              " 'tension',\n",
              " 'christmas',\n",
              " 'kills',\n",
              " 'science',\n",
              " 'trouble',\n",
              " 'mad',\n",
              " 'recent',\n",
              " 'social',\n",
              " 'violent',\n",
              " 'cold',\n",
              " 'choice',\n",
              " 'match',\n",
              " 'amusing',\n",
              " 'decide',\n",
              " 'language',\n",
              " 'filled',\n",
              " 'basic',\n",
              " 'fear',\n",
              " 'suddenly',\n",
              " '12',\n",
              " 'images',\n",
              " 'successful',\n",
              " 'concept',\n",
              " 'awesome',\n",
              " 'positive',\n",
              " 'situations',\n",
              " ...]"
            ]
          },
          "metadata": {},
          "execution_count": 177
        }
      ]
    },
    {
      "cell_type": "markdown",
      "source": [
        "### HashingTF : Alternativa para CountVectorizer"
      ],
      "metadata": {
        "id": "RsIiYTIrcC4D"
      }
    },
    {
      "cell_type": "code",
      "source": [
        "from pyspark.ml.feature import HashingTF"
      ],
      "metadata": {
        "id": "lPbV8heHbkQk"
      },
      "execution_count": null,
      "outputs": []
    },
    {
      "cell_type": "code",
      "source": [
        "hashing_tf = HashingTF(inputCol = 'tokens_final', outputCol = 'hashing_tf')"
      ],
      "metadata": {
        "id": "ecRd3SLVcMGJ"
      },
      "execution_count": null,
      "outputs": []
    },
    {
      "cell_type": "code",
      "source": [
        "hashing_tf.setNumFeatures(50)"
      ],
      "metadata": {
        "colab": {
          "base_uri": "https://localhost:8080/"
        },
        "id": "0xb8vRJMcUk9",
        "outputId": "fab71ee2-5645-44c5-9079-6f5d342ae594"
      },
      "execution_count": null,
      "outputs": [
        {
          "output_type": "execute_result",
          "data": {
            "text/plain": [
              "HashingTF_38a6f923d21f"
            ]
          },
          "metadata": {},
          "execution_count": 180
        }
      ]
    },
    {
      "cell_type": "code",
      "source": [
        "htf_featurized_data = hashing_tf.transform(count_vectorizer_features)"
      ],
      "metadata": {
        "id": "mRuF0OrZcYg2"
      },
      "execution_count": null,
      "outputs": []
    },
    {
      "cell_type": "code",
      "source": [
        "htf_featurized_data.select('tokens_final', 'hashing_tf').limit(10).show()"
      ],
      "metadata": {
        "colab": {
          "base_uri": "https://localhost:8080/"
        },
        "id": "q3IT6YHccg8K",
        "outputId": "1995e291-8a41-4ffa-87ba-da1cdb464f7d"
      },
      "execution_count": null,
      "outputs": [
        {
          "output_type": "stream",
          "name": "stdout",
          "text": [
            "+--------------------+--------------------+\n",
            "|        tokens_final|          hashing_tf|\n",
            "+--------------------+--------------------+\n",
            "|[mr, costner, dra...|(50,[0,5,6,7,8,10...|\n",
            "|[example, majorit...|(50,[0,1,2,3,4,5,...|\n",
            "|[first, hate, mor...|(50,[0,1,2,3,5,6,...|\n",
            "|[even, beatles, w...|(50,[0,1,2,3,4,5,...|\n",
            "|[brass, pictures,...|(50,[0,1,2,3,4,5,...|\n",
            "|[funny, thing, ha...|(50,[0,2,3,7,8,10...|\n",
            "|[german, horror, ...|(50,[0,2,3,5,7,8,...|\n",
            "|[longtime, fan, j...|(50,[0,1,3,5,7,10...|\n",
            "|[tokyo, eyes, tel...|(50,[0,1,3,4,5,8,...|\n",
            "|[wealthy, horse, ...|(50,[0,1,2,3,5,6,...|\n",
            "+--------------------+--------------------+\n",
            "\n"
          ]
        }
      ]
    },
    {
      "cell_type": "markdown",
      "source": [
        "### TF-IDF: ponderando palavras"
      ],
      "metadata": {
        "id": "9Tg82fhidl1E"
      }
    },
    {
      "cell_type": "markdown",
      "source": [
        "<img src='https://www.alura.com.br/artigos/assets/guia-nlp-conceitos-tecnicas/calculo-tfidf.png'>"
      ],
      "metadata": {
        "id": "K4aQ33BjejI6"
      }
    },
    {
      "cell_type": "code",
      "source": [
        "from pyspark.ml.feature import IDF"
      ],
      "metadata": {
        "id": "-0oXVevoct_j"
      },
      "execution_count": null,
      "outputs": []
    },
    {
      "cell_type": "code",
      "source": [
        "idf = IDF(inputCol = 'hashing_tf', outputCol = 'features')"
      ],
      "metadata": {
        "id": "5FRYQQ7_duVW"
      },
      "execution_count": null,
      "outputs": []
    },
    {
      "cell_type": "code",
      "source": [
        "idf_model = idf.fit(htf_featurized_data)"
      ],
      "metadata": {
        "id": "w9arKwuvd1HG"
      },
      "execution_count": null,
      "outputs": []
    },
    {
      "cell_type": "code",
      "source": [
        "idf_featurized_data = idf_model.transform(htf_featurized_data)"
      ],
      "metadata": {
        "id": "f3en0gDjd4uj"
      },
      "execution_count": null,
      "outputs": []
    },
    {
      "cell_type": "code",
      "source": [
        "idf_featurized_data.select('tokens_final', 'features').limit(10).show()"
      ],
      "metadata": {
        "colab": {
          "base_uri": "https://localhost:8080/"
        },
        "id": "fhW5Q1g_eAPx",
        "outputId": "3da2f1d1-9917-460b-8cf3-d3aa54786f41"
      },
      "execution_count": null,
      "outputs": [
        {
          "output_type": "stream",
          "name": "stdout",
          "text": [
            "+--------------------+--------------------+\n",
            "|        tokens_final|            features|\n",
            "+--------------------+--------------------+\n",
            "|[mr, costner, dra...|(50,[0,5,6,7,8,10...|\n",
            "|[example, majorit...|(50,[0,1,2,3,4,5,...|\n",
            "|[first, hate, mor...|(50,[0,1,2,3,5,6,...|\n",
            "|[even, beatles, w...|(50,[0,1,2,3,4,5,...|\n",
            "|[brass, pictures,...|(50,[0,1,2,3,4,5,...|\n",
            "|[funny, thing, ha...|(50,[0,2,3,7,8,10...|\n",
            "|[german, horror, ...|(50,[0,2,3,5,7,8,...|\n",
            "|[longtime, fan, j...|(50,[0,1,3,5,7,10...|\n",
            "|[tokyo, eyes, tel...|(50,[0,1,3,4,5,8,...|\n",
            "|[wealthy, horse, ...|(50,[0,1,2,3,5,6,...|\n",
            "+--------------------+--------------------+\n",
            "\n"
          ]
        }
      ]
    },
    {
      "cell_type": "markdown",
      "source": [
        "## Codificando target"
      ],
      "metadata": {
        "id": "EUw9OrHze9Oy"
      }
    },
    {
      "cell_type": "code",
      "source": [
        "idf_featurized_data.groupBy('sentiment').count().show()"
      ],
      "metadata": {
        "colab": {
          "base_uri": "https://localhost:8080/"
        },
        "id": "0Rc8oPIyeG5R",
        "outputId": "f2c1dd8e-279b-4137-a755-2c12f4412b78"
      },
      "execution_count": null,
      "outputs": [
        {
          "output_type": "stream",
          "name": "stdout",
          "text": [
            "+---------+-----+\n",
            "|sentiment|count|\n",
            "+---------+-----+\n",
            "|      pos|24694|\n",
            "|      neg|24765|\n",
            "+---------+-----+\n",
            "\n"
          ]
        }
      ]
    },
    {
      "cell_type": "code",
      "source": [
        "from pyspark.ml.feature import StringIndexer"
      ],
      "metadata": {
        "id": "FVAgJ2UgfDZd"
      },
      "execution_count": null,
      "outputs": []
    },
    {
      "cell_type": "code",
      "source": [
        "string_indexer = StringIndexer(inputCol='sentiment', outputCol='label')"
      ],
      "metadata": {
        "id": "WaZbkXxQfHcs"
      },
      "execution_count": null,
      "outputs": []
    },
    {
      "cell_type": "code",
      "source": [
        "dataset = string_indexer.fit(dados).transform(dados)"
      ],
      "metadata": {
        "id": "MT7tdehNfNdP"
      },
      "execution_count": null,
      "outputs": []
    },
    {
      "cell_type": "code",
      "source": [
        "dataset.groupBy(['sentiment', 'label']).count().show()"
      ],
      "metadata": {
        "colab": {
          "base_uri": "https://localhost:8080/"
        },
        "id": "tLOtiPYYfTVd",
        "outputId": "3d7cb084-6bdc-42ba-d5a7-8e34dae142cf"
      },
      "execution_count": null,
      "outputs": [
        {
          "output_type": "stream",
          "name": "stdout",
          "text": [
            "+---------+-----+-----+\n",
            "|sentiment|label|count|\n",
            "+---------+-----+-----+\n",
            "|      pos|  1.0|24694|\n",
            "|      neg|  0.0|24765|\n",
            "+---------+-----+-----+\n",
            "\n"
          ]
        }
      ]
    },
    {
      "cell_type": "markdown",
      "source": [
        "## Utilizando Pipeline"
      ],
      "metadata": {
        "id": "N8cCe43Tfz00"
      }
    },
    {
      "cell_type": "code",
      "source": [
        "from pyspark.ml import Pipeline\n",
        "\n",
        "tokenizer = Tokenizer(inputCol = \"text_en_limpo\", outputCol = \"tokens\")\n",
        "\n",
        "stopwords = StopWordsRemover(inputCol=\"tokens\", outputCol=\"tokens_final\")\n",
        "\n",
        "hashing_tf = HashingTF(inputCol=stopwords.getOutputCol(), outputCol=\"HTF\", numFeatures=1000)\n",
        "\n",
        "tfidf = IDF(inputCol=\"HTF\", outputCol=\"features\")\n",
        "\n",
        "string_indexer = StringIndexer(inputCol='sentiment', outputCol='label')\n",
        "\n",
        "pipeline = Pipeline(stages = [tokenizer, stopwords, hashing_tf, tfidf, string_indexer])"
      ],
      "metadata": {
        "id": "LsTicmHrf5CH"
      },
      "execution_count": null,
      "outputs": []
    },
    {
      "cell_type": "code",
      "source": [
        "dados_transformados = pipeline.fit(dados).transform(dados)"
      ],
      "metadata": {
        "id": "GCVmQX7fgI96"
      },
      "execution_count": null,
      "outputs": []
    },
    {
      "cell_type": "code",
      "source": [
        "dados_transformados.select('tokens_final', 'HTF', 'features', 'label').limit(10).show()"
      ],
      "metadata": {
        "colab": {
          "base_uri": "https://localhost:8080/"
        },
        "id": "qzpL1XDegP5c",
        "outputId": "3c8ec672-230b-4908-d844-90ab8fcbbe4d"
      },
      "execution_count": null,
      "outputs": [
        {
          "output_type": "stream",
          "name": "stdout",
          "text": [
            "+--------------------+--------------------+--------------------+-----+\n",
            "|        tokens_final|                 HTF|            features|label|\n",
            "+--------------------+--------------------+--------------------+-----+\n",
            "|[mr, costner, dra...|(1000,[10,21,34,4...|(1000,[10,21,34,4...|  0.0|\n",
            "|[example, majorit...|(1000,[0,3,11,12,...|(1000,[0,3,11,12,...|  0.0|\n",
            "|[first, hate, mor...|(1000,[1,7,33,38,...|(1000,[1,7,33,38,...|  0.0|\n",
            "|[even, beatles, w...|(1000,[0,3,10,12,...|(1000,[0,3,10,12,...|  0.0|\n",
            "|[brass, pictures,...|(1000,[3,6,7,11,3...|(1000,[3,6,7,11,3...|  0.0|\n",
            "|[funny, thing, ha...|(1000,[0,3,11,38,...|(1000,[0,3,11,38,...|  0.0|\n",
            "|[german, horror, ...|(1000,[3,29,34,43...|(1000,[3,29,34,43...|  0.0|\n",
            "|[longtime, fan, j...|(1000,[1,3,12,26,...|(1000,[1,3,12,26,...|  0.0|\n",
            "|[tokyo, eyes, tel...|(1000,[3,29,48,77...|(1000,[3,29,48,77...|  0.0|\n",
            "|[wealthy, horse, ...|(1000,[10,18,32,3...|(1000,[10,18,32,3...|  0.0|\n",
            "+--------------------+--------------------+--------------------+-----+\n",
            "\n"
          ]
        }
      ]
    },
    {
      "cell_type": "markdown",
      "source": [
        "## Selecionando features"
      ],
      "metadata": {
        "id": "2_6pCFYZcNpE"
      }
    },
    {
      "cell_type": "code",
      "source": [
        "feature_df = dados_transformados.select('features', 'label')"
      ],
      "metadata": {
        "id": "UhH-urMMgbMz"
      },
      "execution_count": null,
      "outputs": []
    },
    {
      "cell_type": "code",
      "source": [
        "feature_df.printSchema()"
      ],
      "metadata": {
        "colab": {
          "base_uri": "https://localhost:8080/"
        },
        "id": "D82rbKGgcDFe",
        "outputId": "9458c6ed-7a3c-433e-eebf-bd8c77a95800"
      },
      "execution_count": null,
      "outputs": [
        {
          "output_type": "stream",
          "name": "stdout",
          "text": [
            "root\n",
            " |-- features: vector (nullable = true)\n",
            " |-- label: double (nullable = false)\n",
            "\n"
          ]
        }
      ]
    },
    {
      "cell_type": "code",
      "source": [
        "feature_df.show(5)"
      ],
      "metadata": {
        "colab": {
          "base_uri": "https://localhost:8080/"
        },
        "id": "-RYx9ybWc6BR",
        "outputId": "7c0fb8c3-444c-464a-f4a8-be5760107fe2"
      },
      "execution_count": null,
      "outputs": [
        {
          "output_type": "stream",
          "name": "stdout",
          "text": [
            "+--------------------+-----+\n",
            "|            features|label|\n",
            "+--------------------+-----+\n",
            "|(1000,[10,21,34,4...|  0.0|\n",
            "|(1000,[0,3,11,12,...|  0.0|\n",
            "|(1000,[1,7,33,38,...|  0.0|\n",
            "|(1000,[0,3,10,12,...|  0.0|\n",
            "|(1000,[3,6,7,11,3...|  0.0|\n",
            "+--------------------+-----+\n",
            "only showing top 5 rows\n",
            "\n"
          ]
        }
      ]
    },
    {
      "cell_type": "markdown",
      "source": [
        "### Pipeline"
      ],
      "metadata": {
        "id": "RyZ2X2UJdOix"
      }
    },
    {
      "cell_type": "code",
      "source": [
        "from pyspark.ml import Pipeline\n",
        "from pyspark.ml.classification import DecisionTreeClassifier\n",
        "\n",
        "tokenizer = Tokenizer(inputCol = \"text_en_limpo\", outputCol = \"tokens\")\n",
        "\n",
        "stopwords = StopWordsRemover(inputCol=\"tokens\", outputCol=\"tokens_final\")\n",
        "\n",
        "hashing_tf = HashingTF(inputCol=stopwords.getOutputCol(), outputCol=\"HTF\", numFeatures=1000)\n",
        "\n",
        "tfidf = IDF(inputCol=\"HTF\", outputCol=\"features\")\n",
        "\n",
        "string_indexer = StringIndexer(inputCol='sentiment', outputCol='label')\n",
        "\n",
        "dt = DecisionTreeClassifier(featuresCol = 'features', labelCol = 'label', maxDepth=10)\n",
        "\n",
        "pipeline = Pipeline(stages = [tokenizer, stopwords, hashing_tf, tfidf, string_indexer, dt])"
      ],
      "metadata": {
        "id": "w6UwGSlIccNV"
      },
      "execution_count": null,
      "outputs": []
    },
    {
      "cell_type": "markdown",
      "source": [
        "## Amostra e treino"
      ],
      "metadata": {
        "id": "1IWNtEmAdLcH"
      }
    },
    {
      "cell_type": "code",
      "source": [
        "train, test = dados.randomSplit([0.7, 0.3], seed=101)"
      ],
      "metadata": {
        "id": "HM0vVDx1dFA4"
      },
      "execution_count": null,
      "outputs": []
    },
    {
      "cell_type": "markdown",
      "source": [
        "### Ajustando modelo com o pipeline"
      ],
      "metadata": {
        "id": "0x2J9zbidhI0"
      }
    },
    {
      "cell_type": "code",
      "source": [
        "dt_model = pipeline.fit(train)"
      ],
      "metadata": {
        "id": "6SETu_zYdd-H"
      },
      "execution_count": null,
      "outputs": []
    },
    {
      "cell_type": "code",
      "source": [
        "predictions = dt_model.transform(test)"
      ],
      "metadata": {
        "id": "k3PC8A34dlsl"
      },
      "execution_count": null,
      "outputs": []
    },
    {
      "cell_type": "code",
      "source": [
        "predictions.show()"
      ],
      "metadata": {
        "colab": {
          "base_uri": "https://localhost:8080/"
        },
        "id": "Jqh-GCT3durl",
        "outputId": "a22a3fbf-3b5b-4f52-e9a4-7d253e6e4e19"
      },
      "execution_count": null,
      "outputs": [
        {
          "output_type": "stream",
          "name": "stdout",
          "text": [
            "+---+--------------------+--------------------+---------+--------------------+--------------------+--------------------+--------------------+--------------------+--------------------+-----+---------------+--------------------+----------+\n",
            "| id|             text_en|             text_pt|sentiment|       text_en_regex|       text_en_limpo|              tokens|        tokens_final|                 HTF|            features|label|  rawPrediction|         probability|prediction|\n",
            "+---+--------------------+--------------------+---------+--------------------+--------------------+--------------------+--------------------+--------------------+--------------------+-----+---------------+--------------------+----------+\n",
            "|  5|Brass pictures mo...|Filmes de fotos d...|      neg|Brass pictures mo...|Brass pictures mo...|[brass, pictures,...|[brass, pictures,...|(1000,[3,6,7,11,3...|(1000,[3,6,7,11,3...|  1.0| [1108.0,369.0]|[0.75016926201760...|       0.0|\n",
            "|  6|A funny thing hap...|Uma coisa engraça...|      neg|A funny thing hap...|A funny thing hap...|[a, funny, thing,...|[funny, thing, ha...|(1000,[0,3,11,38,...|(1000,[0,3,11,38,...|  1.0|[3152.0,2431.0]|[0.56457101916532...|       0.0|\n",
            "| 15|This film is abso...|Este filme é abso...|      neg|This film is abso...|This film is abso...|[this, film, is, ...|[film, absolutely...|(1000,[0,3,14,32,...|(1000,[0,3,14,32,...|  1.0|  [972.0,403.0]|[0.70690909090909...|       0.0|\n",
            "| 16|Heres a decidedly...|Heres um decidida...|      neg|Heres a decidedly...|Heres a decidedly...|[heres, a, decide...|[heres, decidedly...|(1000,[0,2,3,11,2...|(1000,[0,2,3,11,2...|  1.0|    [95.0,51.0]|[0.65068493150684...|       0.0|\n",
            "| 19|Many people are s...|Muitas pessoas es...|      neg|Many people are s...|Many people are s...|[many, people, ar...|[many, people, st...|(1000,[1,3,12,16,...|(1000,[1,3,12,16,...|  1.0|   [53.0,586.0]|[0.08294209702660...|       1.0|\n",
            "| 21|The best thing ab...|A melhor coisa so...|      neg|The best thing ab...|The best thing ab...|[the, best, thing...|[best, thing, pre...|(1000,[3,9,10,138...|(1000,[3,9,10,138...|  1.0|  [105.0,669.0]|[0.13565891472868...|       1.0|\n",
            "| 23|Im a huge fan of ...|Sou um grande fã ...|      neg|Im a huge fan of ...|Im a huge fan of ...|[im, a, huge, fan...|[im, huge, fan, e...|(1000,[16,17,28,3...|(1000,[16,17,28,3...|  1.0|     [22.0,0.0]|           [1.0,0.0]|       0.0|\n",
            "| 24|Sure, most of the...|Claro, a maioria ...|      neg|Sure most of the ...|Sure most of the ...|[sure, most, of, ...|[sure, slasher, f...|(1000,[3,13,18,23...|(1000,[3,13,18,23...|  1.0| [322.0,1132.0]|[0.22145804676753...|       1.0|\n",
            "| 34|I was pulled into...|Eu fui puxada par...|      neg|I was pulled into...|I was pulled into...|[i, was, pulled, ...|[pulled, movie, e...|(1000,[3,29,53,61...|(1000,[3,29,53,61...|  1.0|  [972.0,403.0]|[0.70690909090909...|       0.0|\n",
            "| 36|All the criticism...|Todas as críticas...|      neg|All the criticism...|All the criticism...|[all, the, critic...|[criticisms, movi...|(1000,[1,4,7,27,3...|(1000,[1,4,7,27,3...|  1.0|[3152.0,2431.0]|[0.56457101916532...|       0.0|\n",
            "| 37|I walked into a b...|Eu entrei em uma ...|      neg|I walked into a b...|I walked into a b...|[i, walked, into,...|[walked, book, st...|(1000,[1,3,10,14,...|(1000,[1,3,10,14,...|  1.0|  [201.0,244.0]|[0.45168539325842...|       1.0|\n",
            "| 43|I wanted to like ...|Eu queria gostar ...|      neg|I wanted to like ...|I wanted to like ...|[i, wanted, to, l...|[wanted, like, mo...|(1000,[0,3,5,24,5...|(1000,[0,3,5,24,5...|  1.0|  [327.0,644.0]|[0.33676622039134...|       1.0|\n",
            "| 48|I love ghost stor...|Eu amo histórias ...|      neg|I love ghost stor...|I love ghost stor...|[i, love, ghost, ...|[love, ghost, sto...|(1000,[54,55,112,...|(1000,[54,55,112,...|  1.0|  [241.0,503.0]|[0.32392473118279...|       1.0|\n",
            "| 51|I saw this movie ...|Eu vi esse filme ...|      neg|I saw this movie ...|I saw this movie ...|[i, saw, this, mo...|[saw, movie, yest...|(1000,[0,7,26,55,...|(1000,[0,7,26,55,...|  1.0|  [504.0,681.0]|[0.42531645569620...|       1.0|\n",
            "| 52|This is one of th...|Este é um daquele...|      neg|This is one of th...|This is one of th...|[this, is, one, o...|[one, strange, se...|(1000,[2,4,17,21,...|(1000,[2,4,17,21,...|  1.0|     [39.0,7.0]|[0.84782608695652...|       0.0|\n",
            "| 53|This failed exerc...|Este exercício fr...|      neg|This failed exerc...|This failed exerc...|[this, failed, ex...|[failed, exercise...|(1000,[0,22,44,53...|(1000,[0,22,44,53...|  1.0|   [53.0,586.0]|[0.08294209702660...|       1.0|\n",
            "| 57|From time to time...|De vez em quando ...|      neg|From time to time...|From time to time...|[from, time, to, ...|[time, time, advi...|(1000,[0,3,18,23,...|(1000,[0,3,18,23,...|  1.0|      [9.0,0.0]|           [1.0,0.0]|       0.0|\n",
            "| 59|This is a family ...|Este é um filme d...|      neg|This is a family ...|This is a family ...|[this, is, a, fam...|[family, movie, b...|(1000,[3,19,61,74...|(1000,[3,19,61,74...|  1.0|  [103.0,758.0]|[0.11962833914053...|       1.0|\n",
            "| 62|Veteran TV direct...|O veterano direto...|      neg|Veteran TV direct...|Veteran TV direct...|[veteran, tv, dir...|[veteran, tv, dir...|(1000,[0,7,17,32,...|(1000,[0,7,17,32,...|  1.0|  [234.0,606.0]|[0.27857142857142...|       1.0|\n",
            "| 64|Nightkill stars R...|Nightkill estrela...|      neg|Nightkill stars R...|Nightkill stars R...|[nightkill, stars...|[nightkill, stars...|(1000,[0,3,21,32,...|(1000,[0,3,21,32,...|  1.0|   [53.0,586.0]|[0.08294209702660...|       1.0|\n",
            "+---+--------------------+--------------------+---------+--------------------+--------------------+--------------------+--------------------+--------------------+--------------------+-----+---------------+--------------------+----------+\n",
            "only showing top 20 rows\n",
            "\n"
          ]
        }
      ]
    },
    {
      "cell_type": "markdown",
      "source": [
        "### Teste e Métricas"
      ],
      "metadata": {
        "id": "fRFFsGGNeN0I"
      }
    },
    {
      "cell_type": "code",
      "source": [
        "predictions.select('label', 'prediction').show()"
      ],
      "metadata": {
        "colab": {
          "base_uri": "https://localhost:8080/"
        },
        "id": "odD6pIRcdxWE",
        "outputId": "5bcb1f29-b979-4145-c030-b424bb7a3f3b"
      },
      "execution_count": null,
      "outputs": [
        {
          "output_type": "stream",
          "name": "stdout",
          "text": [
            "+-----+----------+\n",
            "|label|prediction|\n",
            "+-----+----------+\n",
            "|  1.0|       0.0|\n",
            "|  1.0|       0.0|\n",
            "|  1.0|       0.0|\n",
            "|  1.0|       0.0|\n",
            "|  1.0|       1.0|\n",
            "|  1.0|       1.0|\n",
            "|  1.0|       0.0|\n",
            "|  1.0|       1.0|\n",
            "|  1.0|       0.0|\n",
            "|  1.0|       0.0|\n",
            "|  1.0|       1.0|\n",
            "|  1.0|       1.0|\n",
            "|  1.0|       1.0|\n",
            "|  1.0|       1.0|\n",
            "|  1.0|       0.0|\n",
            "|  1.0|       1.0|\n",
            "|  1.0|       0.0|\n",
            "|  1.0|       1.0|\n",
            "|  1.0|       1.0|\n",
            "|  1.0|       1.0|\n",
            "+-----+----------+\n",
            "only showing top 20 rows\n",
            "\n"
          ]
        }
      ]
    },
    {
      "cell_type": "code",
      "source": [
        "from pyspark.ml.evaluation import MulticlassClassificationEvaluator\n",
        "evaluator = MulticlassClassificationEvaluator(predictionCol = 'prediction', labelCol = 'label', metricName='accuracy')\n",
        "\n",
        "accuracy = evaluator.evaluate(predictions)"
      ],
      "metadata": {
        "id": "hx6npJeqeXHt"
      },
      "execution_count": null,
      "outputs": []
    },
    {
      "cell_type": "code",
      "source": [
        "print(f\"Acurácia = {accuracy*100}%\")"
      ],
      "metadata": {
        "colab": {
          "base_uri": "https://localhost:8080/"
        },
        "id": "yfap6UloetV-",
        "outputId": "b3b64deb-522c-4a1c-c2f3-b4a43ba3b29d"
      },
      "execution_count": null,
      "outputs": [
        {
          "output_type": "stream",
          "name": "stdout",
          "text": [
            "Acurácia = 67.33468286099865%\n"
          ]
        }
      ]
    },
    {
      "cell_type": "markdown",
      "source": [
        "### Nova frase"
      ],
      "metadata": {
        "id": "mzLs3RZbfLem"
      }
    },
    {
      "cell_type": "code",
      "source": [
        "nova_base = spark.createDataFrame([\n",
        "        (1, \"This is without doubt the worst movie i have ever seen, I hated the acting of the actor.\"),\n",
        "        (0, \"I loved the movie, excellent acting!\"),\n",
        "    ], [\"id\", \"text_en_limpo\"])"
      ],
      "metadata": {
        "id": "AnTg3tf3eujW"
      },
      "execution_count": null,
      "outputs": []
    },
    {
      "cell_type": "code",
      "source": [
        "nova_class = dt_model.transform(nova_base)"
      ],
      "metadata": {
        "id": "6UjZclztfURX"
      },
      "execution_count": null,
      "outputs": []
    },
    {
      "cell_type": "code",
      "source": [
        "nova_class.select('id', 'text_en_limpo', 'prediction').orderBy('id').show(truncate=False)"
      ],
      "metadata": {
        "colab": {
          "base_uri": "https://localhost:8080/"
        },
        "id": "01vuvawrfeNf",
        "outputId": "591f797e-d34c-45fc-dbff-817ec8a9614e"
      },
      "execution_count": null,
      "outputs": [
        {
          "output_type": "stream",
          "name": "stdout",
          "text": [
            "+---+----------------------------------------------------------------------------------------+----------+\n",
            "|id |text_en_limpo                                                                           |prediction|\n",
            "+---+----------------------------------------------------------------------------------------+----------+\n",
            "|0  |I loved the movie, excellent acting!                                                    |0.0       |\n",
            "|1  |This is without doubt the worst movie i have ever seen, I hated the acting of the actor.|1.0       |\n",
            "+---+----------------------------------------------------------------------------------------+----------+\n",
            "\n"
          ]
        }
      ]
    }
  ]
}